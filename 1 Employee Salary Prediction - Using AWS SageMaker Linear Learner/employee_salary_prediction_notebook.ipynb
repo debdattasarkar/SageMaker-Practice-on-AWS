{
 "cells": [
  {
   "cell_type": "markdown",
   "metadata": {
    "colab_type": "text",
    "id": "M27qF7CTrBqc"
   },
   "source": [
    "# Employee Salary Prediction - Using AWS SageMaker Linear Learner"
   ]
  },
  {
   "cell_type": "markdown",
   "metadata": {},
   "source": [
    "----"
   ]
  },
  {
   "cell_type": "markdown",
   "metadata": {},
   "source": [
    "# TASK #1: UNDERSTAND THE PROBLEM STATEMENT "
   ]
  },
  {
   "cell_type": "markdown",
   "metadata": {
    "colab_type": "text",
    "id": "xNl52nl3qiyL"
   },
   "source": [
    "- The objective of this case study is to predict the employee salary based on the number of years of experience. \n",
    "- In simple linear regression, we predict the value of one variable Y based on another variable X.\n",
    "- X is called the independent variable and Y is called the dependant variable.\n",
    "- Why simple? Because it examines relationship between two variables only.\n",
    "- Why linear? when the independent variable increases (or decreases), the dependent variable increases (or decreases) in a linear fashion.\n"
   ]
  },
  {
   "cell_type": "markdown",
   "metadata": {
    "colab_type": "text",
    "id": "zKmFmyaGunc7"
   },
   "source": [
    "# TASK #2: IMPORT LIBRARIES AND DATASETS"
   ]
  },
  {
   "cell_type": "code",
   "execution_count": 3,
   "metadata": {},
   "outputs": [
    {
     "name": "stdout",
     "output_type": "stream",
     "text": [
      "/opt/conda/lib/python3.7/site-packages/secretstorage/dhcrypto.py:16: CryptographyDeprecationWarning: int_from_bytes is deprecated, use int.from_bytes instead\n",
      "  from cryptography.utils import int_from_bytes\n",
      "/opt/conda/lib/python3.7/site-packages/secretstorage/util.py:25: CryptographyDeprecationWarning: int_from_bytes is deprecated, use int.from_bytes instead\n",
      "  from cryptography.utils import int_from_bytes\n",
      "Collecting tensorflow\n",
      "  Downloading tensorflow-2.6.0-cp37-cp37m-manylinux2010_x86_64.whl (458.3 MB)\n",
      "\u001b[K     |████████████████████████████████| 458.3 MB 6.4 kB/s  eta 0:00:01     |████████████████████████▋       | 352.0 MB 61.1 MB/s eta 0:00:02     |██████████████████████████▍     | 377.1 MB 56.7 MB/s eta 0:00:02\n",
      "\u001b[?25hCollecting wheel~=0.35\n",
      "  Downloading wheel-0.37.0-py2.py3-none-any.whl (35 kB)\n",
      "Collecting termcolor~=1.1.0\n",
      "  Downloading termcolor-1.1.0.tar.gz (3.9 kB)\n",
      "Collecting tensorboard~=2.6\n",
      "  Downloading tensorboard-2.7.0-py3-none-any.whl (5.8 MB)\n",
      "\u001b[K     |████████████████████████████████| 5.8 MB 14.6 MB/s eta 0:00:01\n",
      "\u001b[?25hCollecting keras~=2.6\n",
      "  Downloading keras-2.6.0-py2.py3-none-any.whl (1.3 MB)\n",
      "\u001b[K     |████████████████████████████████| 1.3 MB 71.0 MB/s eta 0:00:01\n",
      "\u001b[?25hCollecting h5py~=3.1.0\n",
      "  Downloading h5py-3.1.0-cp37-cp37m-manylinux1_x86_64.whl (4.0 MB)\n",
      "\u001b[K     |████████████████████████████████| 4.0 MB 42.4 MB/s eta 0:00:01\n",
      "\u001b[?25hCollecting tensorflow-estimator~=2.6\n",
      "  Downloading tensorflow_estimator-2.6.0-py2.py3-none-any.whl (462 kB)\n",
      "\u001b[K     |████████████████████████████████| 462 kB 60.6 MB/s eta 0:00:01\n",
      "\u001b[?25hCollecting grpcio<2.0,>=1.37.0\n",
      "  Downloading grpcio-1.41.0-cp37-cp37m-manylinux_2_17_x86_64.manylinux2014_x86_64.whl (3.9 MB)\n",
      "\u001b[K     |████████████████████████████████| 3.9 MB 55.2 MB/s eta 0:00:01\n",
      "\u001b[?25hCollecting gast==0.4.0\n",
      "  Downloading gast-0.4.0-py3-none-any.whl (9.8 kB)\n",
      "Requirement already satisfied: google-pasta~=0.2 in /opt/conda/lib/python3.7/site-packages (from tensorflow) (0.2.0)\n",
      "Collecting flatbuffers~=1.12.0\n",
      "  Downloading flatbuffers-1.12-py2.py3-none-any.whl (15 kB)\n",
      "Collecting six~=1.15.0\n",
      "  Downloading six-1.15.0-py2.py3-none-any.whl (10 kB)\n",
      "Collecting astunparse~=1.6.3\n",
      "  Downloading astunparse-1.6.3-py2.py3-none-any.whl (12 kB)\n",
      "Requirement already satisfied: protobuf>=3.9.2 in /opt/conda/lib/python3.7/site-packages (from tensorflow) (3.18.0)\n",
      "Collecting clang~=5.0\n",
      "  Downloading clang-5.0.tar.gz (30 kB)\n",
      "Collecting keras-preprocessing~=1.1.2\n",
      "  Downloading Keras_Preprocessing-1.1.2-py2.py3-none-any.whl (42 kB)\n",
      "\u001b[K     |████████████████████████████████| 42 kB 180 kB/s  eta 0:00:01\n",
      "\u001b[?25hCollecting absl-py~=0.10\n",
      "  Downloading absl_py-0.15.0-py3-none-any.whl (132 kB)\n",
      "\u001b[K     |████████████████████████████████| 132 kB 74.8 MB/s eta 0:00:01\n",
      "\u001b[?25hCollecting opt-einsum~=3.3.0\n",
      "  Downloading opt_einsum-3.3.0-py3-none-any.whl (65 kB)\n",
      "\u001b[K     |████████████████████████████████| 65 kB 495 kB/s  eta 0:00:01\n",
      "\u001b[?25hCollecting wrapt~=1.12.1\n",
      "  Downloading wrapt-1.12.1.tar.gz (27 kB)\n",
      "Collecting typing-extensions~=3.7.4\n",
      "  Downloading typing_extensions-3.7.4.3-py3-none-any.whl (22 kB)\n",
      "Collecting numpy~=1.19.2\n",
      "  Downloading numpy-1.19.5-cp37-cp37m-manylinux2010_x86_64.whl (14.8 MB)\n",
      "\u001b[K     |████████████████████████████████| 14.8 MB 29.3 MB/s eta 0:00:01\n",
      "\u001b[?25hRequirement already satisfied: cached-property in /opt/conda/lib/python3.7/site-packages (from h5py~=3.1.0->tensorflow) (1.5.2)\n",
      "Collecting markdown>=2.6.8\n",
      "  Downloading Markdown-3.3.4-py3-none-any.whl (97 kB)\n",
      "\u001b[K     |████████████████████████████████| 97 kB 910 kB/s  eta 0:00:01\n",
      "\u001b[?25hRequirement already satisfied: werkzeug>=0.11.15 in /opt/conda/lib/python3.7/site-packages (from tensorboard~=2.6->tensorflow) (1.0.0)\n",
      "Collecting google-auth-oauthlib<0.5,>=0.4.1\n",
      "  Downloading google_auth_oauthlib-0.4.6-py2.py3-none-any.whl (18 kB)\n",
      "Collecting tensorboard-data-server<0.7.0,>=0.6.0\n",
      "  Downloading tensorboard_data_server-0.6.1-py3-none-manylinux2010_x86_64.whl (4.9 MB)\n",
      "\u001b[K     |████████████████████████████████| 4.9 MB 69.6 MB/s eta 0:00:01     |██████████████████▌             | 2.8 MB 69.6 MB/s eta 0:00:01\n",
      "\u001b[?25hCollecting tensorboard-plugin-wit>=1.6.0\n",
      "  Downloading tensorboard_plugin_wit-1.8.0-py3-none-any.whl (781 kB)\n",
      "\u001b[K     |████████████████████████████████| 781 kB 54.1 MB/s eta 0:00:01\n",
      "\u001b[?25hRequirement already satisfied: requests<3,>=2.21.0 in /opt/conda/lib/python3.7/site-packages (from tensorboard~=2.6->tensorflow) (2.26.0)\n",
      "Requirement already satisfied: setuptools>=41.0.0 in /opt/conda/lib/python3.7/site-packages (from tensorboard~=2.6->tensorflow) (58.1.0)\n",
      "Collecting google-auth<3,>=1.6.3\n",
      "  Downloading google_auth-2.3.0-py2.py3-none-any.whl (154 kB)\n",
      "\u001b[K     |████████████████████████████████| 154 kB 79.4 MB/s eta 0:00:01\n",
      "\u001b[?25hRequirement already satisfied: rsa<5,>=3.1.4 in /opt/conda/lib/python3.7/site-packages (from google-auth<3,>=1.6.3->tensorboard~=2.6->tensorflow) (4.7.2)\n",
      "Collecting cachetools<5.0,>=2.0.0\n",
      "  Downloading cachetools-4.2.4-py3-none-any.whl (10 kB)\n",
      "Collecting pyasn1-modules>=0.2.1\n",
      "  Downloading pyasn1_modules-0.2.8-py2.py3-none-any.whl (155 kB)\n",
      "\u001b[K     |████████████████████████████████| 155 kB 68.1 MB/s eta 0:00:01\n",
      "\u001b[?25hCollecting requests-oauthlib>=0.7.0\n",
      "  Downloading requests_oauthlib-1.3.0-py2.py3-none-any.whl (23 kB)\n",
      "Requirement already satisfied: importlib-metadata in /opt/conda/lib/python3.7/site-packages (from markdown>=2.6.8->tensorboard~=2.6->tensorflow) (1.5.0)\n",
      "Requirement already satisfied: pyasn1<0.5.0,>=0.4.6 in /opt/conda/lib/python3.7/site-packages (from pyasn1-modules>=0.2.1->google-auth<3,>=1.6.3->tensorboard~=2.6->tensorflow) (0.4.8)\n",
      "Requirement already satisfied: certifi>=2017.4.17 in /opt/conda/lib/python3.7/site-packages (from requests<3,>=2.21.0->tensorboard~=2.6->tensorflow) (2021.5.30)\n",
      "Requirement already satisfied: urllib3<1.27,>=1.21.1 in /opt/conda/lib/python3.7/site-packages (from requests<3,>=2.21.0->tensorboard~=2.6->tensorflow) (1.26.7)\n",
      "Requirement already satisfied: charset-normalizer~=2.0.0 in /opt/conda/lib/python3.7/site-packages (from requests<3,>=2.21.0->tensorboard~=2.6->tensorflow) (2.0.4)\n",
      "Requirement already satisfied: idna<4,>=2.5 in /opt/conda/lib/python3.7/site-packages (from requests<3,>=2.21.0->tensorboard~=2.6->tensorflow) (2.8)\n",
      "Collecting oauthlib>=3.0.0\n",
      "  Downloading oauthlib-3.1.1-py2.py3-none-any.whl (146 kB)\n",
      "\u001b[K     |████████████████████████████████| 146 kB 64.2 MB/s eta 0:00:01\n",
      "\u001b[?25hRequirement already satisfied: zipp>=0.5 in /opt/conda/lib/python3.7/site-packages (from importlib-metadata->markdown>=2.6.8->tensorboard~=2.6->tensorflow) (2.2.0)\n",
      "Building wheels for collected packages: clang, termcolor, wrapt\n",
      "  Building wheel for clang (setup.py) ... \u001b[?25ldone\n",
      "\u001b[?25h  Created wheel for clang: filename=clang-5.0-py3-none-any.whl size=30694 sha256=c6fdb4a79222b91e7f37c61e7e444dbfc37b1c9ab0e31dbd87e64f62237e8d82\n",
      "  Stored in directory: /root/.cache/pip/wheels/98/91/04/971b4c587cf47ae952b108949b46926f426c02832d120a082a\n",
      "  Building wheel for termcolor (setup.py) ... \u001b[?25ldone\n",
      "\u001b[?25h  Created wheel for termcolor: filename=termcolor-1.1.0-py3-none-any.whl size=4847 sha256=e7b30c579e97cf437f8c11c70cfbc3602c8035d04c689d871b8a352a6e9658a3\n",
      "  Stored in directory: /root/.cache/pip/wheels/3f/e3/ec/8a8336ff196023622fbcb36de0c5a5c218cbb24111d1d4c7f2\n",
      "  Building wheel for wrapt (setup.py) ... \u001b[?25ldone\n",
      "\u001b[?25h  Created wheel for wrapt: filename=wrapt-1.12.1-py3-none-any.whl size=19572 sha256=586f24f5b8a9af8b93e43df396e0b82b5d22f298bf02462eda1a8db061296965\n",
      "  Stored in directory: /root/.cache/pip/wheels/62/76/4c/aa25851149f3f6d9785f6c869387ad82b3fd37582fa8147ac6\n",
      "Successfully built clang termcolor wrapt\n",
      "Installing collected packages: pyasn1-modules, oauthlib, cachetools, six, requests-oauthlib, google-auth, wheel, tensorboard-plugin-wit, tensorboard-data-server, numpy, markdown, grpcio, google-auth-oauthlib, absl-py, wrapt, typing-extensions, termcolor, tensorflow-estimator, tensorboard, opt-einsum, keras-preprocessing, keras, h5py, gast, flatbuffers, clang, astunparse, tensorflow\n",
      "  Attempting uninstall: six\n",
      "    Found existing installation: six 1.14.0\n",
      "    Uninstalling six-1.14.0:\n",
      "      Successfully uninstalled six-1.14.0\n",
      "  Attempting uninstall: wheel\n",
      "    Found existing installation: wheel 0.34.2\n",
      "    Uninstalling wheel-0.34.2:\n",
      "      Successfully uninstalled wheel-0.34.2\n",
      "  Attempting uninstall: numpy\n",
      "    Found existing installation: numpy 1.20.3\n",
      "    Uninstalling numpy-1.20.3:\n",
      "      Successfully uninstalled numpy-1.20.3\n",
      "  Attempting uninstall: wrapt\n",
      "    Found existing installation: wrapt 1.11.2\n",
      "    Uninstalling wrapt-1.11.2:\n",
      "      Successfully uninstalled wrapt-1.11.2\n",
      "  Attempting uninstall: typing-extensions\n",
      "    Found existing installation: typing-extensions 3.10.0.2\n",
      "    Uninstalling typing-extensions-3.10.0.2:\n",
      "      Successfully uninstalled typing-extensions-3.10.0.2\n",
      "  Attempting uninstall: h5py\n",
      "    Found existing installation: h5py 2.10.0\n",
      "    Uninstalling h5py-2.10.0:\n",
      "      Successfully uninstalled h5py-2.10.0\n",
      "\u001b[31mERROR: pip's dependency resolver does not currently take into account all the packages that are installed. This behaviour is the source of the following dependency conflicts.\n",
      "pytest-astropy 0.8.0 requires pytest-cov>=2.0, which is not installed.\n",
      "pytest-astropy 0.8.0 requires pytest-filter-subpackage>=0.1, which is not installed.\n",
      "pylint 2.11.1 requires typing-extensions>=3.10.0; python_version < \"3.10\", but you have typing-extensions 3.7.4.3 which is incompatible.\n",
      "astroid 2.8.0 requires typing-extensions>=3.10; python_version < \"3.10\", but you have typing-extensions 3.7.4.3 which is incompatible.\n",
      "aiobotocore 1.4.1 requires botocore<1.20.107,>=1.20.106, but you have botocore 1.21.51 which is incompatible.\u001b[0m\n",
      "Successfully installed absl-py-0.15.0 astunparse-1.6.3 cachetools-4.2.4 clang-5.0 flatbuffers-1.12 gast-0.4.0 google-auth-2.3.0 google-auth-oauthlib-0.4.6 grpcio-1.41.0 h5py-3.1.0 keras-2.6.0 keras-preprocessing-1.1.2 markdown-3.3.4 numpy-1.19.5 oauthlib-3.1.1 opt-einsum-3.3.0 pyasn1-modules-0.2.8 requests-oauthlib-1.3.0 six-1.15.0 tensorboard-2.7.0 tensorboard-data-server-0.6.1 tensorboard-plugin-wit-1.8.0 tensorflow-2.6.0 tensorflow-estimator-2.6.0 termcolor-1.1.0 typing-extensions-3.7.4.3 wheel-0.37.0 wrapt-1.12.1\n",
      "\u001b[33mWARNING: Running pip as the 'root' user can result in broken permissions and conflicting behaviour with the system package manager. It is recommended to use a virtual environment instead: https://pip.pypa.io/warnings/venv\u001b[0m\n",
      "\u001b[33mWARNING: You are using pip version 21.2.4; however, version 21.3.1 is available.\n",
      "You should consider upgrading via the '/opt/conda/bin/python -m pip install --upgrade pip' command.\u001b[0m\n"
     ]
    }
   ],
   "source": [
    "# install seaborn library\n",
    "# !pip install seaborn\n",
    "!pip install tensorflow\n",
    "import tensorflow as tf\n",
    "import pandas as pd\n",
    "import numpy as np\n",
    "import seaborn as sns\n",
    "import matplotlib.pyplot as plt\n"
   ]
  },
  {
   "cell_type": "code",
   "execution_count": 4,
   "metadata": {
    "colab": {},
    "colab_type": "code",
    "id": "tjIiJdM4u1IE"
   },
   "outputs": [],
   "source": [
    "# read the csv file \n",
    "salary_df = pd.read_csv('salary.csv')"
   ]
  },
  {
   "cell_type": "code",
   "execution_count": 5,
   "metadata": {
    "colab": {
     "base_uri": "https://localhost:8080/",
     "height": 204
    },
    "colab_type": "code",
    "id": "q4_wPDKCu5Uc",
    "outputId": "886d2aaf-0205-4f46-96a7-629d0f367d2f"
   },
   "outputs": [
    {
     "data": {
      "text/html": [
       "<div>\n",
       "<style scoped>\n",
       "    .dataframe tbody tr th:only-of-type {\n",
       "        vertical-align: middle;\n",
       "    }\n",
       "\n",
       "    .dataframe tbody tr th {\n",
       "        vertical-align: top;\n",
       "    }\n",
       "\n",
       "    .dataframe thead th {\n",
       "        text-align: right;\n",
       "    }\n",
       "</style>\n",
       "<table border=\"1\" class=\"dataframe\">\n",
       "  <thead>\n",
       "    <tr style=\"text-align: right;\">\n",
       "      <th></th>\n",
       "      <th>YearsExperience</th>\n",
       "      <th>Salary</th>\n",
       "    </tr>\n",
       "  </thead>\n",
       "  <tbody>\n",
       "    <tr>\n",
       "      <th>0</th>\n",
       "      <td>1.1</td>\n",
       "      <td>39343</td>\n",
       "    </tr>\n",
       "    <tr>\n",
       "      <th>1</th>\n",
       "      <td>1.3</td>\n",
       "      <td>46205</td>\n",
       "    </tr>\n",
       "    <tr>\n",
       "      <th>2</th>\n",
       "      <td>1.5</td>\n",
       "      <td>37731</td>\n",
       "    </tr>\n",
       "    <tr>\n",
       "      <th>3</th>\n",
       "      <td>2.0</td>\n",
       "      <td>43525</td>\n",
       "    </tr>\n",
       "    <tr>\n",
       "      <th>4</th>\n",
       "      <td>2.2</td>\n",
       "      <td>39891</td>\n",
       "    </tr>\n",
       "    <tr>\n",
       "      <th>5</th>\n",
       "      <td>2.9</td>\n",
       "      <td>56642</td>\n",
       "    </tr>\n",
       "    <tr>\n",
       "      <th>6</th>\n",
       "      <td>3.0</td>\n",
       "      <td>60150</td>\n",
       "    </tr>\n",
       "    <tr>\n",
       "      <th>7</th>\n",
       "      <td>3.2</td>\n",
       "      <td>54445</td>\n",
       "    </tr>\n",
       "    <tr>\n",
       "      <th>8</th>\n",
       "      <td>3.2</td>\n",
       "      <td>64445</td>\n",
       "    </tr>\n",
       "    <tr>\n",
       "      <th>9</th>\n",
       "      <td>3.7</td>\n",
       "      <td>57189</td>\n",
       "    </tr>\n",
       "    <tr>\n",
       "      <th>10</th>\n",
       "      <td>3.9</td>\n",
       "      <td>63218</td>\n",
       "    </tr>\n",
       "    <tr>\n",
       "      <th>11</th>\n",
       "      <td>4.0</td>\n",
       "      <td>55794</td>\n",
       "    </tr>\n",
       "    <tr>\n",
       "      <th>12</th>\n",
       "      <td>4.0</td>\n",
       "      <td>56957</td>\n",
       "    </tr>\n",
       "    <tr>\n",
       "      <th>13</th>\n",
       "      <td>4.1</td>\n",
       "      <td>57081</td>\n",
       "    </tr>\n",
       "    <tr>\n",
       "      <th>14</th>\n",
       "      <td>4.5</td>\n",
       "      <td>61111</td>\n",
       "    </tr>\n",
       "    <tr>\n",
       "      <th>15</th>\n",
       "      <td>4.9</td>\n",
       "      <td>67938</td>\n",
       "    </tr>\n",
       "    <tr>\n",
       "      <th>16</th>\n",
       "      <td>5.1</td>\n",
       "      <td>66029</td>\n",
       "    </tr>\n",
       "    <tr>\n",
       "      <th>17</th>\n",
       "      <td>5.3</td>\n",
       "      <td>83088</td>\n",
       "    </tr>\n",
       "    <tr>\n",
       "      <th>18</th>\n",
       "      <td>5.9</td>\n",
       "      <td>81363</td>\n",
       "    </tr>\n",
       "    <tr>\n",
       "      <th>19</th>\n",
       "      <td>6.0</td>\n",
       "      <td>93940</td>\n",
       "    </tr>\n",
       "    <tr>\n",
       "      <th>20</th>\n",
       "      <td>6.8</td>\n",
       "      <td>91738</td>\n",
       "    </tr>\n",
       "    <tr>\n",
       "      <th>21</th>\n",
       "      <td>7.1</td>\n",
       "      <td>98273</td>\n",
       "    </tr>\n",
       "    <tr>\n",
       "      <th>22</th>\n",
       "      <td>7.9</td>\n",
       "      <td>101302</td>\n",
       "    </tr>\n",
       "    <tr>\n",
       "      <th>23</th>\n",
       "      <td>8.2</td>\n",
       "      <td>113812</td>\n",
       "    </tr>\n",
       "    <tr>\n",
       "      <th>24</th>\n",
       "      <td>8.7</td>\n",
       "      <td>109431</td>\n",
       "    </tr>\n",
       "    <tr>\n",
       "      <th>25</th>\n",
       "      <td>9.0</td>\n",
       "      <td>105582</td>\n",
       "    </tr>\n",
       "    <tr>\n",
       "      <th>26</th>\n",
       "      <td>9.5</td>\n",
       "      <td>116969</td>\n",
       "    </tr>\n",
       "    <tr>\n",
       "      <th>27</th>\n",
       "      <td>9.6</td>\n",
       "      <td>112635</td>\n",
       "    </tr>\n",
       "    <tr>\n",
       "      <th>28</th>\n",
       "      <td>10.3</td>\n",
       "      <td>122391</td>\n",
       "    </tr>\n",
       "    <tr>\n",
       "      <th>29</th>\n",
       "      <td>10.5</td>\n",
       "      <td>121872</td>\n",
       "    </tr>\n",
       "    <tr>\n",
       "      <th>30</th>\n",
       "      <td>11.2</td>\n",
       "      <td>127345</td>\n",
       "    </tr>\n",
       "    <tr>\n",
       "      <th>31</th>\n",
       "      <td>11.5</td>\n",
       "      <td>126756</td>\n",
       "    </tr>\n",
       "    <tr>\n",
       "      <th>32</th>\n",
       "      <td>12.3</td>\n",
       "      <td>128765</td>\n",
       "    </tr>\n",
       "    <tr>\n",
       "      <th>33</th>\n",
       "      <td>12.9</td>\n",
       "      <td>135675</td>\n",
       "    </tr>\n",
       "    <tr>\n",
       "      <th>34</th>\n",
       "      <td>13.5</td>\n",
       "      <td>139465</td>\n",
       "    </tr>\n",
       "  </tbody>\n",
       "</table>\n",
       "</div>"
      ],
      "text/plain": [
       "    YearsExperience  Salary\n",
       "0               1.1   39343\n",
       "1               1.3   46205\n",
       "2               1.5   37731\n",
       "3               2.0   43525\n",
       "4               2.2   39891\n",
       "5               2.9   56642\n",
       "6               3.0   60150\n",
       "7               3.2   54445\n",
       "8               3.2   64445\n",
       "9               3.7   57189\n",
       "10              3.9   63218\n",
       "11              4.0   55794\n",
       "12              4.0   56957\n",
       "13              4.1   57081\n",
       "14              4.5   61111\n",
       "15              4.9   67938\n",
       "16              5.1   66029\n",
       "17              5.3   83088\n",
       "18              5.9   81363\n",
       "19              6.0   93940\n",
       "20              6.8   91738\n",
       "21              7.1   98273\n",
       "22              7.9  101302\n",
       "23              8.2  113812\n",
       "24              8.7  109431\n",
       "25              9.0  105582\n",
       "26              9.5  116969\n",
       "27              9.6  112635\n",
       "28             10.3  122391\n",
       "29             10.5  121872\n",
       "30             11.2  127345\n",
       "31             11.5  126756\n",
       "32             12.3  128765\n",
       "33             12.9  135675\n",
       "34             13.5  139465"
      ]
     },
     "execution_count": 5,
     "metadata": {},
     "output_type": "execute_result"
    }
   ],
   "source": [
    "salary_df"
   ]
  },
  {
   "cell_type": "markdown",
   "metadata": {},
   "source": [
    "MINI CHALLENGE\n",
    " - Use head and tail methods to print the first and last 7 rows of the dataframe\n",
    " - Try to find the maximum salary value in the dataframe "
   ]
  },
  {
   "cell_type": "code",
   "execution_count": 6,
   "metadata": {},
   "outputs": [
    {
     "data": {
      "text/html": [
       "<div>\n",
       "<style scoped>\n",
       "    .dataframe tbody tr th:only-of-type {\n",
       "        vertical-align: middle;\n",
       "    }\n",
       "\n",
       "    .dataframe tbody tr th {\n",
       "        vertical-align: top;\n",
       "    }\n",
       "\n",
       "    .dataframe thead th {\n",
       "        text-align: right;\n",
       "    }\n",
       "</style>\n",
       "<table border=\"1\" class=\"dataframe\">\n",
       "  <thead>\n",
       "    <tr style=\"text-align: right;\">\n",
       "      <th></th>\n",
       "      <th>YearsExperience</th>\n",
       "      <th>Salary</th>\n",
       "    </tr>\n",
       "  </thead>\n",
       "  <tbody>\n",
       "    <tr>\n",
       "      <th>0</th>\n",
       "      <td>1.1</td>\n",
       "      <td>39343</td>\n",
       "    </tr>\n",
       "    <tr>\n",
       "      <th>1</th>\n",
       "      <td>1.3</td>\n",
       "      <td>46205</td>\n",
       "    </tr>\n",
       "    <tr>\n",
       "      <th>2</th>\n",
       "      <td>1.5</td>\n",
       "      <td>37731</td>\n",
       "    </tr>\n",
       "    <tr>\n",
       "      <th>3</th>\n",
       "      <td>2.0</td>\n",
       "      <td>43525</td>\n",
       "    </tr>\n",
       "    <tr>\n",
       "      <th>4</th>\n",
       "      <td>2.2</td>\n",
       "      <td>39891</td>\n",
       "    </tr>\n",
       "    <tr>\n",
       "      <th>5</th>\n",
       "      <td>2.9</td>\n",
       "      <td>56642</td>\n",
       "    </tr>\n",
       "    <tr>\n",
       "      <th>6</th>\n",
       "      <td>3.0</td>\n",
       "      <td>60150</td>\n",
       "    </tr>\n",
       "  </tbody>\n",
       "</table>\n",
       "</div>"
      ],
      "text/plain": [
       "   YearsExperience  Salary\n",
       "0              1.1   39343\n",
       "1              1.3   46205\n",
       "2              1.5   37731\n",
       "3              2.0   43525\n",
       "4              2.2   39891\n",
       "5              2.9   56642\n",
       "6              3.0   60150"
      ]
     },
     "execution_count": 6,
     "metadata": {},
     "output_type": "execute_result"
    }
   ],
   "source": [
    "salary_df.head(7)"
   ]
  },
  {
   "cell_type": "code",
   "execution_count": 7,
   "metadata": {},
   "outputs": [
    {
     "data": {
      "text/html": [
       "<div>\n",
       "<style scoped>\n",
       "    .dataframe tbody tr th:only-of-type {\n",
       "        vertical-align: middle;\n",
       "    }\n",
       "\n",
       "    .dataframe tbody tr th {\n",
       "        vertical-align: top;\n",
       "    }\n",
       "\n",
       "    .dataframe thead th {\n",
       "        text-align: right;\n",
       "    }\n",
       "</style>\n",
       "<table border=\"1\" class=\"dataframe\">\n",
       "  <thead>\n",
       "    <tr style=\"text-align: right;\">\n",
       "      <th></th>\n",
       "      <th>YearsExperience</th>\n",
       "      <th>Salary</th>\n",
       "    </tr>\n",
       "  </thead>\n",
       "  <tbody>\n",
       "    <tr>\n",
       "      <th>28</th>\n",
       "      <td>10.3</td>\n",
       "      <td>122391</td>\n",
       "    </tr>\n",
       "    <tr>\n",
       "      <th>29</th>\n",
       "      <td>10.5</td>\n",
       "      <td>121872</td>\n",
       "    </tr>\n",
       "    <tr>\n",
       "      <th>30</th>\n",
       "      <td>11.2</td>\n",
       "      <td>127345</td>\n",
       "    </tr>\n",
       "    <tr>\n",
       "      <th>31</th>\n",
       "      <td>11.5</td>\n",
       "      <td>126756</td>\n",
       "    </tr>\n",
       "    <tr>\n",
       "      <th>32</th>\n",
       "      <td>12.3</td>\n",
       "      <td>128765</td>\n",
       "    </tr>\n",
       "    <tr>\n",
       "      <th>33</th>\n",
       "      <td>12.9</td>\n",
       "      <td>135675</td>\n",
       "    </tr>\n",
       "    <tr>\n",
       "      <th>34</th>\n",
       "      <td>13.5</td>\n",
       "      <td>139465</td>\n",
       "    </tr>\n",
       "  </tbody>\n",
       "</table>\n",
       "</div>"
      ],
      "text/plain": [
       "    YearsExperience  Salary\n",
       "28             10.3  122391\n",
       "29             10.5  121872\n",
       "30             11.2  127345\n",
       "31             11.5  126756\n",
       "32             12.3  128765\n",
       "33             12.9  135675\n",
       "34             13.5  139465"
      ]
     },
     "execution_count": 7,
     "metadata": {},
     "output_type": "execute_result"
    }
   ],
   "source": [
    "salary_df.tail(7)"
   ]
  },
  {
   "cell_type": "code",
   "execution_count": 8,
   "metadata": {},
   "outputs": [
    {
     "data": {
      "text/plain": [
       "139465"
      ]
     },
     "execution_count": 8,
     "metadata": {},
     "output_type": "execute_result"
    }
   ],
   "source": [
    "maximum_salary = salary_df['Salary'].max()\n",
    "maximum_salary"
   ]
  },
  {
   "cell_type": "markdown",
   "metadata": {
    "colab_type": "text",
    "id": "tMcr7xqMQre2"
   },
   "source": [
    "# TASK #3: PERFORM EXPLORATORY DATA ANALYSIS AND VISUALIZATION"
   ]
  },
  {
   "cell_type": "code",
   "execution_count": 9,
   "metadata": {},
   "outputs": [
    {
     "data": {
      "text/plain": [
       "<matplotlib.axes._subplots.AxesSubplot at 0x7fd66200dcd0>"
      ]
     },
     "execution_count": 9,
     "metadata": {},
     "output_type": "execute_result"
    },
    {
     "data": {
      "image/png": "[encoded data removed]",
      "text/plain": [
       "<Figure size 432x288 with 1 Axes>"
      ]
     },
     "metadata": {
      "needs_background": "light"
     },
     "output_type": "display_data"
    }
   ],
   "source": [
    "# check if there are any Null values\n",
    "sns.heatmap(salary_df.isnull(), yticklabels = False, cbar = False, cmap=\"Blues\")\n"
   ]
  },
  {
   "cell_type": "code",
   "execution_count": 10,
   "metadata": {
    "colab": {
     "base_uri": "https://localhost:8080/",
     "height": 272
    },
    "colab_type": "code",
    "id": "hMq3-KWOx0e1",
    "outputId": "22a5b184-1f07-46ef-dfc1-f8377fd7042f",
    "scrolled": true
   },
   "outputs": [
    {
     "name": "stdout",
     "output_type": "stream",
     "text": [
      "<class 'pandas.core.frame.DataFrame'>\n",
      "RangeIndex: 35 entries, 0 to 34\n",
      "Data columns (total 2 columns):\n",
      " #   Column           Non-Null Count  Dtype  \n",
      "---  ------           --------------  -----  \n",
      " 0   YearsExperience  35 non-null     float64\n",
      " 1   Salary           35 non-null     int64  \n",
      "dtypes: float64(1), int64(1)\n",
      "memory usage: 688.0 bytes\n"
     ]
    }
   ],
   "source": [
    "# Check the dataframe info\n",
    "\n",
    "salary_df.info()"
   ]
  },
  {
   "cell_type": "code",
   "execution_count": 11,
   "metadata": {
    "colab": {
     "base_uri": "https://localhost:8080/",
     "height": 297
    },
    "colab_type": "code",
    "id": "Nn1Oxk2SzPX3",
    "outputId": "95f0265a-5e75-4a32-d771-4b3d15850c3c"
   },
   "outputs": [
    {
     "data": {
      "text/html": [
       "<div>\n",
       "<style scoped>\n",
       "    .dataframe tbody tr th:only-of-type {\n",
       "        vertical-align: middle;\n",
       "    }\n",
       "\n",
       "    .dataframe tbody tr th {\n",
       "        vertical-align: top;\n",
       "    }\n",
       "\n",
       "    .dataframe thead th {\n",
       "        text-align: right;\n",
       "    }\n",
       "</style>\n",
       "<table border=\"1\" class=\"dataframe\">\n",
       "  <thead>\n",
       "    <tr style=\"text-align: right;\">\n",
       "      <th></th>\n",
       "      <th>YearsExperience</th>\n",
       "      <th>Salary</th>\n",
       "    </tr>\n",
       "  </thead>\n",
       "  <tbody>\n",
       "    <tr>\n",
       "      <th>count</th>\n",
       "      <td>35.000000</td>\n",
       "      <td>35.000000</td>\n",
       "    </tr>\n",
       "    <tr>\n",
       "      <th>mean</th>\n",
       "      <td>6.308571</td>\n",
       "      <td>83945.600000</td>\n",
       "    </tr>\n",
       "    <tr>\n",
       "      <th>std</th>\n",
       "      <td>3.618610</td>\n",
       "      <td>32162.673003</td>\n",
       "    </tr>\n",
       "    <tr>\n",
       "      <th>min</th>\n",
       "      <td>1.100000</td>\n",
       "      <td>37731.000000</td>\n",
       "    </tr>\n",
       "    <tr>\n",
       "      <th>25%</th>\n",
       "      <td>3.450000</td>\n",
       "      <td>57019.000000</td>\n",
       "    </tr>\n",
       "    <tr>\n",
       "      <th>50%</th>\n",
       "      <td>5.300000</td>\n",
       "      <td>81363.000000</td>\n",
       "    </tr>\n",
       "    <tr>\n",
       "      <th>75%</th>\n",
       "      <td>9.250000</td>\n",
       "      <td>113223.500000</td>\n",
       "    </tr>\n",
       "    <tr>\n",
       "      <th>max</th>\n",
       "      <td>13.500000</td>\n",
       "      <td>139465.000000</td>\n",
       "    </tr>\n",
       "  </tbody>\n",
       "</table>\n",
       "</div>"
      ],
      "text/plain": [
       "       YearsExperience         Salary\n",
       "count        35.000000      35.000000\n",
       "mean          6.308571   83945.600000\n",
       "std           3.618610   32162.673003\n",
       "min           1.100000   37731.000000\n",
       "25%           3.450000   57019.000000\n",
       "50%           5.300000   81363.000000\n",
       "75%           9.250000  113223.500000\n",
       "max          13.500000  139465.000000"
      ]
     },
     "execution_count": 11,
     "metadata": {},
     "output_type": "execute_result"
    }
   ],
   "source": [
    "# Statistical summary of the dataframe\n",
    "\n",
    "salary_df.describe()"
   ]
  },
  {
   "cell_type": "markdown",
   "metadata": {},
   "source": [
    "MINI CHALLENGE\n",
    " - What are the number of years of experience corresponding to employees with minimum and maximim salaries?"
   ]
  },
  {
   "cell_type": "code",
   "execution_count": 12,
   "metadata": {},
   "outputs": [
    {
     "data": {
      "text/html": [
       "<div>\n",
       "<style scoped>\n",
       "    .dataframe tbody tr th:only-of-type {\n",
       "        vertical-align: middle;\n",
       "    }\n",
       "\n",
       "    .dataframe tbody tr th {\n",
       "        vertical-align: top;\n",
       "    }\n",
       "\n",
       "    .dataframe thead th {\n",
       "        text-align: right;\n",
       "    }\n",
       "</style>\n",
       "<table border=\"1\" class=\"dataframe\">\n",
       "  <thead>\n",
       "    <tr style=\"text-align: right;\">\n",
       "      <th></th>\n",
       "      <th>YearsExperience</th>\n",
       "      <th>Salary</th>\n",
       "    </tr>\n",
       "  </thead>\n",
       "  <tbody>\n",
       "    <tr>\n",
       "      <th>34</th>\n",
       "      <td>13.5</td>\n",
       "      <td>139465</td>\n",
       "    </tr>\n",
       "  </tbody>\n",
       "</table>\n",
       "</div>"
      ],
      "text/plain": [
       "    YearsExperience  Salary\n",
       "34             13.5  139465"
      ]
     },
     "execution_count": 12,
     "metadata": {},
     "output_type": "execute_result"
    }
   ],
   "source": [
    "max = salary_df[ salary_df['Salary'] == salary_df['Salary'].max() ]\n",
    "max"
   ]
  },
  {
   "cell_type": "code",
   "execution_count": 13,
   "metadata": {},
   "outputs": [
    {
     "data": {
      "text/html": [
       "<div>\n",
       "<style scoped>\n",
       "    .dataframe tbody tr th:only-of-type {\n",
       "        vertical-align: middle;\n",
       "    }\n",
       "\n",
       "    .dataframe tbody tr th {\n",
       "        vertical-align: top;\n",
       "    }\n",
       "\n",
       "    .dataframe thead th {\n",
       "        text-align: right;\n",
       "    }\n",
       "</style>\n",
       "<table border=\"1\" class=\"dataframe\">\n",
       "  <thead>\n",
       "    <tr style=\"text-align: right;\">\n",
       "      <th></th>\n",
       "      <th>YearsExperience</th>\n",
       "      <th>Salary</th>\n",
       "    </tr>\n",
       "  </thead>\n",
       "  <tbody>\n",
       "    <tr>\n",
       "      <th>2</th>\n",
       "      <td>1.5</td>\n",
       "      <td>37731</td>\n",
       "    </tr>\n",
       "  </tbody>\n",
       "</table>\n",
       "</div>"
      ],
      "text/plain": [
       "   YearsExperience  Salary\n",
       "2              1.5   37731"
      ]
     },
     "execution_count": 13,
     "metadata": {},
     "output_type": "execute_result"
    }
   ],
   "source": [
    "min = salary_df[ salary_df['Salary'] == salary_df['Salary'].min() ]\n",
    "min"
   ]
  },
  {
   "cell_type": "code",
   "execution_count": 14,
   "metadata": {},
   "outputs": [
    {
     "data": {
      "text/plain": [
       "array([[<matplotlib.axes._subplots.AxesSubplot object at 0x7fd66079c610>,\n",
       "        <matplotlib.axes._subplots.AxesSubplot object at 0x7fd66074dcd0>]],\n",
       "      dtype=object)"
      ]
     },
     "execution_count": 14,
     "metadata": {},
     "output_type": "execute_result"
    },
    {
     "data": {
      "image/png": "[encoded data removed]",
      "text/plain": [
       "<Figure size 1440x720 with 2 Axes>"
      ]
     },
     "metadata": {
      "needs_background": "light"
     },
     "output_type": "display_data"
    }
   ],
   "source": [
    "salary_df.hist(bins = 30, figsize = (20,10), color = 'r')\n"
   ]
  },
  {
   "cell_type": "code",
   "execution_count": 15,
   "metadata": {
    "colab": {
     "base_uri": "https://localhost:8080/",
     "height": 1000
    },
    "colab_type": "code",
    "id": "Ka9uFRXSkWHw",
    "outputId": "f42a681e-93d4-4b1f-a29c-f58fc8a6f974"
   },
   "outputs": [
    {
     "data": {
      "text/plain": [
       "<seaborn.axisgrid.PairGrid at 0x7fd66070f990>"
      ]
     },
     "execution_count": 15,
     "metadata": {},
     "output_type": "execute_result"
    },
    {
     "data": {
      "image/png": "[encoded data removed]",
      "text/plain": [
       "<Figure size 360x360 with 6 Axes>"
      ]
     },
     "metadata": {
      "needs_background": "light"
     },
     "output_type": "display_data"
    }
   ],
   "source": [
    "# plot pairplot\n",
    "\n",
    "sns.pairplot(salary_df)"
   ]
  },
  {
   "cell_type": "code",
   "execution_count": 16,
   "metadata": {
    "colab": {
     "base_uri": "https://localhost:8080/",
     "height": 297
    },
    "colab_type": "code",
    "id": "9q-tFxvskWDa",
    "outputId": "8834e9ec-7676-4e86-c5e7-20f4e9eccbcb"
   },
   "outputs": [
    {
     "data": {
      "image/png": "[encoded data removed]",
      "text/plain": [
       "<Figure size 432x288 with 2 Axes>"
      ]
     },
     "metadata": {
      "needs_background": "light"
     },
     "output_type": "display_data"
    }
   ],
   "source": [
    "corr_matrix = salary_df.corr()\n",
    "sns.heatmap(corr_matrix, annot = True)\n",
    "plt.show()"
   ]
  },
  {
   "cell_type": "markdown",
   "metadata": {},
   "source": [
    "MINI CHALLENGE\n",
    "- Use regplot in Seaborn to obtain a straight line fit between \"salary\" and \"years of experience\""
   ]
  },
  {
   "cell_type": "code",
   "execution_count": 17,
   "metadata": {},
   "outputs": [
    {
     "data": {
      "text/plain": [
       "<matplotlib.axes._subplots.AxesSubplot at 0x7fd66200dbd0>"
      ]
     },
     "execution_count": 17,
     "metadata": {},
     "output_type": "execute_result"
    },
    {
     "data": {
      "image/png": "[encoded data removed]",
      "text/plain": [
       "<Figure size 432x288 with 1 Axes>"
      ]
     },
     "metadata": {
      "needs_background": "light"
     },
     "output_type": "display_data"
    }
   ],
   "source": [
    "sns.regplot(x = 'YearsExperience', y = 'Salary', data = salary_df)"
   ]
  },
  {
   "cell_type": "markdown",
   "metadata": {
    "colab_type": "text",
    "id": "53qDZFRn3-S1"
   },
   "source": [
    "# TASK #4: CREATE TRAINING AND TESTING DATASET"
   ]
  },
  {
   "cell_type": "code",
   "execution_count": 18,
   "metadata": {
    "colab": {},
    "colab_type": "code",
    "id": "4OXZB2F21e4H"
   },
   "outputs": [],
   "source": [
    "X = salary_df[['YearsExperience']]\n",
    "y = salary_df[['Salary']]\n"
   ]
  },
  {
   "cell_type": "code",
   "execution_count": 19,
   "metadata": {
    "scrolled": true
   },
   "outputs": [
    {
     "data": {
      "text/html": [
       "<div>\n",
       "<style scoped>\n",
       "    .dataframe tbody tr th:only-of-type {\n",
       "        vertical-align: middle;\n",
       "    }\n",
       "\n",
       "    .dataframe tbody tr th {\n",
       "        vertical-align: top;\n",
       "    }\n",
       "\n",
       "    .dataframe thead th {\n",
       "        text-align: right;\n",
       "    }\n",
       "</style>\n",
       "<table border=\"1\" class=\"dataframe\">\n",
       "  <thead>\n",
       "    <tr style=\"text-align: right;\">\n",
       "      <th></th>\n",
       "      <th>YearsExperience</th>\n",
       "    </tr>\n",
       "  </thead>\n",
       "  <tbody>\n",
       "    <tr>\n",
       "      <th>0</th>\n",
       "      <td>1.1</td>\n",
       "    </tr>\n",
       "    <tr>\n",
       "      <th>1</th>\n",
       "      <td>1.3</td>\n",
       "    </tr>\n",
       "    <tr>\n",
       "      <th>2</th>\n",
       "      <td>1.5</td>\n",
       "    </tr>\n",
       "    <tr>\n",
       "      <th>3</th>\n",
       "      <td>2.0</td>\n",
       "    </tr>\n",
       "    <tr>\n",
       "      <th>4</th>\n",
       "      <td>2.2</td>\n",
       "    </tr>\n",
       "    <tr>\n",
       "      <th>5</th>\n",
       "      <td>2.9</td>\n",
       "    </tr>\n",
       "    <tr>\n",
       "      <th>6</th>\n",
       "      <td>3.0</td>\n",
       "    </tr>\n",
       "    <tr>\n",
       "      <th>7</th>\n",
       "      <td>3.2</td>\n",
       "    </tr>\n",
       "    <tr>\n",
       "      <th>8</th>\n",
       "      <td>3.2</td>\n",
       "    </tr>\n",
       "    <tr>\n",
       "      <th>9</th>\n",
       "      <td>3.7</td>\n",
       "    </tr>\n",
       "    <tr>\n",
       "      <th>10</th>\n",
       "      <td>3.9</td>\n",
       "    </tr>\n",
       "    <tr>\n",
       "      <th>11</th>\n",
       "      <td>4.0</td>\n",
       "    </tr>\n",
       "    <tr>\n",
       "      <th>12</th>\n",
       "      <td>4.0</td>\n",
       "    </tr>\n",
       "    <tr>\n",
       "      <th>13</th>\n",
       "      <td>4.1</td>\n",
       "    </tr>\n",
       "    <tr>\n",
       "      <th>14</th>\n",
       "      <td>4.5</td>\n",
       "    </tr>\n",
       "    <tr>\n",
       "      <th>15</th>\n",
       "      <td>4.9</td>\n",
       "    </tr>\n",
       "    <tr>\n",
       "      <th>16</th>\n",
       "      <td>5.1</td>\n",
       "    </tr>\n",
       "    <tr>\n",
       "      <th>17</th>\n",
       "      <td>5.3</td>\n",
       "    </tr>\n",
       "    <tr>\n",
       "      <th>18</th>\n",
       "      <td>5.9</td>\n",
       "    </tr>\n",
       "    <tr>\n",
       "      <th>19</th>\n",
       "      <td>6.0</td>\n",
       "    </tr>\n",
       "    <tr>\n",
       "      <th>20</th>\n",
       "      <td>6.8</td>\n",
       "    </tr>\n",
       "    <tr>\n",
       "      <th>21</th>\n",
       "      <td>7.1</td>\n",
       "    </tr>\n",
       "    <tr>\n",
       "      <th>22</th>\n",
       "      <td>7.9</td>\n",
       "    </tr>\n",
       "    <tr>\n",
       "      <th>23</th>\n",
       "      <td>8.2</td>\n",
       "    </tr>\n",
       "    <tr>\n",
       "      <th>24</th>\n",
       "      <td>8.7</td>\n",
       "    </tr>\n",
       "    <tr>\n",
       "      <th>25</th>\n",
       "      <td>9.0</td>\n",
       "    </tr>\n",
       "    <tr>\n",
       "      <th>26</th>\n",
       "      <td>9.5</td>\n",
       "    </tr>\n",
       "    <tr>\n",
       "      <th>27</th>\n",
       "      <td>9.6</td>\n",
       "    </tr>\n",
       "    <tr>\n",
       "      <th>28</th>\n",
       "      <td>10.3</td>\n",
       "    </tr>\n",
       "    <tr>\n",
       "      <th>29</th>\n",
       "      <td>10.5</td>\n",
       "    </tr>\n",
       "    <tr>\n",
       "      <th>30</th>\n",
       "      <td>11.2</td>\n",
       "    </tr>\n",
       "    <tr>\n",
       "      <th>31</th>\n",
       "      <td>11.5</td>\n",
       "    </tr>\n",
       "    <tr>\n",
       "      <th>32</th>\n",
       "      <td>12.3</td>\n",
       "    </tr>\n",
       "    <tr>\n",
       "      <th>33</th>\n",
       "      <td>12.9</td>\n",
       "    </tr>\n",
       "    <tr>\n",
       "      <th>34</th>\n",
       "      <td>13.5</td>\n",
       "    </tr>\n",
       "  </tbody>\n",
       "</table>\n",
       "</div>"
      ],
      "text/plain": [
       "    YearsExperience\n",
       "0               1.1\n",
       "1               1.3\n",
       "2               1.5\n",
       "3               2.0\n",
       "4               2.2\n",
       "5               2.9\n",
       "6               3.0\n",
       "7               3.2\n",
       "8               3.2\n",
       "9               3.7\n",
       "10              3.9\n",
       "11              4.0\n",
       "12              4.0\n",
       "13              4.1\n",
       "14              4.5\n",
       "15              4.9\n",
       "16              5.1\n",
       "17              5.3\n",
       "18              5.9\n",
       "19              6.0\n",
       "20              6.8\n",
       "21              7.1\n",
       "22              7.9\n",
       "23              8.2\n",
       "24              8.7\n",
       "25              9.0\n",
       "26              9.5\n",
       "27              9.6\n",
       "28             10.3\n",
       "29             10.5\n",
       "30             11.2\n",
       "31             11.5\n",
       "32             12.3\n",
       "33             12.9\n",
       "34             13.5"
      ]
     },
     "execution_count": 19,
     "metadata": {},
     "output_type": "execute_result"
    }
   ],
   "source": [
    "X"
   ]
  },
  {
   "cell_type": "code",
   "execution_count": 20,
   "metadata": {},
   "outputs": [
    {
     "data": {
      "text/html": [
       "<div>\n",
       "<style scoped>\n",
       "    .dataframe tbody tr th:only-of-type {\n",
       "        vertical-align: middle;\n",
       "    }\n",
       "\n",
       "    .dataframe tbody tr th {\n",
       "        vertical-align: top;\n",
       "    }\n",
       "\n",
       "    .dataframe thead th {\n",
       "        text-align: right;\n",
       "    }\n",
       "</style>\n",
       "<table border=\"1\" class=\"dataframe\">\n",
       "  <thead>\n",
       "    <tr style=\"text-align: right;\">\n",
       "      <th></th>\n",
       "      <th>Salary</th>\n",
       "    </tr>\n",
       "  </thead>\n",
       "  <tbody>\n",
       "    <tr>\n",
       "      <th>0</th>\n",
       "      <td>39343</td>\n",
       "    </tr>\n",
       "    <tr>\n",
       "      <th>1</th>\n",
       "      <td>46205</td>\n",
       "    </tr>\n",
       "    <tr>\n",
       "      <th>2</th>\n",
       "      <td>37731</td>\n",
       "    </tr>\n",
       "    <tr>\n",
       "      <th>3</th>\n",
       "      <td>43525</td>\n",
       "    </tr>\n",
       "    <tr>\n",
       "      <th>4</th>\n",
       "      <td>39891</td>\n",
       "    </tr>\n",
       "    <tr>\n",
       "      <th>5</th>\n",
       "      <td>56642</td>\n",
       "    </tr>\n",
       "    <tr>\n",
       "      <th>6</th>\n",
       "      <td>60150</td>\n",
       "    </tr>\n",
       "    <tr>\n",
       "      <th>7</th>\n",
       "      <td>54445</td>\n",
       "    </tr>\n",
       "    <tr>\n",
       "      <th>8</th>\n",
       "      <td>64445</td>\n",
       "    </tr>\n",
       "    <tr>\n",
       "      <th>9</th>\n",
       "      <td>57189</td>\n",
       "    </tr>\n",
       "    <tr>\n",
       "      <th>10</th>\n",
       "      <td>63218</td>\n",
       "    </tr>\n",
       "    <tr>\n",
       "      <th>11</th>\n",
       "      <td>55794</td>\n",
       "    </tr>\n",
       "    <tr>\n",
       "      <th>12</th>\n",
       "      <td>56957</td>\n",
       "    </tr>\n",
       "    <tr>\n",
       "      <th>13</th>\n",
       "      <td>57081</td>\n",
       "    </tr>\n",
       "    <tr>\n",
       "      <th>14</th>\n",
       "      <td>61111</td>\n",
       "    </tr>\n",
       "    <tr>\n",
       "      <th>15</th>\n",
       "      <td>67938</td>\n",
       "    </tr>\n",
       "    <tr>\n",
       "      <th>16</th>\n",
       "      <td>66029</td>\n",
       "    </tr>\n",
       "    <tr>\n",
       "      <th>17</th>\n",
       "      <td>83088</td>\n",
       "    </tr>\n",
       "    <tr>\n",
       "      <th>18</th>\n",
       "      <td>81363</td>\n",
       "    </tr>\n",
       "    <tr>\n",
       "      <th>19</th>\n",
       "      <td>93940</td>\n",
       "    </tr>\n",
       "    <tr>\n",
       "      <th>20</th>\n",
       "      <td>91738</td>\n",
       "    </tr>\n",
       "    <tr>\n",
       "      <th>21</th>\n",
       "      <td>98273</td>\n",
       "    </tr>\n",
       "    <tr>\n",
       "      <th>22</th>\n",
       "      <td>101302</td>\n",
       "    </tr>\n",
       "    <tr>\n",
       "      <th>23</th>\n",
       "      <td>113812</td>\n",
       "    </tr>\n",
       "    <tr>\n",
       "      <th>24</th>\n",
       "      <td>109431</td>\n",
       "    </tr>\n",
       "    <tr>\n",
       "      <th>25</th>\n",
       "      <td>105582</td>\n",
       "    </tr>\n",
       "    <tr>\n",
       "      <th>26</th>\n",
       "      <td>116969</td>\n",
       "    </tr>\n",
       "    <tr>\n",
       "      <th>27</th>\n",
       "      <td>112635</td>\n",
       "    </tr>\n",
       "    <tr>\n",
       "      <th>28</th>\n",
       "      <td>122391</td>\n",
       "    </tr>\n",
       "    <tr>\n",
       "      <th>29</th>\n",
       "      <td>121872</td>\n",
       "    </tr>\n",
       "    <tr>\n",
       "      <th>30</th>\n",
       "      <td>127345</td>\n",
       "    </tr>\n",
       "    <tr>\n",
       "      <th>31</th>\n",
       "      <td>126756</td>\n",
       "    </tr>\n",
       "    <tr>\n",
       "      <th>32</th>\n",
       "      <td>128765</td>\n",
       "    </tr>\n",
       "    <tr>\n",
       "      <th>33</th>\n",
       "      <td>135675</td>\n",
       "    </tr>\n",
       "    <tr>\n",
       "      <th>34</th>\n",
       "      <td>139465</td>\n",
       "    </tr>\n",
       "  </tbody>\n",
       "</table>\n",
       "</div>"
      ],
      "text/plain": [
       "    Salary\n",
       "0    39343\n",
       "1    46205\n",
       "2    37731\n",
       "3    43525\n",
       "4    39891\n",
       "5    56642\n",
       "6    60150\n",
       "7    54445\n",
       "8    64445\n",
       "9    57189\n",
       "10   63218\n",
       "11   55794\n",
       "12   56957\n",
       "13   57081\n",
       "14   61111\n",
       "15   67938\n",
       "16   66029\n",
       "17   83088\n",
       "18   81363\n",
       "19   93940\n",
       "20   91738\n",
       "21   98273\n",
       "22  101302\n",
       "23  113812\n",
       "24  109431\n",
       "25  105582\n",
       "26  116969\n",
       "27  112635\n",
       "28  122391\n",
       "29  121872\n",
       "30  127345\n",
       "31  126756\n",
       "32  128765\n",
       "33  135675\n",
       "34  139465"
      ]
     },
     "execution_count": 20,
     "metadata": {},
     "output_type": "execute_result"
    }
   ],
   "source": [
    "y"
   ]
  },
  {
   "cell_type": "code",
   "execution_count": 21,
   "metadata": {
    "colab": {
     "base_uri": "https://localhost:8080/",
     "height": 34
    },
    "colab_type": "code",
    "id": "XpGU63Ne1e9P",
    "outputId": "e16c74ca-dc1c-416c-dc44-7f927bb99bc6"
   },
   "outputs": [
    {
     "data": {
      "text/plain": [
       "(35, 1)"
      ]
     },
     "execution_count": 21,
     "metadata": {},
     "output_type": "execute_result"
    }
   ],
   "source": [
    "X.shape"
   ]
  },
  {
   "cell_type": "code",
   "execution_count": 22,
   "metadata": {
    "colab": {
     "base_uri": "https://localhost:8080/",
     "height": 34
    },
    "colab_type": "code",
    "id": "OjGj0RALA0qZ",
    "outputId": "26559a6c-880b-45b4-a1e8-3c4b92bea889"
   },
   "outputs": [
    {
     "data": {
      "text/plain": [
       "(35, 1)"
      ]
     },
     "execution_count": 22,
     "metadata": {},
     "output_type": "execute_result"
    }
   ],
   "source": [
    "y.shape"
   ]
  },
  {
   "cell_type": "code",
   "execution_count": 23,
   "metadata": {
    "colab": {},
    "colab_type": "code",
    "id": "jIeiK1maA6mm"
   },
   "outputs": [],
   "source": [
    "X = np.array(X).astype('float32')\n",
    "y = np.array(y).astype('float32')"
   ]
  },
  {
   "cell_type": "code",
   "execution_count": 24,
   "metadata": {},
   "outputs": [
    {
     "data": {
      "text/plain": [
       "array([[ 1.1],\n",
       "       [ 1.3],\n",
       "       [ 1.5],\n",
       "       [ 2. ],\n",
       "       [ 2.2],\n",
       "       [ 2.9],\n",
       "       [ 3. ],\n",
       "       [ 3.2],\n",
       "       [ 3.2],\n",
       "       [ 3.7],\n",
       "       [ 3.9],\n",
       "       [ 4. ],\n",
       "       [ 4. ],\n",
       "       [ 4.1],\n",
       "       [ 4.5],\n",
       "       [ 4.9],\n",
       "       [ 5.1],\n",
       "       [ 5.3],\n",
       "       [ 5.9],\n",
       "       [ 6. ],\n",
       "       [ 6.8],\n",
       "       [ 7.1],\n",
       "       [ 7.9],\n",
       "       [ 8.2],\n",
       "       [ 8.7],\n",
       "       [ 9. ],\n",
       "       [ 9.5],\n",
       "       [ 9.6],\n",
       "       [10.3],\n",
       "       [10.5],\n",
       "       [11.2],\n",
       "       [11.5],\n",
       "       [12.3],\n",
       "       [12.9],\n",
       "       [13.5]], dtype=float32)"
      ]
     },
     "execution_count": 24,
     "metadata": {},
     "output_type": "execute_result"
    }
   ],
   "source": [
    "# Only take the numerical variables and scale them\n",
    "X "
   ]
  },
  {
   "cell_type": "code",
   "execution_count": 26,
   "metadata": {
    "colab": {},
    "colab_type": "code",
    "id": "GoReLFfnA6uF"
   },
   "outputs": [],
   "source": [
    "# split the data into test and train sets\n",
    "from sklearn.model_selection import train_test_split\n",
    "\n",
    "X_train, X_test, y_train, y_test = train_test_split(X, y, test_size = 0.25)\n"
   ]
  },
  {
   "cell_type": "markdown",
   "metadata": {},
   "source": [
    "MINI CHALLENGE\n",
    " - Try splitting the data into 75% for training and the rest for testing\n",
    " - Verify that the split was successful by obtaining the shape of both X_train and X_test\n",
    " - Did you notice any change in the order of the data? why?"
   ]
  },
  {
   "cell_type": "code",
   "execution_count": 27,
   "metadata": {},
   "outputs": [
    {
     "data": {
      "text/plain": [
       "(26, 1)"
      ]
     },
     "execution_count": 27,
     "metadata": {},
     "output_type": "execute_result"
    }
   ],
   "source": [
    "X_train.shape"
   ]
  },
  {
   "cell_type": "code",
   "execution_count": 28,
   "metadata": {},
   "outputs": [
    {
     "data": {
      "text/plain": [
       "(9, 1)"
      ]
     },
     "execution_count": 28,
     "metadata": {},
     "output_type": "execute_result"
    }
   ],
   "source": [
    "X_test.shape"
   ]
  },
  {
   "cell_type": "markdown",
   "metadata": {
    "colab_type": "text",
    "id": "idWHLv5alF4C"
   },
   "source": [
    "# TASK #5: TRAIN A LINEAR REGRESSION MODEL IN SK-LEARN (NOTE THAT SAGEMAKER BUILT-IN ALGORITHMS ARE NOT USED HERE)"
   ]
  },
  {
   "cell_type": "code",
   "execution_count": 29,
   "metadata": {
    "colab": {
     "base_uri": "https://localhost:8080/",
     "height": 34
    },
    "colab_type": "code",
    "id": "yHL-6mKwBURs",
    "outputId": "10d71b6d-9c2b-4bab-8b27-d3c5883e6a25"
   },
   "outputs": [
    {
     "data": {
      "text/plain": [
       "LinearRegression(copy_X=True, fit_intercept=True, n_jobs=None, normalize=False)"
      ]
     },
     "execution_count": 29,
     "metadata": {},
     "output_type": "execute_result"
    }
   ],
   "source": [
    "# using linear regression model\n",
    "from sklearn.linear_model import LinearRegression\n",
    "from sklearn.metrics import mean_squared_error, accuracy_score\n",
    "\n",
    "regresssion_model_sklearn = LinearRegression(fit_intercept = True)\n",
    "regresssion_model_sklearn.fit(X_train, y_train)\n"
   ]
  },
  {
   "cell_type": "code",
   "execution_count": 30,
   "metadata": {
    "colab": {
     "base_uri": "https://localhost:8080/",
     "height": 34
    },
    "colab_type": "code",
    "id": "elD8m5N0BgEY",
    "outputId": "16a1813d-a0f1-4d1f-dc02-d7ad5a445417"
   },
   "outputs": [
    {
     "data": {
      "text/plain": [
       "0.9482247299955305"
      ]
     },
     "execution_count": 30,
     "metadata": {},
     "output_type": "execute_result"
    }
   ],
   "source": [
    "regresssion_model_sklearn_accuracy = regresssion_model_sklearn.score(X_test, y_test)\n",
    "regresssion_model_sklearn_accuracy"
   ]
  },
  {
   "cell_type": "code",
   "execution_count": 31,
   "metadata": {},
   "outputs": [
    {
     "name": "stdout",
     "output_type": "stream",
     "text": [
      "Linear Model Coefficient (m):  [[8663.33]]\n",
      "Linear Model Coefficient (b):  [29577.43]\n"
     ]
    }
   ],
   "source": [
    "print('Linear Model Coefficient (m): ', regresssion_model_sklearn.coef_)\n",
    "print('Linear Model Coefficient (b): ', regresssion_model_sklearn.intercept_)"
   ]
  },
  {
   "cell_type": "markdown",
   "metadata": {},
   "source": [
    "MINI CHALLENGE\n",
    "- Retrain the model while setting the fit_intercept = False, what do you notice?"
   ]
  },
  {
   "cell_type": "code",
   "execution_count": 35,
   "metadata": {},
   "outputs": [
    {
     "data": {
      "text/plain": [
       "LinearRegression(copy_X=True, fit_intercept=False, n_jobs=None, normalize=False)"
      ]
     },
     "execution_count": 35,
     "metadata": {},
     "output_type": "execute_result"
    }
   ],
   "source": [
    "regresssion_model_sklearn2 = LinearRegression(fit_intercept = False)\n",
    "regresssion_model_sklearn2.fit(X_train, y_train)"
   ]
  },
  {
   "cell_type": "code",
   "execution_count": 36,
   "metadata": {},
   "outputs": [
    {
     "data": {
      "text/plain": [
       "0.7761426450068312"
      ]
     },
     "execution_count": 36,
     "metadata": {},
     "output_type": "execute_result"
    }
   ],
   "source": [
    "regresssion_model_sklearn_accuracy2 = regresssion_model_sklearn2.score(X_test, y_test)\n",
    "regresssion_model_sklearn_accuracy2"
   ]
  },
  {
   "cell_type": "code",
   "execution_count": 37,
   "metadata": {},
   "outputs": [
    {
     "name": "stdout",
     "output_type": "stream",
     "text": [
      "Linear Model Coefficient (m):  [[12212.091]]\n",
      "Linear Model Coefficient (b):  0.0\n"
     ]
    }
   ],
   "source": [
    "print('Linear Model Coefficient (m): ', regresssion_model_sklearn2.coef_)\n",
    "print('Linear Model Coefficient (b): ', regresssion_model_sklearn2.intercept_)"
   ]
  },
  {
   "cell_type": "markdown",
   "metadata": {},
   "source": [
    "# TASK #6: EVALUATE TRAINED MODEL PERFORMANCE (NOTE THAT SAGEMAKER BUILT-IN ALGORITHMS ARE NOT USED HERE)"
   ]
  },
  {
   "cell_type": "code",
   "execution_count": 38,
   "metadata": {},
   "outputs": [],
   "source": [
    "y_predict = regresssion_model_sklearn.predict(X_test)"
   ]
  },
  {
   "cell_type": "code",
   "execution_count": 39,
   "metadata": {
    "scrolled": true
   },
   "outputs": [
    {
     "data": {
      "text/plain": [
       "array([[ 72027.75 ],\n",
       "       [ 40839.758],\n",
       "       [112745.4  ],\n",
       "       [ 64230.75 ],\n",
       "       [100616.734],\n",
       "       [ 91087.08 ],\n",
       "       [ 64230.75 ],\n",
       "       [146532.38 ],\n",
       "       [ 48636.758]], dtype=float32)"
      ]
     },
     "execution_count": 39,
     "metadata": {},
     "output_type": "execute_result"
    }
   ],
   "source": [
    "y_predict"
   ]
  },
  {
   "cell_type": "code",
   "execution_count": 40,
   "metadata": {},
   "outputs": [
    {
     "data": {
      "text/plain": [
       "Text(0.5, 1.0, 'Salary vs. Years of Experience')"
      ]
     },
     "execution_count": 40,
     "metadata": {},
     "output_type": "execute_result"
    },
    {
     "data": {
      "image/png": "[encoded data removed]",
      "text/plain": [
       "<Figure size 432x288 with 1 Axes>"
      ]
     },
     "metadata": {
      "needs_background": "light"
     },
     "output_type": "display_data"
    }
   ],
   "source": [
    "plt.scatter(X_train, y_train, color = 'gray')\n",
    "plt.plot(X_train, regresssion_model_sklearn.predict(X_train), color = 'red')\n",
    "plt.ylabel('Salary')\n",
    "plt.xlabel('Number of Years of Experience')\n",
    "plt.title('Salary vs. Years of Experience')"
   ]
  },
  {
   "cell_type": "markdown",
   "metadata": {},
   "source": [
    "MINI CHALLENGE\n",
    " - Use the trained model, obtain the salary corresponding to eployees who have years of experience = 5"
   ]
  },
  {
   "cell_type": "code",
   "execution_count": 41,
   "metadata": {},
   "outputs": [],
   "source": [
    "num_years_exp = [[5]]"
   ]
  },
  {
   "cell_type": "code",
   "execution_count": 42,
   "metadata": {},
   "outputs": [],
   "source": [
    "salary = regresssion_model_sklearn.predict(num_years_exp)"
   ]
  },
  {
   "cell_type": "code",
   "execution_count": 43,
   "metadata": {},
   "outputs": [
    {
     "data": {
      "text/plain": [
       "array([[72894.08007812]])"
      ]
     },
     "execution_count": 43,
     "metadata": {},
     "output_type": "execute_result"
    }
   ],
   "source": [
    "salary"
   ]
  },
  {
   "cell_type": "markdown",
   "metadata": {},
   "source": [
    "# TASK #7: TRAIN A LINEAR LEARNER MODEL USING SAGEMAKER"
   ]
  },
  {
   "cell_type": "code",
   "execution_count": 44,
   "metadata": {},
   "outputs": [
    {
     "name": "stdout",
     "output_type": "stream",
     "text": [
      "arn:aws:iam::807100423897:role/service-role/AmazonSageMaker-ExecutionRole-20211023T105014\n"
     ]
    }
   ],
   "source": [
    "# Boto3 is the Amazon Web Services (AWS) Software Development Kit (SDK) for Python\n",
    "# Boto3 allows Python developer to write software that makes use of services like Amazon S3 and Amazon EC2\n",
    "\n",
    "import sagemaker\n",
    "import boto3\n",
    "from sagemaker import Session\n",
    "\n",
    "# Let's create a Sagemaker session\n",
    "sagemaker_session = sagemaker.Session()\n",
    "bucket = Session().default_bucket()\n",
    "# Let's define the S3 bucket and prefix that we want to use in this session\n",
    "# bucket = 'sagemaker-employee-salary' # bucket named 'sagemaker-employee-salary' was created beforehand\n",
    "prefix = 'linear_learner' # prefix is the subfolder within the bucket.\n",
    "\n",
    "# Let's get the execution role for the notebook instance. \n",
    "# This is the IAM role that you created when you created your notebook instance. You pass the role to the training job.\n",
    "# Note that AWS Identity and Access Management (IAM) role that Amazon SageMaker can assume to perform tasks on your behalf (for example, reading training results, called model artifacts, from the S3 bucket and writing training results to Amazon S3). \n",
    "role = sagemaker.get_execution_role()\n",
    "print(role)"
   ]
  },
  {
   "cell_type": "code",
   "execution_count": 45,
   "metadata": {},
   "outputs": [
    {
     "data": {
      "text/plain": [
       "(26, 1)"
      ]
     },
     "execution_count": 45,
     "metadata": {},
     "output_type": "execute_result"
    }
   ],
   "source": [
    "X_train.shape"
   ]
  },
  {
   "cell_type": "code",
   "execution_count": 46,
   "metadata": {},
   "outputs": [],
   "source": [
    "y_train = y_train[:,0]"
   ]
  },
  {
   "cell_type": "code",
   "execution_count": 47,
   "metadata": {},
   "outputs": [
    {
     "data": {
      "text/plain": [
       "(26,)"
      ]
     },
     "execution_count": 47,
     "metadata": {},
     "output_type": "execute_result"
    }
   ],
   "source": [
    "y_train.shape"
   ]
  },
  {
   "cell_type": "code",
   "execution_count": 48,
   "metadata": {},
   "outputs": [
    {
     "data": {
      "text/plain": [
       "0"
      ]
     },
     "execution_count": 48,
     "metadata": {},
     "output_type": "execute_result"
    }
   ],
   "source": [
    "import io # The io module allows for dealing with various types of I/O (text I/O, binary I/O and raw I/O). \n",
    "import numpy as np\n",
    "import sagemaker.amazon.common as smac # sagemaker common libary\n",
    "\n",
    "# Code below converts the data in numpy array format to RecordIO format\n",
    "# This is the format required by Sagemaker Linear Learner \n",
    "\n",
    "buf = io.BytesIO() # create an in-memory byte array (buf is a buffer I will be writing to)\n",
    "smac.write_numpy_to_dense_tensor(buf, X_train, y_train)\n",
    "buf.seek(0) \n",
    "# When you write to in-memory byte arrays, it increments 1 every time you write to it\n",
    "# Let's reset that back to zero \n"
   ]
  },
  {
   "cell_type": "code",
   "execution_count": 49,
   "metadata": {},
   "outputs": [
    {
     "name": "stdout",
     "output_type": "stream",
     "text": [
      "uploaded training data location: s3://sagemaker-us-east-2-807100423897/linear_learner/train/linear-train-data\n"
     ]
    }
   ],
   "source": [
    "import os\n",
    "\n",
    "# Code to upload RecordIO data to S3\n",
    " \n",
    "# Key refers to the name of the file    \n",
    "key = 'linear-train-data'\n",
    "\n",
    "# The following code uploads the data in record-io format to S3 bucket to be accessed later for training\n",
    "boto3.resource('s3').Bucket(bucket).Object(os.path.join(prefix, 'train', key)).upload_fileobj(buf)\n",
    "\n",
    "# Let's print out the training data location in s3\n",
    "s3_train_data = 's3://{}/{}/train/{}'.format(bucket, prefix, key)\n",
    "print('uploaded training data location: {}'.format(s3_train_data))"
   ]
  },
  {
   "cell_type": "code",
   "execution_count": 50,
   "metadata": {},
   "outputs": [
    {
     "data": {
      "text/plain": [
       "(9, 1)"
      ]
     },
     "execution_count": 50,
     "metadata": {},
     "output_type": "execute_result"
    }
   ],
   "source": [
    "X_test.shape"
   ]
  },
  {
   "cell_type": "code",
   "execution_count": 51,
   "metadata": {},
   "outputs": [
    {
     "data": {
      "text/plain": [
       "(9, 1)"
      ]
     },
     "execution_count": 51,
     "metadata": {},
     "output_type": "execute_result"
    }
   ],
   "source": [
    "y_test.shape"
   ]
  },
  {
   "cell_type": "code",
   "execution_count": 52,
   "metadata": {},
   "outputs": [],
   "source": [
    "# Make sure that the target label is a vector\n",
    "y_test = y_test[:,0]\n"
   ]
  },
  {
   "cell_type": "code",
   "execution_count": 53,
   "metadata": {},
   "outputs": [
    {
     "data": {
      "text/plain": [
       "0"
      ]
     },
     "execution_count": 53,
     "metadata": {},
     "output_type": "execute_result"
    }
   ],
   "source": [
    "# Code to upload RecordIO data to S3\n",
    "\n",
    "buf = io.BytesIO() # create an in-memory byte array (buf is a buffer I will be writing to)\n",
    "smac.write_numpy_to_dense_tensor(buf, X_test, y_test)\n",
    "buf.seek(0) \n",
    "# When you write to in-memory byte arrays, it increments 1 every time you write to it\n",
    "# Let's reset that back to zero \n"
   ]
  },
  {
   "cell_type": "code",
   "execution_count": 54,
   "metadata": {},
   "outputs": [
    {
     "name": "stdout",
     "output_type": "stream",
     "text": [
      "uploaded training data location: s3://sagemaker-us-east-2-807100423897/linear_learner/test/linear-test-data\n"
     ]
    }
   ],
   "source": [
    "# Key refers to the name of the file    \n",
    "key = 'linear-test-data'\n",
    "\n",
    "# The following code uploads the data in record-io format to S3 bucket to be accessed later for training\n",
    "boto3.resource('s3').Bucket(bucket).Object(os.path.join(prefix, 'test', key)).upload_fileobj(buf)\n",
    "\n",
    "# Let's print out the testing data location in s3\n",
    "s3_test_data = 's3://{}/{}/test/{}'.format(bucket, prefix, key)\n",
    "print('uploaded training data location: {}'.format(s3_test_data))"
   ]
  },
  {
   "cell_type": "code",
   "execution_count": 55,
   "metadata": {},
   "outputs": [
    {
     "name": "stdout",
     "output_type": "stream",
     "text": [
      "Training artifacts will be uploaded to: s3://sagemaker-us-east-2-807100423897/linear_learner/output\n"
     ]
    }
   ],
   "source": [
    "# create an output placeholder in S3 bucket to store the linear learner output\n",
    "\n",
    "output_location = 's3://{}/{}/output'.format(bucket, prefix)\n",
    "print('Training artifacts will be uploaded to: {}'.format(output_location))"
   ]
  },
  {
   "cell_type": "code",
   "execution_count": 63,
   "metadata": {},
   "outputs": [],
   "source": [
    "# This code is used to get the training container of sagemaker built-in algorithms\n",
    "# all we have to do is to specify the name of the algorithm, that we want to use\n",
    "\n",
    "# Let's obtain a reference to the linearLearner container image\n",
    "# Note that all regression models are named estimators\n",
    "# You don't have to specify (hardcode) the region, get_image_uri will get the current region name using boto3.Session\n",
    "\n",
    "# from sagemaker.amazon.amazon_estimator import get_image_uri\n",
    "\n",
    "# container = get_image_uri(boto3.Session().region_name, 'linear-learner')\n",
    "\n",
    "from sagemaker import image_uris\n",
    "container = sagemaker.image_uris.retrieve('linear-learner', boto3.Session().region_name)"
   ]
  },
  {
   "cell_type": "code",
   "execution_count": 65,
   "metadata": {},
   "outputs": [
    {
     "name": "stdout",
     "output_type": "stream",
     "text": [
      "2021-10-23 16:19:47 Starting - Starting the training job...\n",
      "2021-10-23 16:20:09 Starting - Launching requested ML instancesProfilerReport-1635005986: InProgress\n",
      "...\n",
      "2021-10-23 16:20:44 Starting - Preparing the instances for training............\n",
      "2021-10-23 16:22:47 Downloading - Downloading input data\n",
      "2021-10-23 16:22:47 Training - Downloading the training image...\n",
      "2021-10-23 16:23:10 Training - Training image download completed. Training in progress.\u001b[34mDocker entrypoint called with argument(s): train\u001b[0m\n",
      "\u001b[34mRunning default environment configuration script\u001b[0m\n",
      "\u001b[34m[10/23/2021 16:23:11 INFO 139629011109696] Reading default configuration from /opt/amazon/lib/python3.7/site-packages/algorithm/resources/default-input.json: {'mini_batch_size': '1000', 'epochs': '15', 'feature_dim': 'auto', 'use_bias': 'true', 'binary_classifier_model_selection_criteria': 'accuracy', 'f_beta': '1.0', 'target_recall': '0.8', 'target_precision': '0.8', 'num_models': 'auto', 'num_calibration_samples': '10000000', 'init_method': 'uniform', 'init_scale': '0.07', 'init_sigma': '0.01', 'init_bias': '0.0', 'optimizer': 'auto', 'loss': 'auto', 'margin': '1.0', 'quantile': '0.5', 'loss_insensitivity': '0.01', 'huber_delta': '1.0', 'num_classes': '1', 'accuracy_top_k': '3', 'wd': 'auto', 'l1': 'auto', 'momentum': 'auto', 'learning_rate': 'auto', 'beta_1': 'auto', 'beta_2': 'auto', 'bias_lr_mult': 'auto', 'bias_wd_mult': 'auto', 'use_lr_scheduler': 'true', 'lr_scheduler_step': 'auto', 'lr_scheduler_factor': 'auto', 'lr_scheduler_minimum_lr': 'auto', 'positive_example_weight_mult': '1.0', 'balance_multiclass_weights': 'false', 'normalize_data': 'true', 'normalize_label': 'auto', 'unbias_data': 'auto', 'unbias_label': 'auto', 'num_point_for_scaler': '10000', '_kvstore': 'auto', '_num_gpus': 'auto', '_num_kv_servers': 'auto', '_log_level': 'info', '_tuning_objective_metric': '', 'early_stopping_patience': '3', 'early_stopping_tolerance': '0.001', '_enable_profiler': 'false'}\u001b[0m\n",
      "\u001b[34m[10/23/2021 16:23:11 INFO 139629011109696] Merging with provided configuration from /opt/ml/input/config/hyperparameters.json: {'loss': 'absolute_loss', 'feature_dim': '1', 'num_models': '32', 'predictor_type': 'regressor', 'epochs': '5', 'mini_batch_size': '5'}\u001b[0m\n",
      "\u001b[34m[10/23/2021 16:23:11 INFO 139629011109696] Final configuration: {'mini_batch_size': '5', 'epochs': '5', 'feature_dim': '1', 'use_bias': 'true', 'binary_classifier_model_selection_criteria': 'accuracy', 'f_beta': '1.0', 'target_recall': '0.8', 'target_precision': '0.8', 'num_models': '32', 'num_calibration_samples': '10000000', 'init_method': 'uniform', 'init_scale': '0.07', 'init_sigma': '0.01', 'init_bias': '0.0', 'optimizer': 'auto', 'loss': 'absolute_loss', 'margin': '1.0', 'quantile': '0.5', 'loss_insensitivity': '0.01', 'huber_delta': '1.0', 'num_classes': '1', 'accuracy_top_k': '3', 'wd': 'auto', 'l1': 'auto', 'momentum': 'auto', 'learning_rate': 'auto', 'beta_1': 'auto', 'beta_2': 'auto', 'bias_lr_mult': 'auto', 'bias_wd_mult': 'auto', 'use_lr_scheduler': 'true', 'lr_scheduler_step': 'auto', 'lr_scheduler_factor': 'auto', 'lr_scheduler_minimum_lr': 'auto', 'positive_example_weight_mult': '1.0', 'balance_multiclass_weights': 'false', 'normalize_data': 'true', 'normalize_label': 'auto', 'unbias_data': 'auto', 'unbias_label': 'auto', 'num_point_for_scaler': '10000', '_kvstore': 'auto', '_num_gpus': 'auto', '_num_kv_servers': 'auto', '_log_level': 'info', '_tuning_objective_metric': '', 'early_stopping_patience': '3', 'early_stopping_tolerance': '0.001', '_enable_profiler': 'false', 'predictor_type': 'regressor'}\u001b[0m\n",
      "\u001b[34m[10/23/2021 16:23:11 WARNING 139629011109696] Loggers have already been setup.\u001b[0m\n",
      "\u001b[34mProcess 1 is a worker.\u001b[0m\n",
      "\u001b[34m[10/23/2021 16:23:11 INFO 139629011109696] Using default worker.\u001b[0m\n",
      "\u001b[34m[10/23/2021 16:23:12 INFO 139629011109696] Checkpoint loading and saving are disabled.\u001b[0m\n",
      "\u001b[34m[2021-10-23 16:23:12.183] [tensorio] [info] epoch_stats={\"data_pipeline\": \"/opt/ml/input/data/train\", \"epoch\": 0, \"duration\": 13, \"num_examples\": 1, \"num_bytes\": 240}\u001b[0m\n",
      "\u001b[34m[10/23/2021 16:23:12 INFO 139629011109696] Create Store: local\u001b[0m\n",
      "\u001b[34m[2021-10-23 16:23:12.239] [tensorio] [info] epoch_stats={\"data_pipeline\": \"/opt/ml/input/data/train\", \"epoch\": 1, \"duration\": 55, \"num_examples\": 6, \"num_bytes\": 1248}\u001b[0m\n",
      "\u001b[34m[10/23/2021 16:23:12 INFO 139629011109696] Scaler algorithm parameters\n",
      " <algorithm.scaler.ScalerAlgorithmStable object at 0x7efd89271590>\u001b[0m\n",
      "\u001b[34m[10/23/2021 16:23:12 INFO 139629011109696] Scaling model computed with parameters:\n",
      " {'stdev_label': \u001b[0m\n",
      "\u001b[34m[31616.271]\u001b[0m\n",
      "\u001b[34m<NDArray 1 @cpu(0)>, 'stdev_weight': \u001b[0m\n",
      "\u001b[34m[3.596941]\u001b[0m\n",
      "\u001b[34m<NDArray 1 @cpu(0)>, 'mean_label': \u001b[0m\n",
      "\u001b[34m[85030.516]\u001b[0m\n",
      "\u001b[34m<NDArray 1 @cpu(0)>, 'mean_weight': \u001b[0m\n",
      "\u001b[34m[6.4039993]\u001b[0m\n",
      "\u001b[34m<NDArray 1 @cpu(0)>}\u001b[0m\n",
      "\u001b[34m[10/23/2021 16:23:12 INFO 139629011109696] nvidia-smi: took 0.032 seconds to run.\u001b[0m\n",
      "\u001b[34m[10/23/2021 16:23:12 INFO 139629011109696] nvidia-smi identified 0 GPUs.\u001b[0m\n",
      "\u001b[34m[10/23/2021 16:23:12 INFO 139629011109696] Number of GPUs being used: 0\u001b[0m\n",
      "\u001b[34m#metrics {\"StartTime\": 1635006192.359069, \"EndTime\": 1635006192.359122, \"Dimensions\": {\"Algorithm\": \"Linear Learner\", \"Host\": \"algo-1\", \"Operation\": \"training\", \"Meta\": \"init_train_data_iter\"}, \"Metrics\": {\"Total Records Seen\": {\"sum\": 31.0, \"count\": 1, \"min\": 31, \"max\": 31}, \"Total Batches Seen\": {\"sum\": 7.0, \"count\": 1, \"min\": 7, \"max\": 7}, \"Max Records Seen Between Resets\": {\"sum\": 26.0, \"count\": 1, \"min\": 26, \"max\": 26}, \"Max Batches Seen Between Resets\": {\"sum\": 6.0, \"count\": 1, \"min\": 6, \"max\": 6}, \"Reset Count\": {\"sum\": 2.0, \"count\": 1, \"min\": 2, \"max\": 2}, \"Number of Records Since Last Reset\": {\"sum\": 0.0, \"count\": 1, \"min\": 0, \"max\": 0}, \"Number of Batches Since Last Reset\": {\"sum\": 0.0, \"count\": 1, \"min\": 0, \"max\": 0}}}\u001b[0m\n",
      "\u001b[34m[2021-10-23 16:23:12.499] [tensorio] [info] epoch_stats={\"data_pipeline\": \"/opt/ml/input/data/train\", \"epoch\": 4, \"duration\": 139, \"num_examples\": 6, \"num_bytes\": 1248}\u001b[0m\n",
      "\u001b[34m#metrics {\"StartTime\": 1635006192.4994137, \"EndTime\": 1635006192.4994988, \"Dimensions\": {\"Algorithm\": \"Linear Learner\", \"Host\": \"algo-1\", \"Operation\": \"training\", \"epoch\": 0, \"model\": 0}, \"Metrics\": {\"train_absolute_loss_objective\": {\"sum\": 0.9076277542114258, \"count\": 1, \"min\": 0.9076277542114258, \"max\": 0.9076277542114258}}}\u001b[0m\n",
      "\u001b[34m#metrics {\"StartTime\": 1635006192.4995797, \"EndTime\": 1635006192.499598, \"Dimensions\": {\"Algorithm\": \"Linear Learner\", \"Host\": \"algo-1\", \"Operation\": \"training\", \"epoch\": 0, \"model\": 1}, \"Metrics\": {\"train_absolute_loss_objective\": {\"sum\": 0.927980785369873, \"count\": 1, \"min\": 0.927980785369873, \"max\": 0.927980785369873}}}\u001b[0m\n",
      "\u001b[34m#metrics {\"StartTime\": 1635006192.4996493, \"EndTime\": 1635006192.4996638, \"Dimensions\": {\"Algorithm\": \"Linear Learner\", \"Host\": \"algo-1\", \"Operation\": \"training\", \"epoch\": 0, \"model\": 2}, \"Metrics\": {\"train_absolute_loss_objective\": {\"sum\": 0.9100932502746581, \"count\": 1, \"min\": 0.9100932502746581, \"max\": 0.9100932502746581}}}\u001b[0m\n",
      "\u001b[34m#metrics {\"StartTime\": 1635006192.4997094, \"EndTime\": 1635006192.4997244, \"Dimensions\": {\"Algorithm\": \"Linear Learner\", \"Host\": \"algo-1\", \"Operation\": \"training\", \"epoch\": 0, \"model\": 3}, \"Metrics\": {\"train_absolute_loss_objective\": {\"sum\": 0.9269406604766846, \"count\": 1, \"min\": 0.9269406604766846, \"max\": 0.9269406604766846}}}\u001b[0m\n",
      "\u001b[34m#metrics {\"StartTime\": 1635006192.4997766, \"EndTime\": 1635006192.499792, \"Dimensions\": {\"Algorithm\": \"Linear Learner\", \"Host\": \"algo-1\", \"Operation\": \"training\", \"epoch\": 0, \"model\": 4}, \"Metrics\": {\"train_absolute_loss_objective\": {\"sum\": 0.8192771244049072, \"count\": 1, \"min\": 0.8192771244049072, \"max\": 0.8192771244049072}}}\u001b[0m\n",
      "\u001b[34m#metrics {\"StartTime\": 1635006192.4998395, \"EndTime\": 1635006192.4998548, \"Dimensions\": {\"Algorithm\": \"Linear Learner\", \"Host\": \"algo-1\", \"Operation\": \"training\", \"epoch\": 0, \"model\": 5}, \"Metrics\": {\"train_absolute_loss_objective\": {\"sum\": 0.8273448085784912, \"count\": 1, \"min\": 0.8273448085784912, \"max\": 0.8273448085784912}}}\u001b[0m\n",
      "\u001b[34m#metrics {\"StartTime\": 1635006192.499904, \"EndTime\": 1635006192.4999192, \"Dimensions\": {\"Algorithm\": \"Linear Learner\", \"Host\": \"algo-1\", \"Operation\": \"training\", \"epoch\": 0, \"model\": 6}, \"Metrics\": {\"train_absolute_loss_objective\": {\"sum\": 0.8962931919097901, \"count\": 1, \"min\": 0.8962931919097901, \"max\": 0.8962931919097901}}}\u001b[0m\n",
      "\u001b[34m#metrics {\"StartTime\": 1635006192.4999688, \"EndTime\": 1635006192.4999845, \"Dimensions\": {\"Algorithm\": \"Linear Learner\", \"Host\": \"algo-1\", \"Operation\": \"training\", \"epoch\": 0, \"model\": 7}, \"Metrics\": {\"train_absolute_loss_objective\": {\"sum\": 0.8722878646850586, \"count\": 1, \"min\": 0.8722878646850586, \"max\": 0.8722878646850586}}}\u001b[0m\n",
      "\u001b[34m#metrics {\"StartTime\": 1635006192.5000303, \"EndTime\": 1635006192.5000436, \"Dimensions\": {\"Algorithm\": \"Linear Learner\", \"Host\": \"algo-1\", \"Operation\": \"training\", \"epoch\": 0, \"model\": 8}, \"Metrics\": {\"train_absolute_loss_objective\": {\"sum\": 0.9647739696502685, \"count\": 1, \"min\": 0.9647739696502685, \"max\": 0.9647739696502685}}}\u001b[0m\n",
      "\u001b[34m#metrics {\"StartTime\": 1635006192.5000932, \"EndTime\": 1635006192.5001097, \"Dimensions\": {\"Algorithm\": \"Linear Learner\", \"Host\": \"algo-1\", \"Operation\": \"training\", \"epoch\": 0, \"model\": 9}, \"Metrics\": {\"train_absolute_loss_objective\": {\"sum\": 0.8953294849395752, \"count\": 1, \"min\": 0.8953294849395752, \"max\": 0.8953294849395752}}}\u001b[0m\n",
      "\u001b[34m#metrics {\"StartTime\": 1635006192.5001569, \"EndTime\": 1635006192.5001714, \"Dimensions\": {\"Algorithm\": \"Linear Learner\", \"Host\": \"algo-1\", \"Operation\": \"training\", \"epoch\": 0, \"model\": 10}, \"Metrics\": {\"train_absolute_loss_objective\": {\"sum\": 0.9021777439117432, \"count\": 1, \"min\": 0.9021777439117432, \"max\": 0.9021777439117432}}}\u001b[0m\n",
      "\u001b[34m#metrics {\"StartTime\": 1635006192.5002193, \"EndTime\": 1635006192.5002341, \"Dimensions\": {\"Algorithm\": \"Linear Learner\", \"Host\": \"algo-1\", \"Operation\": \"training\", \"epoch\": 0, \"model\": 11}, \"Metrics\": {\"train_absolute_loss_objective\": {\"sum\": 0.8870342350006104, \"count\": 1, \"min\": 0.8870342350006104, \"max\": 0.8870342350006104}}}\u001b[0m\n",
      "\u001b[34m#metrics {\"StartTime\": 1635006192.5002818, \"EndTime\": 1635006192.500296, \"Dimensions\": {\"Algorithm\": \"Linear Learner\", \"Host\": \"algo-1\", \"Operation\": \"training\", \"epoch\": 0, \"model\": 12}, \"Metrics\": {\"train_absolute_loss_objective\": {\"sum\": 0.8267054080963134, \"count\": 1, \"min\": 0.8267054080963134, \"max\": 0.8267054080963134}}}\u001b[0m\n",
      "\u001b[34m#metrics {\"StartTime\": 1635006192.5003436, \"EndTime\": 1635006192.5003572, \"Dimensions\": {\"Algorithm\": \"Linear Learner\", \"Host\": \"algo-1\", \"Operation\": \"training\", \"epoch\": 0, \"model\": 13}, \"Metrics\": {\"train_absolute_loss_objective\": {\"sum\": 0.8484459781646728, \"count\": 1, \"min\": 0.8484459781646728, \"max\": 0.8484459781646728}}}\u001b[0m\n",
      "\u001b[34m#metrics {\"StartTime\": 1635006192.5004003, \"EndTime\": 1635006192.5004156, \"Dimensions\": {\"Algorithm\": \"Linear Learner\", \"Host\": \"algo-1\", \"Operation\": \"training\", \"epoch\": 0, \"model\": 14}, \"Metrics\": {\"train_absolute_loss_objective\": {\"sum\": 0.8254739284515381, \"count\": 1, \"min\": 0.8254739284515381, \"max\": 0.8254739284515381}}}\u001b[0m\n",
      "\u001b[34m#metrics {\"StartTime\": 1635006192.5004659, \"EndTime\": 1635006192.5004807, \"Dimensions\": {\"Algorithm\": \"Linear Learner\", \"Host\": \"algo-1\", \"Operation\": \"training\", \"epoch\": 0, \"model\": 15}, \"Metrics\": {\"train_absolute_loss_objective\": {\"sum\": 0.8536564826965332, \"count\": 1, \"min\": 0.8536564826965332, \"max\": 0.8536564826965332}}}\u001b[0m\n",
      "\u001b[34m#metrics {\"StartTime\": 1635006192.5005271, \"EndTime\": 1635006192.5005422, \"Dimensions\": {\"Algorithm\": \"Linear Learner\", \"Host\": \"algo-1\", \"Operation\": \"training\", \"epoch\": 0, \"model\": 16}, \"Metrics\": {\"train_absolute_loss_objective\": {\"sum\": 0.8702374649047852, \"count\": 1, \"min\": 0.8702374649047852, \"max\": 0.8702374649047852}}}\u001b[0m\n",
      "\u001b[34m#metrics {\"StartTime\": 1635006192.5005898, \"EndTime\": 1635006192.500605, \"Dimensions\": {\"Algorithm\": \"Linear Learner\", \"Host\": \"algo-1\", \"Operation\": \"training\", \"epoch\": 0, \"model\": 17}, \"Metrics\": {\"train_absolute_loss_objective\": {\"sum\": 0.9231204986572266, \"count\": 1, \"min\": 0.9231204986572266, \"max\": 0.9231204986572266}}}\u001b[0m\n",
      "\u001b[34m#metrics {\"StartTime\": 1635006192.500653, \"EndTime\": 1635006192.5006685, \"Dimensions\": {\"Algorithm\": \"Linear Learner\", \"Host\": \"algo-1\", \"Operation\": \"training\", \"epoch\": 0, \"model\": 18}, \"Metrics\": {\"train_absolute_loss_objective\": {\"sum\": 0.8983868408203125, \"count\": 1, \"min\": 0.8983868408203125, \"max\": 0.8983868408203125}}}\u001b[0m\n",
      "\u001b[34m#metrics {\"StartTime\": 1635006192.5007153, \"EndTime\": 1635006192.50073, \"Dimensions\": {\"Algorithm\": \"Linear Learner\", \"Host\": \"algo-1\", \"Operation\": \"training\", \"epoch\": 0, \"model\": 19}, \"Metrics\": {\"train_absolute_loss_objective\": {\"sum\": 0.8956240749359131, \"count\": 1, \"min\": 0.8956240749359131, \"max\": 0.8956240749359131}}}\u001b[0m\n",
      "\u001b[34m#metrics {\"StartTime\": 1635006192.5007777, \"EndTime\": 1635006192.500792, \"Dimensions\": {\"Algorithm\": \"Linear Learner\", \"Host\": \"algo-1\", \"Operation\": \"training\", \"epoch\": 0, \"model\": 20}, \"Metrics\": {\"train_absolute_loss_objective\": {\"sum\": 0.8692398548126221, \"count\": 1, \"min\": 0.8692398548126221, \"max\": 0.8692398548126221}}}\u001b[0m\n",
      "\u001b[34m#metrics {\"StartTime\": 1635006192.5008376, \"EndTime\": 1635006192.5008535, \"Dimensions\": {\"Algorithm\": \"Linear Learner\", \"Host\": \"algo-1\", \"Operation\": \"training\", \"epoch\": 0, \"model\": 21}, \"Metrics\": {\"train_absolute_loss_objective\": {\"sum\": 0.8803277015686035, \"count\": 1, \"min\": 0.8803277015686035, \"max\": 0.8803277015686035}}}\u001b[0m\n",
      "\u001b[34m#metrics {\"StartTime\": 1635006192.500902, \"EndTime\": 1635006192.5009172, \"Dimensions\": {\"Algorithm\": \"Linear Learner\", \"Host\": \"algo-1\", \"Operation\": \"training\", \"epoch\": 0, \"model\": 22}, \"Metrics\": {\"train_absolute_loss_objective\": {\"sum\": 0.8336709308624267, \"count\": 1, \"min\": 0.8336709308624267, \"max\": 0.8336709308624267}}}\u001b[0m\n",
      "\u001b[34m#metrics {\"StartTime\": 1635006192.5009632, \"EndTime\": 1635006192.5009792, \"Dimensions\": {\"Algorithm\": \"Linear Learner\", \"Host\": \"algo-1\", \"Operation\": \"training\", \"epoch\": 0, \"model\": 23}, \"Metrics\": {\"train_absolute_loss_objective\": {\"sum\": 0.8995228576660156, \"count\": 1, \"min\": 0.8995228576660156, \"max\": 0.8995228576660156}}}\u001b[0m\n",
      "\u001b[34m#metrics {\"StartTime\": 1635006192.5010266, \"EndTime\": 1635006192.5010405, \"Dimensions\": {\"Algorithm\": \"Linear Learner\", \"Host\": \"algo-1\", \"Operation\": \"training\", \"epoch\": 0, \"model\": 24}, \"Metrics\": {\"train_absolute_loss_objective\": {\"sum\": 0.8732615661621094, \"count\": 1, \"min\": 0.8732615661621094, \"max\": 0.8732615661621094}}}\u001b[0m\n",
      "\u001b[34m#metrics {\"StartTime\": 1635006192.5010853, \"EndTime\": 1635006192.501098, \"Dimensions\": {\"Algorithm\": \"Linear Learner\", \"Host\": \"algo-1\", \"Operation\": \"training\", \"epoch\": 0, \"model\": 25}, \"Metrics\": {\"train_absolute_loss_objective\": {\"sum\": 0.9417299270629883, \"count\": 1, \"min\": 0.9417299270629883, \"max\": 0.9417299270629883}}}\u001b[0m\n",
      "\u001b[34m#metrics {\"StartTime\": 1635006192.5011396, \"EndTime\": 1635006192.5011544, \"Dimensions\": {\"Algorithm\": \"Linear Learner\", \"Host\": \"algo-1\", \"Operation\": \"training\", \"epoch\": 0, \"model\": 26}, \"Metrics\": {\"train_absolute_loss_objective\": {\"sum\": 0.928144006729126, \"count\": 1, \"min\": 0.928144006729126, \"max\": 0.928144006729126}}}\u001b[0m\n",
      "\u001b[34m#metrics {\"StartTime\": 1635006192.501202, \"EndTime\": 1635006192.5012176, \"Dimensions\": {\"Algorithm\": \"Linear Learner\", \"Host\": \"algo-1\", \"Operation\": \"training\", \"epoch\": 0, \"model\": 27}, \"Metrics\": {\"train_absolute_loss_objective\": {\"sum\": 0.9172710800170898, \"count\": 1, \"min\": 0.9172710800170898, \"max\": 0.9172710800170898}}}\u001b[0m\n",
      "\u001b[34m#metrics {\"StartTime\": 1635006192.5012667, \"EndTime\": 1635006192.5012832, \"Dimensions\": {\"Algorithm\": \"Linear Learner\", \"Host\": \"algo-1\", \"Operation\": \"training\", \"epoch\": 0, \"model\": 28}, \"Metrics\": {\"train_absolute_loss_objective\": {\"sum\": 0.9366528224945069, \"count\": 1, \"min\": 0.9366528224945069, \"max\": 0.9366528224945069}}}\u001b[0m\n",
      "\u001b[34m#metrics {\"StartTime\": 1635006192.501332, \"EndTime\": 1635006192.5013478, \"Dimensions\": {\"Algorithm\": \"Linear Learner\", \"Host\": \"algo-1\", \"Operation\": \"training\", \"epoch\": 0, \"model\": 29}, \"Metrics\": {\"train_absolute_loss_objective\": {\"sum\": 0.9379850959777832, \"count\": 1, \"min\": 0.9379850959777832, \"max\": 0.9379850959777832}}}\u001b[0m\n",
      "\u001b[34m#metrics {\"StartTime\": 1635006192.5013964, \"EndTime\": 1635006192.5014124, \"Dimensions\": {\"Algorithm\": \"Linear Learner\", \"Host\": \"algo-1\", \"Operation\": \"training\", \"epoch\": 0, \"model\": 30}, \"Metrics\": {\"train_absolute_loss_objective\": {\"sum\": 0.9631865978240967, \"count\": 1, \"min\": 0.9631865978240967, \"max\": 0.9631865978240967}}}\u001b[0m\n",
      "\u001b[34m#metrics {\"StartTime\": 1635006192.501462, \"EndTime\": 1635006192.501521, \"Dimensions\": {\"Algorithm\": \"Linear Learner\", \"Host\": \"algo-1\", \"Operation\": \"training\", \"epoch\": 0, \"model\": 31}, \"Metrics\": {\"train_absolute_loss_objective\": {\"sum\": 0.9622767829895019, \"count\": 1, \"min\": 0.9622767829895019, \"max\": 0.9622767829895019}}}\u001b[0m\n",
      "\u001b[34m[10/23/2021 16:23:12 INFO 139629011109696] #quality_metric: host=algo-1, epoch=0, train absolute_loss_objective <loss>=0.9076277542114258\u001b[0m\n",
      "\u001b[34m[10/23/2021 16:23:12 INFO 139629011109696] #early_stopping_criteria_metric: host=algo-1, epoch=0, criteria=absolute_loss_objective, value=0.8192771244049072\u001b[0m\n",
      "\u001b[34m[10/23/2021 16:23:12 INFO 139629011109696] Epoch 0: Loss improved. Updating best model\u001b[0m\n",
      "\u001b[34m[10/23/2021 16:23:12 INFO 139629011109696] Saving model for epoch: 0\u001b[0m\n",
      "\u001b[34m[10/23/2021 16:23:12 INFO 139629011109696] Saved checkpoint to \"/tmp/tmpwezx2l_n/mx-mod-0000.params\"\u001b[0m\n",
      "\u001b[34m[10/23/2021 16:23:12 INFO 139629011109696] #progress_metric: host=algo-1, completed 20.0 % of epochs\u001b[0m\n",
      "\u001b[34m#metrics {\"StartTime\": 1635006192.3596585, \"EndTime\": 1635006192.517371, \"Dimensions\": {\"Algorithm\": \"Linear Learner\", \"Host\": \"algo-1\", \"Operation\": \"training\", \"epoch\": 0, \"Meta\": \"training_data_iter\"}, \"Metrics\": {\"Total Records Seen\": {\"sum\": 57.0, \"count\": 1, \"min\": 57, \"max\": 57}, \"Total Batches Seen\": {\"sum\": 13.0, \"count\": 1, \"min\": 13, \"max\": 13}, \"Max Records Seen Between Resets\": {\"sum\": 26.0, \"count\": 1, \"min\": 26, \"max\": 26}, \"Max Batches Seen Between Resets\": {\"sum\": 6.0, \"count\": 1, \"min\": 6, \"max\": 6}, \"Reset Count\": {\"sum\": 3.0, \"count\": 1, \"min\": 3, \"max\": 3}, \"Number of Records Since Last Reset\": {\"sum\": 26.0, \"count\": 1, \"min\": 26, \"max\": 26}, \"Number of Batches Since Last Reset\": {\"sum\": 6.0, \"count\": 1, \"min\": 6, \"max\": 6}}}\u001b[0m\n",
      "\u001b[34m[10/23/2021 16:23:12 INFO 139629011109696] #throughput_metric: host=algo-1, train throughput=164.7120632676611 records/second\u001b[0m\n",
      "\u001b[34m[2021-10-23 16:23:12.640] [tensorio] [info] epoch_stats={\"data_pipeline\": \"/opt/ml/input/data/train\", \"epoch\": 6, \"duration\": 122, \"num_examples\": 6, \"num_bytes\": 1248}\u001b[0m\n",
      "\u001b[34m#metrics {\"StartTime\": 1635006192.6406186, \"EndTime\": 1635006192.6406934, \"Dimensions\": {\"Algorithm\": \"Linear Learner\", \"Host\": \"algo-1\", \"Operation\": \"training\", \"epoch\": 1, \"model\": 0}, \"Metrics\": {\"train_absolute_loss_objective\": {\"sum\": 0.8819659519195556, \"count\": 1, \"min\": 0.8819659519195556, \"max\": 0.8819659519195556}}}\u001b[0m\n",
      "\u001b[34m#metrics {\"StartTime\": 1635006192.6408486, \"EndTime\": 1635006192.6408956, \"Dimensions\": {\"Algorithm\": \"Linear Learner\", \"Host\": \"algo-1\", \"Operation\": \"training\", \"epoch\": 1, \"model\": 1}, \"Metrics\": {\"train_absolute_loss_objective\": {\"sum\": 0.9017537403106689, \"count\": 1, \"min\": 0.9017537403106689, \"max\": 0.9017537403106689}}}\u001b[0m\n",
      "\u001b[34m#metrics {\"StartTime\": 1635006192.640956, \"EndTime\": 1635006192.640971, \"Dimensions\": {\"Algorithm\": \"Linear Learner\", \"Host\": \"algo-1\", \"Operation\": \"training\", \"epoch\": 1, \"model\": 2}, \"Metrics\": {\"train_absolute_loss_objective\": {\"sum\": 0.8843629455566406, \"count\": 1, \"min\": 0.8843629455566406, \"max\": 0.8843629455566406}}}\u001b[0m\n",
      "\u001b[34m#metrics {\"StartTime\": 1635006192.6410263, \"EndTime\": 1635006192.6410427, \"Dimensions\": {\"Algorithm\": \"Linear Learner\", \"Host\": \"algo-1\", \"Operation\": \"training\", \"epoch\": 1, \"model\": 3}, \"Metrics\": {\"train_absolute_loss_objective\": {\"sum\": 0.9007425022125244, \"count\": 1, \"min\": 0.9007425022125244, \"max\": 0.9007425022125244}}}\u001b[0m\n",
      "\u001b[34m#metrics {\"StartTime\": 1635006192.6411746, \"EndTime\": 1635006192.6411896, \"Dimensions\": {\"Algorithm\": \"Linear Learner\", \"Host\": \"algo-1\", \"Operation\": \"training\", \"epoch\": 1, \"model\": 4}, \"Metrics\": {\"train_absolute_loss_objective\": {\"sum\": 0.5845337677001953, \"count\": 1, \"min\": 0.5845337677001953, \"max\": 0.5845337677001953}}}\u001b[0m\n",
      "\u001b[34m#metrics {\"StartTime\": 1635006192.6412318, \"EndTime\": 1635006192.6412473, \"Dimensions\": {\"Algorithm\": \"Linear Learner\", \"Host\": \"algo-1\", \"Operation\": \"training\", \"epoch\": 1, \"model\": 5}, \"Metrics\": {\"train_absolute_loss_objective\": {\"sum\": 0.5916301250457764, \"count\": 1, \"min\": 0.5916301250457764, \"max\": 0.5916301250457764}}}\u001b[0m\n",
      "\u001b[34m#metrics {\"StartTime\": 1635006192.6412983, \"EndTime\": 1635006192.6413152, \"Dimensions\": {\"Algorithm\": \"Linear Learner\", \"Host\": \"algo-1\", \"Operation\": \"training\", \"epoch\": 1, \"model\": 6}, \"Metrics\": {\"train_absolute_loss_objective\": {\"sum\": 0.6499137878417969, \"count\": 1, \"min\": 0.6499137878417969, \"max\": 0.6499137878417969}}}\u001b[0m\n",
      "\u001b[34m#metrics {\"StartTime\": 1635006192.6413672, \"EndTime\": 1635006192.6413825, \"Dimensions\": {\"Algorithm\": \"Linear Learner\", \"Host\": \"algo-1\", \"Operation\": \"training\", \"epoch\": 1, \"model\": 7}, \"Metrics\": {\"train_absolute_loss_objective\": {\"sum\": 0.6207537698745728, \"count\": 1, \"min\": 0.6207537698745728, \"max\": 0.6207537698745728}}}\u001b[0m\n",
      "\u001b[34m#metrics {\"StartTime\": 1635006192.6414328, \"EndTime\": 1635006192.6414456, \"Dimensions\": {\"Algorithm\": \"Linear Learner\", \"Host\": \"algo-1\", \"Operation\": \"training\", \"epoch\": 1, \"model\": 8}, \"Metrics\": {\"train_absolute_loss_objective\": {\"sum\": 0.937524881362915, \"count\": 1, \"min\": 0.937524881362915, \"max\": 0.937524881362915}}}\u001b[0m\n",
      "\u001b[34m#metrics {\"StartTime\": 1635006192.6415005, \"EndTime\": 1635006192.6415174, \"Dimensions\": {\"Algorithm\": \"Linear Learner\", \"Host\": \"algo-1\", \"Operation\": \"training\", \"epoch\": 1, \"model\": 9}, \"Metrics\": {\"train_absolute_loss_objective\": {\"sum\": 0.8700098896026611, \"count\": 1, \"min\": 0.8700098896026611, \"max\": 0.8700098896026611}}}\u001b[0m\n",
      "\u001b[34m#metrics {\"StartTime\": 1635006192.6415703, \"EndTime\": 1635006192.641587, \"Dimensions\": {\"Algorithm\": \"Linear Learner\", \"Host\": \"algo-1\", \"Operation\": \"training\", \"epoch\": 1, \"model\": 10}, \"Metrics\": {\"train_absolute_loss_objective\": {\"sum\": 0.8766678619384766, \"count\": 1, \"min\": 0.8766678619384766, \"max\": 0.8766678619384766}}}\u001b[0m\n",
      "\u001b[34m#metrics {\"StartTime\": 1635006192.641637, \"EndTime\": 1635006192.6416516, \"Dimensions\": {\"Algorithm\": \"Linear Learner\", \"Host\": \"algo-1\", \"Operation\": \"training\", \"epoch\": 1, \"model\": 11}, \"Metrics\": {\"train_absolute_loss_objective\": {\"sum\": 0.861945104598999, \"count\": 1, \"min\": 0.861945104598999, \"max\": 0.861945104598999}}}\u001b[0m\n",
      "\u001b[34m#metrics {\"StartTime\": 1635006192.641695, \"EndTime\": 1635006192.6417093, \"Dimensions\": {\"Algorithm\": \"Linear Learner\", \"Host\": \"algo-1\", \"Operation\": \"training\", \"epoch\": 1, \"model\": 12}, \"Metrics\": {\"train_absolute_loss_objective\": {\"sum\": 0.5915598821640015, \"count\": 1, \"min\": 0.5915598821640015, \"max\": 0.5915598821640015}}}\u001b[0m\n",
      "\u001b[34m#metrics {\"StartTime\": 1635006192.64176, \"EndTime\": 1635006192.6417756, \"Dimensions\": {\"Algorithm\": \"Linear Learner\", \"Host\": \"algo-1\", \"Operation\": \"training\", \"epoch\": 1, \"model\": 13}, \"Metrics\": {\"train_absolute_loss_objective\": {\"sum\": 0.6146096467971802, \"count\": 1, \"min\": 0.6146096467971802, \"max\": 0.6146096467971802}}}\u001b[0m\n",
      "\u001b[34m#metrics {\"StartTime\": 1635006192.6418247, \"EndTime\": 1635006192.6418402, \"Dimensions\": {\"Algorithm\": \"Linear Learner\", \"Host\": \"algo-1\", \"Operation\": \"training\", \"epoch\": 1, \"model\": 14}, \"Metrics\": {\"train_absolute_loss_objective\": {\"sum\": 0.5904798889160157, \"count\": 1, \"min\": 0.5904798889160157, \"max\": 0.5904798889160157}}}\u001b[0m\n",
      "\u001b[34m#metrics {\"StartTime\": 1635006192.6418898, \"EndTime\": 1635006192.6419013, \"Dimensions\": {\"Algorithm\": \"Linear Learner\", \"Host\": \"algo-1\", \"Operation\": \"training\", \"epoch\": 1, \"model\": 15}, \"Metrics\": {\"train_absolute_loss_objective\": {\"sum\": 0.5984975719451904, \"count\": 1, \"min\": 0.5984975719451904, \"max\": 0.5984975719451904}}}\u001b[0m\n",
      "\u001b[34m#metrics {\"StartTime\": 1635006192.641936, \"EndTime\": 1635006192.6419454, \"Dimensions\": {\"Algorithm\": \"Linear Learner\", \"Host\": \"algo-1\", \"Operation\": \"training\", \"epoch\": 1, \"model\": 16}, \"Metrics\": {\"train_absolute_loss_objective\": {\"sum\": 0.842634801864624, \"count\": 1, \"min\": 0.842634801864624, \"max\": 0.842634801864624}}}\u001b[0m\n",
      "\u001b[34m#metrics {\"StartTime\": 1635006192.6419766, \"EndTime\": 1635006192.6419852, \"Dimensions\": {\"Algorithm\": \"Linear Learner\", \"Host\": \"algo-1\", \"Operation\": \"training\", \"epoch\": 1, \"model\": 17}, \"Metrics\": {\"train_absolute_loss_objective\": {\"sum\": 0.8970603179931641, \"count\": 1, \"min\": 0.8970603179931641, \"max\": 0.8970603179931641}}}\u001b[0m\n",
      "\u001b[34m#metrics {\"StartTime\": 1635006192.6420164, \"EndTime\": 1635006192.6420252, \"Dimensions\": {\"Algorithm\": \"Linear Learner\", \"Host\": \"algo-1\", \"Operation\": \"training\", \"epoch\": 1, \"model\": 18}, \"Metrics\": {\"train_absolute_loss_objective\": {\"sum\": 0.8730466365814209, \"count\": 1, \"min\": 0.8730466365814209, \"max\": 0.8730466365814209}}}\u001b[0m\n",
      "\u001b[34m#metrics {\"StartTime\": 1635006192.6420562, \"EndTime\": 1635006192.642065, \"Dimensions\": {\"Algorithm\": \"Linear Learner\", \"Host\": \"algo-1\", \"Operation\": \"training\", \"epoch\": 1, \"model\": 19}, \"Metrics\": {\"train_absolute_loss_objective\": {\"sum\": 0.8703645038604736, \"count\": 1, \"min\": 0.8703645038604736, \"max\": 0.8703645038604736}}}\u001b[0m\n",
      "\u001b[34m#metrics {\"StartTime\": 1635006192.6420956, \"EndTime\": 1635006192.6421041, \"Dimensions\": {\"Algorithm\": \"Linear Learner\", \"Host\": \"algo-1\", \"Operation\": \"training\", \"epoch\": 1, \"model\": 20}, \"Metrics\": {\"train_absolute_loss_objective\": {\"sum\": 0.6630218029022217, \"count\": 1, \"min\": 0.6630218029022217, \"max\": 0.6630218029022217}}}\u001b[0m\n",
      "\u001b[34m#metrics {\"StartTime\": 1635006192.6421347, \"EndTime\": 1635006192.6421432, \"Dimensions\": {\"Algorithm\": \"Linear Learner\", \"Host\": \"algo-1\", \"Operation\": \"training\", \"epoch\": 1, \"model\": 21}, \"Metrics\": {\"train_absolute_loss_objective\": {\"sum\": 0.6718219470977783, \"count\": 1, \"min\": 0.6718219470977783, \"max\": 0.6718219470977783}}}\u001b[0m\n",
      "\u001b[34m#metrics {\"StartTime\": 1635006192.6421769, \"EndTime\": 1635006192.6421857, \"Dimensions\": {\"Algorithm\": \"Linear Learner\", \"Host\": \"algo-1\", \"Operation\": \"training\", \"epoch\": 1, \"model\": 22}, \"Metrics\": {\"train_absolute_loss_objective\": {\"sum\": 0.6363770914077759, \"count\": 1, \"min\": 0.6363770914077759, \"max\": 0.6363770914077759}}}\u001b[0m\n",
      "\u001b[34m#metrics {\"StartTime\": 1635006192.6422188, \"EndTime\": 1635006192.642228, \"Dimensions\": {\"Algorithm\": \"Linear Learner\", \"Host\": \"algo-1\", \"Operation\": \"training\", \"epoch\": 1, \"model\": 23}, \"Metrics\": {\"train_absolute_loss_objective\": {\"sum\": 0.6875650453567504, \"count\": 1, \"min\": 0.6875650453567504, \"max\": 0.6875650453567504}}}\u001b[0m\n",
      "\u001b[34m#metrics {\"StartTime\": 1635006192.6422591, \"EndTime\": 1635006192.642268, \"Dimensions\": {\"Algorithm\": \"Linear Learner\", \"Host\": \"algo-1\", \"Operation\": \"training\", \"epoch\": 1, \"model\": 24}, \"Metrics\": {\"train_absolute_loss_objective\": {\"sum\": 0.8868406677246093, \"count\": 1, \"min\": 0.8868406677246093, \"max\": 0.8868406677246093}}}\u001b[0m\n",
      "\u001b[34m#metrics {\"StartTime\": 1635006192.6422982, \"EndTime\": 1635006192.6423066, \"Dimensions\": {\"Algorithm\": \"Linear Learner\", \"Host\": \"algo-1\", \"Operation\": \"training\", \"epoch\": 1, \"model\": 25}, \"Metrics\": {\"train_absolute_loss_objective\": {\"sum\": 0.9163277339935303, \"count\": 1, \"min\": 0.9163277339935303, \"max\": 0.9163277339935303}}}\u001b[0m\n",
      "\u001b[34m#metrics {\"StartTime\": 1635006192.642337, \"EndTime\": 1635006192.6423457, \"Dimensions\": {\"Algorithm\": \"Linear Learner\", \"Host\": \"algo-1\", \"Operation\": \"training\", \"epoch\": 1, \"model\": 26}, \"Metrics\": {\"train_absolute_loss_objective\": {\"sum\": 0.9059175872802734, \"count\": 1, \"min\": 0.9059175872802734, \"max\": 0.9059175872802734}}}\u001b[0m\n",
      "\u001b[34m#metrics {\"StartTime\": 1635006192.6423762, \"EndTime\": 1635006192.642385, \"Dimensions\": {\"Algorithm\": \"Linear Learner\", \"Host\": \"algo-1\", \"Operation\": \"training\", \"epoch\": 1, \"model\": 27}, \"Metrics\": {\"train_absolute_loss_objective\": {\"sum\": 0.9054531574249267, \"count\": 1, \"min\": 0.9054531574249267, \"max\": 0.9054531574249267}}}\u001b[0m\n",
      "\u001b[34m#metrics {\"StartTime\": 1635006192.6424153, \"EndTime\": 1635006192.6424239, \"Dimensions\": {\"Algorithm\": \"Linear Learner\", \"Host\": \"algo-1\", \"Operation\": \"training\", \"epoch\": 1, \"model\": 28}, \"Metrics\": {\"train_absolute_loss_objective\": {\"sum\": 1.044925537109375, \"count\": 1, \"min\": 1.044925537109375, \"max\": 1.044925537109375}}}\u001b[0m\n",
      "\u001b[34m#metrics {\"StartTime\": 1635006192.642454, \"EndTime\": 1635006192.6424627, \"Dimensions\": {\"Algorithm\": \"Linear Learner\", \"Host\": \"algo-1\", \"Operation\": \"training\", \"epoch\": 1, \"model\": 29}, \"Metrics\": {\"train_absolute_loss_objective\": {\"sum\": 1.0435201454162597, \"count\": 1, \"min\": 1.0435201454162597, \"max\": 1.0435201454162597}}}\u001b[0m\n",
      "\u001b[34m#metrics {\"StartTime\": 1635006192.6424932, \"EndTime\": 1635006192.6425018, \"Dimensions\": {\"Algorithm\": \"Linear Learner\", \"Host\": \"algo-1\", \"Operation\": \"training\", \"epoch\": 1, \"model\": 30}, \"Metrics\": {\"train_absolute_loss_objective\": {\"sum\": 1.0348495864868164, \"count\": 1, \"min\": 1.0348495864868164, \"max\": 1.0348495864868164}}}\u001b[0m\n",
      "\u001b[34m#metrics {\"StartTime\": 1635006192.6425328, \"EndTime\": 1635006192.6425414, \"Dimensions\": {\"Algorithm\": \"Linear Learner\", \"Host\": \"algo-1\", \"Operation\": \"training\", \"epoch\": 1, \"model\": 31}, \"Metrics\": {\"train_absolute_loss_objective\": {\"sum\": 1.0427010536193848, \"count\": 1, \"min\": 1.0427010536193848, \"max\": 1.0427010536193848}}}\u001b[0m\n",
      "\u001b[34m[10/23/2021 16:23:12 INFO 139629011109696] #quality_metric: host=algo-1, epoch=1, train absolute_loss_objective <loss>=0.8819659519195556\u001b[0m\n",
      "\u001b[34m[10/23/2021 16:23:12 INFO 139629011109696] #early_stopping_criteria_metric: host=algo-1, epoch=1, criteria=absolute_loss_objective, value=0.5845337677001953\u001b[0m\n",
      "\u001b[34m[10/23/2021 16:23:12 INFO 139629011109696] Epoch 1: Loss improved. Updating best model\u001b[0m\n",
      "\u001b[34m[10/23/2021 16:23:12 INFO 139629011109696] Saving model for epoch: 1\u001b[0m\n",
      "\u001b[34m[10/23/2021 16:23:12 INFO 139629011109696] Saved checkpoint to \"/tmp/tmp6jczmubm/mx-mod-0000.params\"\u001b[0m\n",
      "\u001b[34m[10/23/2021 16:23:12 INFO 139629011109696] #progress_metric: host=algo-1, completed 40.0 % of epochs\u001b[0m\n",
      "\u001b[34m#metrics {\"StartTime\": 1635006192.5176568, \"EndTime\": 1635006192.6564825, \"Dimensions\": {\"Algorithm\": \"Linear Learner\", \"Host\": \"algo-1\", \"Operation\": \"training\", \"epoch\": 1, \"Meta\": \"training_data_iter\"}, \"Metrics\": {\"Total Records Seen\": {\"sum\": 83.0, \"count\": 1, \"min\": 83, \"max\": 83}, \"Total Batches Seen\": {\"sum\": 19.0, \"count\": 1, \"min\": 19, \"max\": 19}, \"Max Records Seen Between Resets\": {\"sum\": 26.0, \"count\": 1, \"min\": 26, \"max\": 26}, \"Max Batches Seen Between Resets\": {\"sum\": 6.0, \"count\": 1, \"min\": 6, \"max\": 6}, \"Reset Count\": {\"sum\": 4.0, \"count\": 1, \"min\": 4, \"max\": 4}, \"Number of Records Since Last Reset\": {\"sum\": 26.0, \"count\": 1, \"min\": 26, \"max\": 26}, \"Number of Batches Since Last Reset\": {\"sum\": 6.0, \"count\": 1, \"min\": 6, \"max\": 6}}}\u001b[0m\n",
      "\u001b[34m[10/23/2021 16:23:12 INFO 139629011109696] #throughput_metric: host=algo-1, train throughput=187.11366806734944 records/second\u001b[0m\n",
      "\u001b[34m[2021-10-23 16:23:12.774] [tensorio] [info] epoch_stats={\"data_pipeline\": \"/opt/ml/input/data/train\", \"epoch\": 8, \"duration\": 117, \"num_examples\": 6, \"num_bytes\": 1248}\u001b[0m\n",
      "\u001b[34m#metrics {\"StartTime\": 1635006192.7741213, \"EndTime\": 1635006192.774199, \"Dimensions\": {\"Algorithm\": \"Linear Learner\", \"Host\": \"algo-1\", \"Operation\": \"training\", \"epoch\": 2, \"model\": 0}, \"Metrics\": {\"train_absolute_loss_objective\": {\"sum\": 0.8595255661010742, \"count\": 1, \"min\": 0.8595255661010742, \"max\": 0.8595255661010742}}}\u001b[0m\n",
      "\u001b[34m#metrics {\"StartTime\": 1635006192.7742789, \"EndTime\": 1635006192.7742977, \"Dimensions\": {\"Algorithm\": \"Linear Learner\", \"Host\": \"algo-1\", \"Operation\": \"training\", \"epoch\": 2, \"model\": 1}, \"Metrics\": {\"train_absolute_loss_objective\": {\"sum\": 0.8792308521270752, \"count\": 1, \"min\": 0.8792308521270752, \"max\": 0.8792308521270752}}}\u001b[0m\n",
      "\u001b[34m#metrics {\"StartTime\": 1635006192.7743504, \"EndTime\": 1635006192.7743661, \"Dimensions\": {\"Algorithm\": \"Linear Learner\", \"Host\": \"algo-1\", \"Operation\": \"training\", \"epoch\": 2, \"model\": 2}, \"Metrics\": {\"train_absolute_loss_objective\": {\"sum\": 0.8619225788116455, \"count\": 1, \"min\": 0.8619225788116455, \"max\": 0.8619225788116455}}}\u001b[0m\n",
      "\u001b[34m#metrics {\"StartTime\": 1635006192.774421, \"EndTime\": 1635006192.7744372, \"Dimensions\": {\"Algorithm\": \"Linear Learner\", \"Host\": \"algo-1\", \"Operation\": \"training\", \"epoch\": 2, \"model\": 3}, \"Metrics\": {\"train_absolute_loss_objective\": {\"sum\": 0.878219633102417, \"count\": 1, \"min\": 0.878219633102417, \"max\": 0.878219633102417}}}\u001b[0m\n",
      "\u001b[34m#metrics {\"StartTime\": 1635006192.7744951, \"EndTime\": 1635006192.774513, \"Dimensions\": {\"Algorithm\": \"Linear Learner\", \"Host\": \"algo-1\", \"Operation\": \"training\", \"epoch\": 2, \"model\": 4}, \"Metrics\": {\"train_absolute_loss_objective\": {\"sum\": 0.21156331300735473, \"count\": 1, \"min\": 0.21156331300735473, \"max\": 0.21156331300735473}}}\u001b[0m\n",
      "\u001b[34m#metrics {\"StartTime\": 1635006192.7745643, \"EndTime\": 1635006192.774581, \"Dimensions\": {\"Algorithm\": \"Linear Learner\", \"Host\": \"algo-1\", \"Operation\": \"training\", \"epoch\": 2, \"model\": 5}, \"Metrics\": {\"train_absolute_loss_objective\": {\"sum\": 0.23807374000549317, \"count\": 1, \"min\": 0.23807374000549317, \"max\": 0.23807374000549317}}}\u001b[0m\n",
      "\u001b[34m#metrics {\"StartTime\": 1635006192.7746277, \"EndTime\": 1635006192.774638, \"Dimensions\": {\"Algorithm\": \"Linear Learner\", \"Host\": \"algo-1\", \"Operation\": \"training\", \"epoch\": 2, \"model\": 6}, \"Metrics\": {\"train_absolute_loss_objective\": {\"sum\": 0.26300133228302003, \"count\": 1, \"min\": 0.26300133228302003, \"max\": 0.26300133228302003}}}\u001b[0m\n",
      "\u001b[34m#metrics {\"StartTime\": 1635006192.7746806, \"EndTime\": 1635006192.7746966, \"Dimensions\": {\"Algorithm\": \"Linear Learner\", \"Host\": \"algo-1\", \"Operation\": \"training\", \"epoch\": 2, \"model\": 7}, \"Metrics\": {\"train_absolute_loss_objective\": {\"sum\": 0.256346595287323, \"count\": 1, \"min\": 0.256346595287323, \"max\": 0.256346595287323}}}\u001b[0m\n",
      "\u001b[34m#metrics {\"StartTime\": 1635006192.774748, \"EndTime\": 1635006192.7747643, \"Dimensions\": {\"Algorithm\": \"Linear Learner\", \"Host\": \"algo-1\", \"Operation\": \"training\", \"epoch\": 2, \"model\": 8}, \"Metrics\": {\"train_absolute_loss_objective\": {\"sum\": 0.9150851058959961, \"count\": 1, \"min\": 0.9150851058959961, \"max\": 0.9150851058959961}}}\u001b[0m\n",
      "\u001b[34m#metrics {\"StartTime\": 1635006192.7748125, \"EndTime\": 1635006192.7748284, \"Dimensions\": {\"Algorithm\": \"Linear Learner\", \"Host\": \"algo-1\", \"Operation\": \"training\", \"epoch\": 2, \"model\": 9}, \"Metrics\": {\"train_absolute_loss_objective\": {\"sum\": 0.8474886035919189, \"count\": 1, \"min\": 0.8474886035919189, \"max\": 0.8474886035919189}}}\u001b[0m\n",
      "\u001b[34m#metrics {\"StartTime\": 1635006192.774877, \"EndTime\": 1635006192.7748928, \"Dimensions\": {\"Algorithm\": \"Linear Learner\", \"Host\": \"algo-1\", \"Operation\": \"training\", \"epoch\": 2, \"model\": 10}, \"Metrics\": {\"train_absolute_loss_objective\": {\"sum\": 0.8542290306091309, \"count\": 1, \"min\": 0.8542290306091309, \"max\": 0.8542290306091309}}}\u001b[0m\n",
      "\u001b[34m#metrics {\"StartTime\": 1635006192.774945, \"EndTime\": 1635006192.7749617, \"Dimensions\": {\"Algorithm\": \"Linear Learner\", \"Host\": \"algo-1\", \"Operation\": \"training\", \"epoch\": 2, \"model\": 11}, \"Metrics\": {\"train_absolute_loss_objective\": {\"sum\": 0.8394239616394042, \"count\": 1, \"min\": 0.8394239616394042, \"max\": 0.8394239616394042}}}\u001b[0m\n",
      "\u001b[34m#metrics {\"StartTime\": 1635006192.775012, \"EndTime\": 1635006192.775028, \"Dimensions\": {\"Algorithm\": \"Linear Learner\", \"Host\": \"algo-1\", \"Operation\": \"training\", \"epoch\": 2, \"model\": 12}, \"Metrics\": {\"train_absolute_loss_objective\": {\"sum\": 0.23705979347229003, \"count\": 1, \"min\": 0.23705979347229003, \"max\": 0.23705979347229003}}}\u001b[0m\n",
      "\u001b[34m#metrics {\"StartTime\": 1635006192.7750762, \"EndTime\": 1635006192.775092, \"Dimensions\": {\"Algorithm\": \"Linear Learner\", \"Host\": \"algo-1\", \"Operation\": \"training\", \"epoch\": 2, \"model\": 13}, \"Metrics\": {\"train_absolute_loss_objective\": {\"sum\": 0.33848570585250853, \"count\": 1, \"min\": 0.33848570585250853, \"max\": 0.33848570585250853}}}\u001b[0m\n",
      "\u001b[34m#metrics {\"StartTime\": 1635006192.7751443, \"EndTime\": 1635006192.775161, \"Dimensions\": {\"Algorithm\": \"Linear Learner\", \"Host\": \"algo-1\", \"Operation\": \"training\", \"epoch\": 2, \"model\": 14}, \"Metrics\": {\"train_absolute_loss_objective\": {\"sum\": 0.23685868501663207, \"count\": 1, \"min\": 0.23685868501663207, \"max\": 0.23685868501663207}}}\u001b[0m\n",
      "\u001b[34m#metrics {\"StartTime\": 1635006192.775213, \"EndTime\": 1635006192.775229, \"Dimensions\": {\"Algorithm\": \"Linear Learner\", \"Host\": \"algo-1\", \"Operation\": \"training\", \"epoch\": 2, \"model\": 15}, \"Metrics\": {\"train_absolute_loss_objective\": {\"sum\": 0.250642626285553, \"count\": 1, \"min\": 0.250642626285553, \"max\": 0.250642626285553}}}\u001b[0m\n",
      "\u001b[34m#metrics {\"StartTime\": 1635006192.775277, \"EndTime\": 1635006192.7752922, \"Dimensions\": {\"Algorithm\": \"Linear Learner\", \"Host\": \"algo-1\", \"Operation\": \"training\", \"epoch\": 2, \"model\": 16}, \"Metrics\": {\"train_absolute_loss_objective\": {\"sum\": 0.8197561454772949, \"count\": 1, \"min\": 0.8197561454772949, \"max\": 0.8197561454772949}}}\u001b[0m\n",
      "\u001b[34m#metrics {\"StartTime\": 1635006192.7753747, \"EndTime\": 1635006192.7753909, \"Dimensions\": {\"Algorithm\": \"Linear Learner\", \"Host\": \"algo-1\", \"Operation\": \"training\", \"epoch\": 2, \"model\": 17}, \"Metrics\": {\"train_absolute_loss_objective\": {\"sum\": 0.8746650695800782, \"count\": 1, \"min\": 0.8746650695800782, \"max\": 0.8746650695800782}}}\u001b[0m\n",
      "\u001b[34m#metrics {\"StartTime\": 1635006192.7754478, \"EndTime\": 1635006192.775465, \"Dimensions\": {\"Algorithm\": \"Linear Learner\", \"Host\": \"algo-1\", \"Operation\": \"training\", \"epoch\": 2, \"model\": 18}, \"Metrics\": {\"train_absolute_loss_objective\": {\"sum\": 0.8507758617401123, \"count\": 1, \"min\": 0.8507758617401123, \"max\": 0.8507758617401123}}}\u001b[0m\n",
      "\u001b[34m#metrics {\"StartTime\": 1635006192.7755144, \"EndTime\": 1635006192.7755246, \"Dimensions\": {\"Algorithm\": \"Linear Learner\", \"Host\": \"algo-1\", \"Operation\": \"training\", \"epoch\": 2, \"model\": 19}, \"Metrics\": {\"train_absolute_loss_objective\": {\"sum\": 0.8480171775817871, \"count\": 1, \"min\": 0.8480171775817871, \"max\": 0.8480171775817871}}}\u001b[0m\n",
      "\u001b[34m#metrics {\"StartTime\": 1635006192.7755685, \"EndTime\": 1635006192.775578, \"Dimensions\": {\"Algorithm\": \"Linear Learner\", \"Host\": \"algo-1\", \"Operation\": \"training\", \"epoch\": 2, \"model\": 20}, \"Metrics\": {\"train_absolute_loss_objective\": {\"sum\": 0.3040439939498901, \"count\": 1, \"min\": 0.3040439939498901, \"max\": 0.3040439939498901}}}\u001b[0m\n",
      "\u001b[34m#metrics {\"StartTime\": 1635006192.7756245, \"EndTime\": 1635006192.7756398, \"Dimensions\": {\"Algorithm\": \"Linear Learner\", \"Host\": \"algo-1\", \"Operation\": \"training\", \"epoch\": 2, \"model\": 21}, \"Metrics\": {\"train_absolute_loss_objective\": {\"sum\": 0.3274744272232056, \"count\": 1, \"min\": 0.3274744272232056, \"max\": 0.3274744272232056}}}\u001b[0m\n",
      "\u001b[34m#metrics {\"StartTime\": 1635006192.775681, \"EndTime\": 1635006192.7756937, \"Dimensions\": {\"Algorithm\": \"Linear Learner\", \"Host\": \"algo-1\", \"Operation\": \"training\", \"epoch\": 2, \"model\": 22}, \"Metrics\": {\"train_absolute_loss_objective\": {\"sum\": 0.2977646970748901, \"count\": 1, \"min\": 0.2977646970748901, \"max\": 0.2977646970748901}}}\u001b[0m\n",
      "\u001b[34m#metrics {\"StartTime\": 1635006192.7757435, \"EndTime\": 1635006192.7757604, \"Dimensions\": {\"Algorithm\": \"Linear Learner\", \"Host\": \"algo-1\", \"Operation\": \"training\", \"epoch\": 2, \"model\": 23}, \"Metrics\": {\"train_absolute_loss_objective\": {\"sum\": 0.33244104862213136, \"count\": 1, \"min\": 0.33244104862213136, \"max\": 0.33244104862213136}}}\u001b[0m\n",
      "\u001b[34m#metrics {\"StartTime\": 1635006192.7758176, \"EndTime\": 1635006192.7758348, \"Dimensions\": {\"Algorithm\": \"Linear Learner\", \"Host\": \"algo-1\", \"Operation\": \"training\", \"epoch\": 2, \"model\": 24}, \"Metrics\": {\"train_absolute_loss_objective\": {\"sum\": 0.9016923809051514, \"count\": 1, \"min\": 0.9016923809051514, \"max\": 0.9016923809051514}}}\u001b[0m\n",
      "\u001b[34m#metrics {\"StartTime\": 1635006192.775888, \"EndTime\": 1635006192.7759032, \"Dimensions\": {\"Algorithm\": \"Linear Learner\", \"Host\": \"algo-1\", \"Operation\": \"training\", \"epoch\": 2, \"model\": 25}, \"Metrics\": {\"train_absolute_loss_objective\": {\"sum\": 0.9011731910705566, \"count\": 1, \"min\": 0.9011731910705566, \"max\": 0.9011731910705566}}}\u001b[0m\n",
      "\u001b[34m#metrics {\"StartTime\": 1635006192.7759619, \"EndTime\": 1635006192.7759788, \"Dimensions\": {\"Algorithm\": \"Linear Learner\", \"Host\": \"algo-1\", \"Operation\": \"training\", \"epoch\": 2, \"model\": 26}, \"Metrics\": {\"train_absolute_loss_objective\": {\"sum\": 0.9003927993774414, \"count\": 1, \"min\": 0.9003927993774414, \"max\": 0.9003927993774414}}}\u001b[0m\n",
      "\u001b[34m#metrics {\"StartTime\": 1635006192.77603, \"EndTime\": 1635006192.7760465, \"Dimensions\": {\"Algorithm\": \"Linear Learner\", \"Host\": \"algo-1\", \"Operation\": \"training\", \"epoch\": 2, \"model\": 27}, \"Metrics\": {\"train_absolute_loss_objective\": {\"sum\": 0.9099575042724609, \"count\": 1, \"min\": 0.9099575042724609, \"max\": 0.9099575042724609}}}\u001b[0m\n",
      "\u001b[34m#metrics {\"StartTime\": 1635006192.7760894, \"EndTime\": 1635006192.7761035, \"Dimensions\": {\"Algorithm\": \"Linear Learner\", \"Host\": \"algo-1\", \"Operation\": \"training\", \"epoch\": 2, \"model\": 28}, \"Metrics\": {\"train_absolute_loss_objective\": {\"sum\": 0.9482294368743897, \"count\": 1, \"min\": 0.9482294368743897, \"max\": 0.9482294368743897}}}\u001b[0m\n",
      "\u001b[34m#metrics {\"StartTime\": 1635006192.7761452, \"EndTime\": 1635006192.776156, \"Dimensions\": {\"Algorithm\": \"Linear Learner\", \"Host\": \"algo-1\", \"Operation\": \"training\", \"epoch\": 2, \"model\": 29}, \"Metrics\": {\"train_absolute_loss_objective\": {\"sum\": 0.9498935317993165, \"count\": 1, \"min\": 0.9498935317993165, \"max\": 0.9498935317993165}}}\u001b[0m\n",
      "\u001b[34m#metrics {\"StartTime\": 1635006192.7761989, \"EndTime\": 1635006192.7762089, \"Dimensions\": {\"Algorithm\": \"Linear Learner\", \"Host\": \"algo-1\", \"Operation\": \"training\", \"epoch\": 2, \"model\": 30}, \"Metrics\": {\"train_absolute_loss_objective\": {\"sum\": 0.9563449096679687, \"count\": 1, \"min\": 0.9563449096679687, \"max\": 0.9563449096679687}}}\u001b[0m\n",
      "\u001b[34m#metrics {\"StartTime\": 1635006192.7762508, \"EndTime\": 1635006192.7762654, \"Dimensions\": {\"Algorithm\": \"Linear Learner\", \"Host\": \"algo-1\", \"Operation\": \"training\", \"epoch\": 2, \"model\": 31}, \"Metrics\": {\"train_absolute_loss_objective\": {\"sum\": 0.9398866462707519, \"count\": 1, \"min\": 0.9398866462707519, \"max\": 0.9398866462707519}}}\u001b[0m\n",
      "\u001b[34m[10/23/2021 16:23:12 INFO 139629011109696] #quality_metric: host=algo-1, epoch=2, train absolute_loss_objective <loss>=0.8595255661010742\u001b[0m\n",
      "\u001b[34m[10/23/2021 16:23:12 INFO 139629011109696] #early_stopping_criteria_metric: host=algo-1, epoch=2, criteria=absolute_loss_objective, value=0.21156331300735473\u001b[0m\n",
      "\u001b[34m[10/23/2021 16:23:12 INFO 139629011109696] Epoch 2: Loss improved. Updating best model\u001b[0m\n",
      "\u001b[34m[10/23/2021 16:23:12 INFO 139629011109696] Saving model for epoch: 2\u001b[0m\n",
      "\u001b[34m[10/23/2021 16:23:12 INFO 139629011109696] Saved checkpoint to \"/tmp/tmpjayy8yzy/mx-mod-0000.params\"\u001b[0m\n",
      "\u001b[34m[10/23/2021 16:23:12 INFO 139629011109696] #progress_metric: host=algo-1, completed 60.0 % of epochs\u001b[0m\n",
      "\u001b[34m#metrics {\"StartTime\": 1635006192.6567757, \"EndTime\": 1635006192.785434, \"Dimensions\": {\"Algorithm\": \"Linear Learner\", \"Host\": \"algo-1\", \"Operation\": \"training\", \"epoch\": 2, \"Meta\": \"training_data_iter\"}, \"Metrics\": {\"Total Records Seen\": {\"sum\": 109.0, \"count\": 1, \"min\": 109, \"max\": 109}, \"Total Batches Seen\": {\"sum\": 25.0, \"count\": 1, \"min\": 25, \"max\": 25}, \"Max Records Seen Between Resets\": {\"sum\": 26.0, \"count\": 1, \"min\": 26, \"max\": 26}, \"Max Batches Seen Between Resets\": {\"sum\": 6.0, \"count\": 1, \"min\": 6, \"max\": 6}, \"Reset Count\": {\"sum\": 5.0, \"count\": 1, \"min\": 5, \"max\": 5}, \"Number of Records Since Last Reset\": {\"sum\": 26.0, \"count\": 1, \"min\": 26, \"max\": 26}, \"Number of Batches Since Last Reset\": {\"sum\": 6.0, \"count\": 1, \"min\": 6, \"max\": 6}}}\u001b[0m\n",
      "\u001b[34m[10/23/2021 16:23:12 INFO 139629011109696] #throughput_metric: host=algo-1, train throughput=201.8784344651657 records/second\u001b[0m\n",
      "\u001b[34m[2021-10-23 16:23:12.901] [tensorio] [info] epoch_stats={\"data_pipeline\": \"/opt/ml/input/data/train\", \"epoch\": 10, \"duration\": 116, \"num_examples\": 6, \"num_bytes\": 1248}\u001b[0m\n",
      "\u001b[34m#metrics {\"StartTime\": 1635006192.9019775, \"EndTime\": 1635006192.9020567, \"Dimensions\": {\"Algorithm\": \"Linear Learner\", \"Host\": \"algo-1\", \"Operation\": \"training\", \"epoch\": 3, \"model\": 0}, \"Metrics\": {\"train_absolute_loss_objective\": {\"sum\": 0.8373278427124023, \"count\": 1, \"min\": 0.8373278427124023, \"max\": 0.8373278427124023}}}\u001b[0m\n",
      "\u001b[34m#metrics {\"StartTime\": 1635006192.9021218, \"EndTime\": 1635006192.902138, \"Dimensions\": {\"Algorithm\": \"Linear Learner\", \"Host\": \"algo-1\", \"Operation\": \"training\", \"epoch\": 3, \"model\": 1}, \"Metrics\": {\"train_absolute_loss_objective\": {\"sum\": 0.8568088722229004, \"count\": 1, \"min\": 0.8568088722229004, \"max\": 0.8568088722229004}}}\u001b[0m\n",
      "\u001b[34m#metrics {\"StartTime\": 1635006192.902185, \"EndTime\": 1635006192.9021997, \"Dimensions\": {\"Algorithm\": \"Linear Learner\", \"Host\": \"algo-1\", \"Operation\": \"training\", \"epoch\": 3, \"model\": 2}, \"Metrics\": {\"train_absolute_loss_objective\": {\"sum\": 0.8397248077392578, \"count\": 1, \"min\": 0.8397248077392578, \"max\": 0.8397248077392578}}}\u001b[0m\n",
      "\u001b[34m#metrics {\"StartTime\": 1635006192.9022543, \"EndTime\": 1635006192.9022708, \"Dimensions\": {\"Algorithm\": \"Linear Learner\", \"Host\": \"algo-1\", \"Operation\": \"training\", \"epoch\": 3, \"model\": 3}, \"Metrics\": {\"train_absolute_loss_objective\": {\"sum\": 0.8557976341247558, \"count\": 1, \"min\": 0.8557976341247558, \"max\": 0.8557976341247558}}}\u001b[0m\n",
      "\u001b[34m#metrics {\"StartTime\": 1635006192.9023285, \"EndTime\": 1635006192.9023454, \"Dimensions\": {\"Algorithm\": \"Linear Learner\", \"Host\": \"algo-1\", \"Operation\": \"training\", \"epoch\": 3, \"model\": 4}, \"Metrics\": {\"train_absolute_loss_objective\": {\"sum\": 0.24390487432479857, \"count\": 1, \"min\": 0.24390487432479857, \"max\": 0.24390487432479857}}}\u001b[0m\n",
      "\u001b[34m#metrics {\"StartTime\": 1635006192.9023957, \"EndTime\": 1635006192.9024107, \"Dimensions\": {\"Algorithm\": \"Linear Learner\", \"Host\": \"algo-1\", \"Operation\": \"training\", \"epoch\": 3, \"model\": 5}, \"Metrics\": {\"train_absolute_loss_objective\": {\"sum\": 0.28116788387298586, \"count\": 1, \"min\": 0.28116788387298586, \"max\": 0.28116788387298586}}}\u001b[0m\n",
      "\u001b[34m#metrics {\"StartTime\": 1635006192.9024618, \"EndTime\": 1635006192.9024773, \"Dimensions\": {\"Algorithm\": \"Linear Learner\", \"Host\": \"algo-1\", \"Operation\": \"training\", \"epoch\": 3, \"model\": 6}, \"Metrics\": {\"train_absolute_loss_objective\": {\"sum\": 0.3666059160232544, \"count\": 1, \"min\": 0.3666059160232544, \"max\": 0.3666059160232544}}}\u001b[0m\n",
      "\u001b[34m#metrics {\"StartTime\": 1635006192.9025278, \"EndTime\": 1635006192.9025419, \"Dimensions\": {\"Algorithm\": \"Linear Learner\", \"Host\": \"algo-1\", \"Operation\": \"training\", \"epoch\": 3, \"model\": 7}, \"Metrics\": {\"train_absolute_loss_objective\": {\"sum\": 0.3912452220916748, \"count\": 1, \"min\": 0.3912452220916748, \"max\": 0.3912452220916748}}}\u001b[0m\n",
      "\u001b[34m#metrics {\"StartTime\": 1635006192.9025884, \"EndTime\": 1635006192.9026022, \"Dimensions\": {\"Algorithm\": \"Linear Learner\", \"Host\": \"algo-1\", \"Operation\": \"training\", \"epoch\": 3, \"model\": 8}, \"Metrics\": {\"train_absolute_loss_objective\": {\"sum\": 0.8928892707824707, \"count\": 1, \"min\": 0.8928892707824707, \"max\": 0.8928892707824707}}}\u001b[0m\n",
      "\u001b[34m#metrics {\"StartTime\": 1635006192.902647, \"EndTime\": 1635006192.9026616, \"Dimensions\": {\"Algorithm\": \"Linear Learner\", \"Host\": \"algo-1\", \"Operation\": \"training\", \"epoch\": 3, \"model\": 9}, \"Metrics\": {\"train_absolute_loss_objective\": {\"sum\": 0.8250696563720703, \"count\": 1, \"min\": 0.8250696563720703, \"max\": 0.8250696563720703}}}\u001b[0m\n",
      "\u001b[34m#metrics {\"StartTime\": 1635006192.9027116, \"EndTime\": 1635006192.9027278, \"Dimensions\": {\"Algorithm\": \"Linear Learner\", \"Host\": \"algo-1\", \"Operation\": \"training\", \"epoch\": 3, \"model\": 10}, \"Metrics\": {\"train_absolute_loss_objective\": {\"sum\": 0.8320341491699219, \"count\": 1, \"min\": 0.8320341491699219, \"max\": 0.8320341491699219}}}\u001b[0m\n",
      "\u001b[34m#metrics {\"StartTime\": 1635006192.9027777, \"EndTime\": 1635006192.9027934, \"Dimensions\": {\"Algorithm\": \"Linear Learner\", \"Host\": \"algo-1\", \"Operation\": \"training\", \"epoch\": 3, \"model\": 11}, \"Metrics\": {\"train_absolute_loss_objective\": {\"sum\": 0.8170051383972168, \"count\": 1, \"min\": 0.8170051383972168, \"max\": 0.8170051383972168}}}\u001b[0m\n",
      "\u001b[34m#metrics {\"StartTime\": 1635006192.902842, \"EndTime\": 1635006192.9028573, \"Dimensions\": {\"Algorithm\": \"Linear Learner\", \"Host\": \"algo-1\", \"Operation\": \"training\", \"epoch\": 3, \"model\": 12}, \"Metrics\": {\"train_absolute_loss_objective\": {\"sum\": 0.27579302310943604, \"count\": 1, \"min\": 0.27579302310943604, \"max\": 0.27579302310943604}}}\u001b[0m\n",
      "\u001b[34m#metrics {\"StartTime\": 1635006192.9029064, \"EndTime\": 1635006192.9029224, \"Dimensions\": {\"Algorithm\": \"Linear Learner\", \"Host\": \"algo-1\", \"Operation\": \"training\", \"epoch\": 3, \"model\": 13}, \"Metrics\": {\"train_absolute_loss_objective\": {\"sum\": 0.33149555683135984, \"count\": 1, \"min\": 0.33149555683135984, \"max\": 0.33149555683135984}}}\u001b[0m\n",
      "\u001b[34m#metrics {\"StartTime\": 1635006192.9029696, \"EndTime\": 1635006192.9029849, \"Dimensions\": {\"Algorithm\": \"Linear Learner\", \"Host\": \"algo-1\", \"Operation\": \"training\", \"epoch\": 3, \"model\": 14}, \"Metrics\": {\"train_absolute_loss_objective\": {\"sum\": 0.27672170639038085, \"count\": 1, \"min\": 0.27672170639038085, \"max\": 0.27672170639038085}}}\u001b[0m\n",
      "\u001b[34m#metrics {\"StartTime\": 1635006192.9030335, \"EndTime\": 1635006192.9030495, \"Dimensions\": {\"Algorithm\": \"Linear Learner\", \"Host\": \"algo-1\", \"Operation\": \"training\", \"epoch\": 3, \"model\": 15}, \"Metrics\": {\"train_absolute_loss_objective\": {\"sum\": 0.36048418521881104, \"count\": 1, \"min\": 0.36048418521881104, \"max\": 0.36048418521881104}}}\u001b[0m\n",
      "\u001b[34m#metrics {\"StartTime\": 1635006192.9030976, \"EndTime\": 1635006192.9031124, \"Dimensions\": {\"Algorithm\": \"Linear Learner\", \"Host\": \"algo-1\", \"Operation\": \"training\", \"epoch\": 3, \"model\": 16}, \"Metrics\": {\"train_absolute_loss_objective\": {\"sum\": 0.7974418354034424, \"count\": 1, \"min\": 0.7974418354034424, \"max\": 0.7974418354034424}}}\u001b[0m\n",
      "\u001b[34m#metrics {\"StartTime\": 1635006192.9031644, \"EndTime\": 1635006192.9031801, \"Dimensions\": {\"Algorithm\": \"Linear Learner\", \"Host\": \"algo-1\", \"Operation\": \"training\", \"epoch\": 3, \"model\": 17}, \"Metrics\": {\"train_absolute_loss_objective\": {\"sum\": 0.8525171089172363, \"count\": 1, \"min\": 0.8525171089172363, \"max\": 0.8525171089172363}}}\u001b[0m\n",
      "\u001b[34m#metrics {\"StartTime\": 1635006192.9032354, \"EndTime\": 1635006192.903251, \"Dimensions\": {\"Algorithm\": \"Linear Learner\", \"Host\": \"algo-1\", \"Operation\": \"training\", \"epoch\": 3, \"model\": 18}, \"Metrics\": {\"train_absolute_loss_objective\": {\"sum\": 0.8288985824584961, \"count\": 1, \"min\": 0.8288985824584961, \"max\": 0.8288985824584961}}}\u001b[0m\n",
      "\u001b[34m#metrics {\"StartTime\": 1635006192.9032993, \"EndTime\": 1635006192.9033396, \"Dimensions\": {\"Algorithm\": \"Linear Learner\", \"Host\": \"algo-1\", \"Operation\": \"training\", \"epoch\": 3, \"model\": 19}, \"Metrics\": {\"train_absolute_loss_objective\": {\"sum\": 0.8259256076812744, \"count\": 1, \"min\": 0.8259256076812744, \"max\": 0.8259256076812744}}}\u001b[0m\n",
      "\u001b[34m#metrics {\"StartTime\": 1635006192.9033878, \"EndTime\": 1635006192.9034033, \"Dimensions\": {\"Algorithm\": \"Linear Learner\", \"Host\": \"algo-1\", \"Operation\": \"training\", \"epoch\": 3, \"model\": 20}, \"Metrics\": {\"train_absolute_loss_objective\": {\"sum\": 0.33352357864379883, \"count\": 1, \"min\": 0.33352357864379883, \"max\": 0.33352357864379883}}}\u001b[0m\n",
      "\u001b[34m#metrics {\"StartTime\": 1635006192.903452, \"EndTime\": 1635006192.9034672, \"Dimensions\": {\"Algorithm\": \"Linear Learner\", \"Host\": \"algo-1\", \"Operation\": \"training\", \"epoch\": 3, \"model\": 21}, \"Metrics\": {\"train_absolute_loss_objective\": {\"sum\": 0.28049000263214113, \"count\": 1, \"min\": 0.28049000263214113, \"max\": 0.28049000263214113}}}\u001b[0m\n",
      "\u001b[34m#metrics {\"StartTime\": 1635006192.9035144, \"EndTime\": 1635006192.9035301, \"Dimensions\": {\"Algorithm\": \"Linear Learner\", \"Host\": \"algo-1\", \"Operation\": \"training\", \"epoch\": 3, \"model\": 22}, \"Metrics\": {\"train_absolute_loss_objective\": {\"sum\": 0.3409471225738525, \"count\": 1, \"min\": 0.3409471225738525, \"max\": 0.3409471225738525}}}\u001b[0m\n",
      "\u001b[34m#metrics {\"StartTime\": 1635006192.9035833, \"EndTime\": 1635006192.9035995, \"Dimensions\": {\"Algorithm\": \"Linear Learner\", \"Host\": \"algo-1\", \"Operation\": \"training\", \"epoch\": 3, \"model\": 23}, \"Metrics\": {\"train_absolute_loss_objective\": {\"sum\": 0.2780951261520386, \"count\": 1, \"min\": 0.2780951261520386, \"max\": 0.2780951261520386}}}\u001b[0m\n",
      "\u001b[34m#metrics {\"StartTime\": 1635006192.9036384, \"EndTime\": 1635006192.9036527, \"Dimensions\": {\"Algorithm\": \"Linear Learner\", \"Host\": \"algo-1\", \"Operation\": \"training\", \"epoch\": 3, \"model\": 24}, \"Metrics\": {\"train_absolute_loss_objective\": {\"sum\": 0.9157487869262695, \"count\": 1, \"min\": 0.9157487869262695, \"max\": 0.9157487869262695}}}\u001b[0m\n",
      "\u001b[34m#metrics {\"StartTime\": 1635006192.9036999, \"EndTime\": 1635006192.9037151, \"Dimensions\": {\"Algorithm\": \"Linear Learner\", \"Host\": \"algo-1\", \"Operation\": \"training\", \"epoch\": 3, \"model\": 25}, \"Metrics\": {\"train_absolute_loss_objective\": {\"sum\": 0.8962479209899903, \"count\": 1, \"min\": 0.8962479209899903, \"max\": 0.8962479209899903}}}\u001b[0m\n",
      "\u001b[34m#metrics {\"StartTime\": 1635006192.9037652, \"EndTime\": 1635006192.9037814, \"Dimensions\": {\"Algorithm\": \"Linear Learner\", \"Host\": \"algo-1\", \"Operation\": \"training\", \"epoch\": 3, \"model\": 26}, \"Metrics\": {\"train_absolute_loss_objective\": {\"sum\": 0.9046572685241699, \"count\": 1, \"min\": 0.9046572685241699, \"max\": 0.9046572685241699}}}\u001b[0m\n",
      "\u001b[34m#metrics {\"StartTime\": 1635006192.903834, \"EndTime\": 1635006192.9038694, \"Dimensions\": {\"Algorithm\": \"Linear Learner\", \"Host\": \"algo-1\", \"Operation\": \"training\", \"epoch\": 3, \"model\": 27}, \"Metrics\": {\"train_absolute_loss_objective\": {\"sum\": 0.9090092277526856, \"count\": 1, \"min\": 0.9090092277526856, \"max\": 0.9090092277526856}}}\u001b[0m\n",
      "\u001b[34m#metrics {\"StartTime\": 1635006192.903922, \"EndTime\": 1635006192.9039383, \"Dimensions\": {\"Algorithm\": \"Linear Learner\", \"Host\": \"algo-1\", \"Operation\": \"training\", \"epoch\": 3, \"model\": 28}, \"Metrics\": {\"train_absolute_loss_objective\": {\"sum\": 0.9256574821472168, \"count\": 1, \"min\": 0.9256574821472168, \"max\": 0.9256574821472168}}}\u001b[0m\n",
      "\u001b[34m#metrics {\"StartTime\": 1635006192.9039843, \"EndTime\": 1635006192.9039986, \"Dimensions\": {\"Algorithm\": \"Linear Learner\", \"Host\": \"algo-1\", \"Operation\": \"training\", \"epoch\": 3, \"model\": 29}, \"Metrics\": {\"train_absolute_loss_objective\": {\"sum\": 0.9254492664337158, \"count\": 1, \"min\": 0.9254492664337158, \"max\": 0.9254492664337158}}}\u001b[0m\n",
      "\u001b[34m#metrics {\"StartTime\": 1635006192.9040473, \"EndTime\": 1635006192.9040625, \"Dimensions\": {\"Algorithm\": \"Linear Learner\", \"Host\": \"algo-1\", \"Operation\": \"training\", \"epoch\": 3, \"model\": 30}, \"Metrics\": {\"train_absolute_loss_objective\": {\"sum\": 0.936222972869873, \"count\": 1, \"min\": 0.936222972869873, \"max\": 0.936222972869873}}}\u001b[0m\n",
      "\u001b[34m#metrics {\"StartTime\": 1635006192.9041097, \"EndTime\": 1635006192.9041247, \"Dimensions\": {\"Algorithm\": \"Linear Learner\", \"Host\": \"algo-1\", \"Operation\": \"training\", \"epoch\": 3, \"model\": 31}, \"Metrics\": {\"train_absolute_loss_objective\": {\"sum\": 0.9387659454345703, \"count\": 1, \"min\": 0.9387659454345703, \"max\": 0.9387659454345703}}}\u001b[0m\n",
      "\u001b[34m[10/23/2021 16:23:12 INFO 139629011109696] #quality_metric: host=algo-1, epoch=3, train absolute_loss_objective <loss>=0.8373278427124023\u001b[0m\n",
      "\u001b[34m[10/23/2021 16:23:12 INFO 139629011109696] #early_stopping_criteria_metric: host=algo-1, epoch=3, criteria=absolute_loss_objective, value=0.24390487432479857\u001b[0m\n",
      "\u001b[34m[10/23/2021 16:23:12 INFO 139629011109696] Saving model for epoch: 3\u001b[0m\n",
      "\u001b[34m[10/23/2021 16:23:12 INFO 139629011109696] Saved checkpoint to \"/tmp/tmp91ukxwus/mx-mod-0000.params\"\u001b[0m\n",
      "\u001b[34m[10/23/2021 16:23:12 INFO 139629011109696] #progress_metric: host=algo-1, completed 80.0 % of epochs\u001b[0m\n",
      "\u001b[34m#metrics {\"StartTime\": 1635006192.7856848, \"EndTime\": 1635006192.9134307, \"Dimensions\": {\"Algorithm\": \"Linear Learner\", \"Host\": \"algo-1\", \"Operation\": \"training\", \"epoch\": 3, \"Meta\": \"training_data_iter\"}, \"Metrics\": {\"Total Records Seen\": {\"sum\": 135.0, \"count\": 1, \"min\": 135, \"max\": 135}, \"Total Batches Seen\": {\"sum\": 31.0, \"count\": 1, \"min\": 31, \"max\": 31}, \"Max Records Seen Between Resets\": {\"sum\": 26.0, \"count\": 1, \"min\": 26, \"max\": 26}, \"Max Batches Seen Between Resets\": {\"sum\": 6.0, \"count\": 1, \"min\": 6, \"max\": 6}, \"Reset Count\": {\"sum\": 6.0, \"count\": 1, \"min\": 6, \"max\": 6}, \"Number of Records Since Last Reset\": {\"sum\": 26.0, \"count\": 1, \"min\": 26, \"max\": 26}, \"Number of Batches Since Last Reset\": {\"sum\": 6.0, \"count\": 1, \"min\": 6, \"max\": 6}}}\u001b[0m\n",
      "\u001b[34m[10/23/2021 16:23:12 INFO 139629011109696] #throughput_metric: host=algo-1, train throughput=203.34275101809448 records/second\u001b[0m\n",
      "\u001b[34m[2021-10-23 16:23:13.019] [tensorio] [info] epoch_stats={\"data_pipeline\": \"/opt/ml/input/data/train\", \"epoch\": 12, \"duration\": 105, \"num_examples\": 6, \"num_bytes\": 1248}\u001b[0m\n",
      "\u001b[34m#metrics {\"StartTime\": 1635006193.019919, \"EndTime\": 1635006193.0199983, \"Dimensions\": {\"Algorithm\": \"Linear Learner\", \"Host\": \"algo-1\", \"Operation\": \"training\", \"epoch\": 4, \"model\": 0}, \"Metrics\": {\"train_absolute_loss_objective\": {\"sum\": 0.815168628692627, \"count\": 1, \"min\": 0.815168628692627, \"max\": 0.815168628692627}}}\u001b[0m\n",
      "\u001b[34m#metrics {\"StartTime\": 1635006193.0200815, \"EndTime\": 1635006193.020099, \"Dimensions\": {\"Algorithm\": \"Linear Learner\", \"Host\": \"algo-1\", \"Operation\": \"training\", \"epoch\": 4, \"model\": 1}, \"Metrics\": {\"train_absolute_loss_objective\": {\"sum\": 0.8343274688720703, \"count\": 1, \"min\": 0.8343274688720703, \"max\": 0.8343274688720703}}}\u001b[0m\n",
      "\u001b[34m#metrics {\"StartTime\": 1635006193.0201488, \"EndTime\": 1635006193.020165, \"Dimensions\": {\"Algorithm\": \"Linear Learner\", \"Host\": \"algo-1\", \"Operation\": \"training\", \"epoch\": 4, \"model\": 2}, \"Metrics\": {\"train_absolute_loss_objective\": {\"sum\": 0.8175656509399414, \"count\": 1, \"min\": 0.8175656509399414, \"max\": 0.8175656509399414}}}\u001b[0m\n",
      "\u001b[34m#metrics {\"StartTime\": 1635006193.020223, \"EndTime\": 1635006193.0202396, \"Dimensions\": {\"Algorithm\": \"Linear Learner\", \"Host\": \"algo-1\", \"Operation\": \"training\", \"epoch\": 4, \"model\": 3}, \"Metrics\": {\"train_absolute_loss_objective\": {\"sum\": 0.8333162212371826, \"count\": 1, \"min\": 0.8333162212371826, \"max\": 0.8333162212371826}}}\u001b[0m\n",
      "\u001b[34m#metrics {\"StartTime\": 1635006193.0202866, \"EndTime\": 1635006193.0203018, \"Dimensions\": {\"Algorithm\": \"Linear Learner\", \"Host\": \"algo-1\", \"Operation\": \"training\", \"epoch\": 4, \"model\": 4}, \"Metrics\": {\"train_absolute_loss_objective\": {\"sum\": 0.18748830795288085, \"count\": 1, \"min\": 0.18748830795288085, \"max\": 0.18748830795288085}}}\u001b[0m\n",
      "\u001b[34m#metrics {\"StartTime\": 1635006193.0203395, \"EndTime\": 1635006193.0203536, \"Dimensions\": {\"Algorithm\": \"Linear Learner\", \"Host\": \"algo-1\", \"Operation\": \"training\", \"epoch\": 4, \"model\": 5}, \"Metrics\": {\"train_absolute_loss_objective\": {\"sum\": 0.23743778228759765, \"count\": 1, \"min\": 0.23743778228759765, \"max\": 0.23743778228759765}}}\u001b[0m\n",
      "\u001b[34m#metrics {\"StartTime\": 1635006193.0204034, \"EndTime\": 1635006193.0204182, \"Dimensions\": {\"Algorithm\": \"Linear Learner\", \"Host\": \"algo-1\", \"Operation\": \"training\", \"epoch\": 4, \"model\": 6}, \"Metrics\": {\"train_absolute_loss_objective\": {\"sum\": 0.4122838687896728, \"count\": 1, \"min\": 0.4122838687896728, \"max\": 0.4122838687896728}}}\u001b[0m\n",
      "\u001b[34m#metrics {\"StartTime\": 1635006193.0204675, \"EndTime\": 1635006193.0204833, \"Dimensions\": {\"Algorithm\": \"Linear Learner\", \"Host\": \"algo-1\", \"Operation\": \"training\", \"epoch\": 4, \"model\": 7}, \"Metrics\": {\"train_absolute_loss_objective\": {\"sum\": 0.4356958246231079, \"count\": 1, \"min\": 0.4356958246231079, \"max\": 0.4356958246231079}}}\u001b[0m\n",
      "\u001b[34m#metrics {\"StartTime\": 1635006193.0205379, \"EndTime\": 1635006193.0205548, \"Dimensions\": {\"Algorithm\": \"Linear Learner\", \"Host\": \"algo-1\", \"Operation\": \"training\", \"epoch\": 4, \"model\": 8}, \"Metrics\": {\"train_absolute_loss_objective\": {\"sum\": 0.870733699798584, \"count\": 1, \"min\": 0.870733699798584, \"max\": 0.870733699798584}}}\u001b[0m\n",
      "\u001b[34m#metrics {\"StartTime\": 1635006193.0206082, \"EndTime\": 1635006193.0206249, \"Dimensions\": {\"Algorithm\": \"Linear Learner\", \"Host\": \"algo-1\", \"Operation\": \"training\", \"epoch\": 4, \"model\": 9}, \"Metrics\": {\"train_absolute_loss_objective\": {\"sum\": 0.8025930404663086, \"count\": 1, \"min\": 0.8025930404663086, \"max\": 0.8025930404663086}}}\u001b[0m\n",
      "\u001b[34m#metrics {\"StartTime\": 1635006193.020667, \"EndTime\": 1635006193.0206823, \"Dimensions\": {\"Algorithm\": \"Linear Learner\", \"Host\": \"algo-1\", \"Operation\": \"training\", \"epoch\": 4, \"model\": 10}, \"Metrics\": {\"train_absolute_loss_objective\": {\"sum\": 0.8098795223236084, \"count\": 1, \"min\": 0.8098795223236084, \"max\": 0.8098795223236084}}}\u001b[0m\n",
      "\u001b[34m#metrics {\"StartTime\": 1635006193.020731, \"EndTime\": 1635006193.0207455, \"Dimensions\": {\"Algorithm\": \"Linear Learner\", \"Host\": \"algo-1\", \"Operation\": \"training\", \"epoch\": 4, \"model\": 11}, \"Metrics\": {\"train_absolute_loss_objective\": {\"sum\": 0.7945286464691163, \"count\": 1, \"min\": 0.7945286464691163, \"max\": 0.7945286464691163}}}\u001b[0m\n",
      "\u001b[34m#metrics {\"StartTime\": 1635006193.0207944, \"EndTime\": 1635006193.02081, \"Dimensions\": {\"Algorithm\": \"Linear Learner\", \"Host\": \"algo-1\", \"Operation\": \"training\", \"epoch\": 4, \"model\": 12}, \"Metrics\": {\"train_absolute_loss_objective\": {\"sum\": 0.2835014772415161, \"count\": 1, \"min\": 0.2835014772415161, \"max\": 0.2835014772415161}}}\u001b[0m\n",
      "\u001b[34m#metrics {\"StartTime\": 1635006193.0208592, \"EndTime\": 1635006193.020875, \"Dimensions\": {\"Algorithm\": \"Linear Learner\", \"Host\": \"algo-1\", \"Operation\": \"training\", \"epoch\": 4, \"model\": 13}, \"Metrics\": {\"train_absolute_loss_objective\": {\"sum\": 0.33563376903533937, \"count\": 1, \"min\": 0.33563376903533937, \"max\": 0.33563376903533937}}}\u001b[0m\n",
      "\u001b[34m#metrics {\"StartTime\": 1635006193.0209222, \"EndTime\": 1635006193.0209365, \"Dimensions\": {\"Algorithm\": \"Linear Learner\", \"Host\": \"algo-1\", \"Operation\": \"training\", \"epoch\": 4, \"model\": 14}, \"Metrics\": {\"train_absolute_loss_objective\": {\"sum\": 0.2841763687133789, \"count\": 1, \"min\": 0.2841763687133789, \"max\": 0.2841763687133789}}}\u001b[0m\n",
      "\u001b[34m#metrics {\"StartTime\": 1635006193.0209863, \"EndTime\": 1635006193.021001, \"Dimensions\": {\"Algorithm\": \"Linear Learner\", \"Host\": \"algo-1\", \"Operation\": \"training\", \"epoch\": 4, \"model\": 15}, \"Metrics\": {\"train_absolute_loss_objective\": {\"sum\": 0.4218597841262817, \"count\": 1, \"min\": 0.4218597841262817, \"max\": 0.4218597841262817}}}\u001b[0m\n",
      "\u001b[34m#metrics {\"StartTime\": 1635006193.0210495, \"EndTime\": 1635006193.0210645, \"Dimensions\": {\"Algorithm\": \"Linear Learner\", \"Host\": \"algo-1\", \"Operation\": \"training\", \"epoch\": 4, \"model\": 16}, \"Metrics\": {\"train_absolute_loss_objective\": {\"sum\": 0.7806125831604004, \"count\": 1, \"min\": 0.7806125831604004, \"max\": 0.7806125831604004}}}\u001b[0m\n",
      "\u001b[34m#metrics {\"StartTime\": 1635006193.021112, \"EndTime\": 1635006193.0211284, \"Dimensions\": {\"Algorithm\": \"Linear Learner\", \"Host\": \"algo-1\", \"Operation\": \"training\", \"epoch\": 4, \"model\": 17}, \"Metrics\": {\"train_absolute_loss_objective\": {\"sum\": 0.8305013847351074, \"count\": 1, \"min\": 0.8305013847351074, \"max\": 0.8305013847351074}}}\u001b[0m\n",
      "\u001b[34m#metrics {\"StartTime\": 1635006193.021177, \"EndTime\": 1635006193.0211933, \"Dimensions\": {\"Algorithm\": \"Linear Learner\", \"Host\": \"algo-1\", \"Operation\": \"training\", \"epoch\": 4, \"model\": 18}, \"Metrics\": {\"train_absolute_loss_objective\": {\"sum\": 0.8072533512115478, \"count\": 1, \"min\": 0.8072533512115478, \"max\": 0.8072533512115478}}}\u001b[0m\n",
      "\u001b[34m#metrics {\"StartTime\": 1635006193.0212405, \"EndTime\": 1635006193.0212545, \"Dimensions\": {\"Algorithm\": \"Linear Learner\", \"Host\": \"algo-1\", \"Operation\": \"training\", \"epoch\": 4, \"model\": 19}, \"Metrics\": {\"train_absolute_loss_objective\": {\"sum\": 0.8039752769470215, \"count\": 1, \"min\": 0.8039752769470215, \"max\": 0.8039752769470215}}}\u001b[0m\n",
      "\u001b[34m#metrics {\"StartTime\": 1635006193.0213025, \"EndTime\": 1635006193.0213175, \"Dimensions\": {\"Algorithm\": \"Linear Learner\", \"Host\": \"algo-1\", \"Operation\": \"training\", \"epoch\": 4, \"model\": 20}, \"Metrics\": {\"train_absolute_loss_objective\": {\"sum\": 0.315344820022583, \"count\": 1, \"min\": 0.315344820022583, \"max\": 0.315344820022583}}}\u001b[0m\n",
      "\u001b[34m#metrics {\"StartTime\": 1635006193.0213661, \"EndTime\": 1635006193.0213819, \"Dimensions\": {\"Algorithm\": \"Linear Learner\", \"Host\": \"algo-1\", \"Operation\": \"training\", \"epoch\": 4, \"model\": 21}, \"Metrics\": {\"train_absolute_loss_objective\": {\"sum\": 0.2856241035461426, \"count\": 1, \"min\": 0.2856241035461426, \"max\": 0.2856241035461426}}}\u001b[0m\n",
      "\u001b[34m#metrics {\"StartTime\": 1635006193.0214324, \"EndTime\": 1635006193.0214474, \"Dimensions\": {\"Algorithm\": \"Linear Learner\", \"Host\": \"algo-1\", \"Operation\": \"training\", \"epoch\": 4, \"model\": 22}, \"Metrics\": {\"train_absolute_loss_objective\": {\"sum\": 0.3308944320678711, \"count\": 1, \"min\": 0.3308944320678711, \"max\": 0.3308944320678711}}}\u001b[0m\n",
      "\u001b[34m#metrics {\"StartTime\": 1635006193.0214958, \"EndTime\": 1635006193.021511, \"Dimensions\": {\"Algorithm\": \"Linear Learner\", \"Host\": \"algo-1\", \"Operation\": \"training\", \"epoch\": 4, \"model\": 23}, \"Metrics\": {\"train_absolute_loss_objective\": {\"sum\": 0.2774046754837036, \"count\": 1, \"min\": 0.2774046754837036, \"max\": 0.2774046754837036}}}\u001b[0m\n",
      "\u001b[34m#metrics {\"StartTime\": 1635006193.0215592, \"EndTime\": 1635006193.021575, \"Dimensions\": {\"Algorithm\": \"Linear Learner\", \"Host\": \"algo-1\", \"Operation\": \"training\", \"epoch\": 4, \"model\": 24}, \"Metrics\": {\"train_absolute_loss_objective\": {\"sum\": 0.9195314025878907, \"count\": 1, \"min\": 0.9195314025878907, \"max\": 0.9195314025878907}}}\u001b[0m\n",
      "\u001b[34m#metrics {\"StartTime\": 1635006193.0216234, \"EndTime\": 1635006193.0216384, \"Dimensions\": {\"Algorithm\": \"Linear Learner\", \"Host\": \"algo-1\", \"Operation\": \"training\", \"epoch\": 4, \"model\": 25}, \"Metrics\": {\"train_absolute_loss_objective\": {\"sum\": 0.8990006732940674, \"count\": 1, \"min\": 0.8990006732940674, \"max\": 0.8990006732940674}}}\u001b[0m\n",
      "\u001b[34m#metrics {\"StartTime\": 1635006193.0216856, \"EndTime\": 1635006193.0217001, \"Dimensions\": {\"Algorithm\": \"Linear Learner\", \"Host\": \"algo-1\", \"Operation\": \"training\", \"epoch\": 4, \"model\": 26}, \"Metrics\": {\"train_absolute_loss_objective\": {\"sum\": 0.9085606861114502, \"count\": 1, \"min\": 0.9085606861114502, \"max\": 0.9085606861114502}}}\u001b[0m\n",
      "\u001b[34m#metrics {\"StartTime\": 1635006193.0217478, \"EndTime\": 1635006193.021762, \"Dimensions\": {\"Algorithm\": \"Linear Learner\", \"Host\": \"algo-1\", \"Operation\": \"training\", \"epoch\": 4, \"model\": 27}, \"Metrics\": {\"train_absolute_loss_objective\": {\"sum\": 0.9036879253387451, \"count\": 1, \"min\": 0.9036879253387451, \"max\": 0.9036879253387451}}}\u001b[0m\n",
      "\u001b[34m#metrics {\"StartTime\": 1635006193.0218089, \"EndTime\": 1635006193.0218244, \"Dimensions\": {\"Algorithm\": \"Linear Learner\", \"Host\": \"algo-1\", \"Operation\": \"training\", \"epoch\": 4, \"model\": 28}, \"Metrics\": {\"train_absolute_loss_objective\": {\"sum\": 0.8874158191680909, \"count\": 1, \"min\": 0.8874158191680909, \"max\": 0.8874158191680909}}}\u001b[0m\n",
      "\u001b[34m#metrics {\"StartTime\": 1635006193.0218809, \"EndTime\": 1635006193.021897, \"Dimensions\": {\"Algorithm\": \"Linear Learner\", \"Host\": \"algo-1\", \"Operation\": \"training\", \"epoch\": 4, \"model\": 29}, \"Metrics\": {\"train_absolute_loss_objective\": {\"sum\": 0.8873437309265136, \"count\": 1, \"min\": 0.8873437309265136, \"max\": 0.8873437309265136}}}\u001b[0m\n",
      "\u001b[34m#metrics {\"StartTime\": 1635006193.0219426, \"EndTime\": 1635006193.0219533, \"Dimensions\": {\"Algorithm\": \"Linear Learner\", \"Host\": \"algo-1\", \"Operation\": \"training\", \"epoch\": 4, \"model\": 30}, \"Metrics\": {\"train_absolute_loss_objective\": {\"sum\": 0.8829119873046875, \"count\": 1, \"min\": 0.8829119873046875, \"max\": 0.8829119873046875}}}\u001b[0m\n",
      "\u001b[34m#metrics {\"StartTime\": 1635006193.0219982, \"EndTime\": 1635006193.022013, \"Dimensions\": {\"Algorithm\": \"Linear Learner\", \"Host\": \"algo-1\", \"Operation\": \"training\", \"epoch\": 4, \"model\": 31}, \"Metrics\": {\"train_absolute_loss_objective\": {\"sum\": 0.8762281799316406, \"count\": 1, \"min\": 0.8762281799316406, \"max\": 0.8762281799316406}}}\u001b[0m\n",
      "\u001b[34m[10/23/2021 16:23:13 INFO 139629011109696] #quality_metric: host=algo-1, epoch=4, train absolute_loss_objective <loss>=0.815168628692627\u001b[0m\n",
      "\u001b[34m[10/23/2021 16:23:13 INFO 139629011109696] #early_stopping_criteria_metric: host=algo-1, epoch=4, criteria=absolute_loss_objective, value=0.18748830795288085\u001b[0m\n",
      "\u001b[34m[10/23/2021 16:23:13 INFO 139629011109696] Epoch 4: Loss improved. Updating best model\u001b[0m\n",
      "\u001b[34m[10/23/2021 16:23:13 INFO 139629011109696] Saving model for epoch: 4\u001b[0m\n",
      "\u001b[34m[10/23/2021 16:23:13 INFO 139629011109696] Saved checkpoint to \"/tmp/tmplte202qh/mx-mod-0000.params\"\u001b[0m\n",
      "\u001b[34m[10/23/2021 16:23:13 INFO 139629011109696] #progress_metric: host=algo-1, completed 100.0 % of epochs\u001b[0m\n",
      "\u001b[34m#metrics {\"StartTime\": 1635006192.913693, \"EndTime\": 1635006193.0310752, \"Dimensions\": {\"Algorithm\": \"Linear Learner\", \"Host\": \"algo-1\", \"Operation\": \"training\", \"epoch\": 4, \"Meta\": \"training_data_iter\"}, \"Metrics\": {\"Total Records Seen\": {\"sum\": 161.0, \"count\": 1, \"min\": 161, \"max\": 161}, \"Total Batches Seen\": {\"sum\": 37.0, \"count\": 1, \"min\": 37, \"max\": 37}, \"Max Records Seen Between Resets\": {\"sum\": 26.0, \"count\": 1, \"min\": 26, \"max\": 26}, \"Max Batches Seen Between Resets\": {\"sum\": 6.0, \"count\": 1, \"min\": 6, \"max\": 6}, \"Reset Count\": {\"sum\": 7.0, \"count\": 1, \"min\": 7, \"max\": 7}, \"Number of Records Since Last Reset\": {\"sum\": 26.0, \"count\": 1, \"min\": 26, \"max\": 26}, \"Number of Batches Since Last Reset\": {\"sum\": 6.0, \"count\": 1, \"min\": 6, \"max\": 6}}}\u001b[0m\n",
      "\u001b[34m[10/23/2021 16:23:13 INFO 139629011109696] #throughput_metric: host=algo-1, train throughput=221.28096002402495 records/second\u001b[0m\n",
      "\u001b[34m[10/23/2021 16:23:13 WARNING 139629011109696] wait_for_all_workers will not sync workers since the kv store is not running distributed\u001b[0m\n",
      "\u001b[34m[10/23/2021 16:23:13 WARNING 139629011109696] wait_for_all_workers will not sync workers since the kv store is not running distributed\u001b[0m\n",
      "\u001b[34m[2021-10-23 16:23:13.032] [tensorio] [info] epoch_stats={\"data_pipeline\": \"/opt/ml/input/data/train\", \"epoch\": 14, \"duration\": 0, \"num_examples\": 1, \"num_bytes\": 240}\u001b[0m\n",
      "\u001b[34m[2021-10-23 16:23:13.041] [tensorio] [info] epoch_stats={\"data_pipeline\": \"/opt/ml/input/data/train\", \"epoch\": 16, \"duration\": 7, \"num_examples\": 6, \"num_bytes\": 1248}\u001b[0m\n",
      "\u001b[34m[10/23/2021 16:23:13 INFO 139629011109696] #train_score (algo-1) : ('absolute_loss_objective', 6791.694110576923)\u001b[0m\n",
      "\u001b[34m[10/23/2021 16:23:13 INFO 139629011109696] #train_score (algo-1) : ('mse', 67250363.53846154)\u001b[0m\n",
      "\u001b[34m[10/23/2021 16:23:13 INFO 139629011109696] #train_score (algo-1) : ('absolute_loss', 6791.694110576923)\u001b[0m\n",
      "\u001b[34m[10/23/2021 16:23:13 INFO 139629011109696] #quality_metric: host=algo-1, train absolute_loss_objective <loss>=6791.694110576923\u001b[0m\n",
      "\u001b[34m[10/23/2021 16:23:13 INFO 139629011109696] #quality_metric: host=algo-1, train mse <loss>=67250363.53846154\u001b[0m\n",
      "\u001b[34m[10/23/2021 16:23:13 INFO 139629011109696] #quality_metric: host=algo-1, train absolute_loss <loss>=6791.694110576923\u001b[0m\n",
      "\u001b[34m[10/23/2021 16:23:13 INFO 139629011109696] Best model found for hyperparameters: {\"optimizer\": \"adam\", \"learning_rate\": 0.1, \"wd\": 0.0001, \"l1\": 0.0, \"lr_scheduler_step\": 10, \"lr_scheduler_factor\": 0.99, \"lr_scheduler_minimum_lr\": 1e-05}\u001b[0m\n",
      "\u001b[34m[10/23/2021 16:23:13 INFO 139629011109696] Saved checkpoint to \"/tmp/tmph56dynfj/mx-mod-0000.params\"\u001b[0m\n",
      "\u001b[34m[10/23/2021 16:23:13 INFO 139629011109696] Test data is not provided.\u001b[0m\n",
      "\u001b[34m#metrics {\"StartTime\": 1635006192.1687899, \"EndTime\": 1635006193.0471659, \"Dimensions\": {\"Algorithm\": \"Linear Learner\", \"Host\": \"algo-1\", \"Operation\": \"training\"}, \"Metrics\": {\"initialize.time\": {\"sum\": 189.38159942626953, \"count\": 1, \"min\": 189.38159942626953, \"max\": 189.38159942626953}, \"epochs\": {\"sum\": 5.0, \"count\": 1, \"min\": 5, \"max\": 5}, \"check_early_stopping.time\": {\"sum\": 4.785776138305664, \"count\": 5, \"min\": 0.24390220642089844, \"max\": 1.3155937194824219}, \"update.time\": {\"sum\": 650.9120464324951, \"count\": 5, \"min\": 114.92371559143066, \"max\": 149.46389198303223}, \"finalize.time\": {\"sum\": 11.071920394897461, \"count\": 1, \"min\": 11.071920394897461, \"max\": 11.071920394897461}, \"setuptime\": {\"sum\": 22.766828536987305, \"count\": 1, \"min\": 22.766828536987305, \"max\": 22.766828536987305}, \"totaltime\": {\"sum\": 1086.597204208374, \"count\": 1, \"min\": 1086.597204208374, \"max\": 1086.597204208374}}}\u001b[0m\n",
      "\n",
      "2021-10-23 16:23:30 Uploading - Uploading generated training model\n",
      "2021-10-23 16:23:30 Completed - Training job completed\n",
      "Training seconds: 50\n",
      "Billable seconds: 50\n"
     ]
    }
   ],
   "source": [
    "# We have pass in the container, the type of instance that we would like to use for training \n",
    "# output path and sagemaker session into the Estimator. \n",
    "# We can also specify how many instances we would like to use for training\n",
    "# sagemaker_session = sagemaker.Session()\n",
    "\n",
    "# linear = sagemaker.estimator.Estimator(container,\n",
    "#                                        role, \n",
    "#                                        train_instance_count = 1, \n",
    "#                                        train_instance_type = 'ml.c4.xlarge',\n",
    "#                                        output_path = output_location,\n",
    "#                                        sagemaker_session = sagemaker_session)\n",
    "\n",
    "linear = sagemaker.estimator.Estimator(container,\n",
    "                                       role, \n",
    "                                       instance_count = 1, \n",
    "                                       instance_type = 'ml.c4.xlarge',\n",
    "                                       output_path = output_location,\n",
    "                                       sagemaker_session = sagemaker_session)\n",
    "\n",
    "\n",
    "# We can tune parameters like the number of features that we are passing in, type of predictor like 'regressor' or 'classifier', mini batch size, epochs\n",
    "# Train 32 different versions of the model and will get the best out of them (built-in parameters optimization!)\n",
    "\n",
    "linear.set_hyperparameters(feature_dim = 1,\n",
    "                           predictor_type = 'regressor',\n",
    "                           mini_batch_size = 5,\n",
    "                           epochs = 5,\n",
    "                           num_models = 32,\n",
    "                           loss = 'absolute_loss')\n",
    "\n",
    "# Now we are ready to pass in the training data from S3 to train the linear learner model\n",
    "\n",
    "linear.fit({'train': s3_train_data})\n",
    "\n",
    "# Let's see the progress using cloudwatch logs"
   ]
  },
  {
   "cell_type": "markdown",
   "metadata": {},
   "source": [
    "MINI CHALLENGE\n",
    "- Try to train the model with more epochs and additional number of models\n",
    "- Can you try to reduce the cost of billable seconds?"
   ]
  },
  {
   "cell_type": "code",
   "execution_count": 68,
   "metadata": {},
   "outputs": [
    {
     "name": "stdout",
     "output_type": "stream",
     "text": [
      "2021-10-23 17:25:14 Starting - Starting the training job...\n",
      "2021-10-23 17:25:37 Starting - Launching requested ML instancesProfilerReport-1635009914: InProgress\n",
      "...\n",
      "2021-10-23 17:26:05 Starting - Preparing the instances for training............\n",
      "2021-10-23 17:28:05 Downloading - Downloading input data...\n",
      "2021-10-23 17:28:42 Training - Training image download completed. Training in progress..\u001b[34mDocker entrypoint called with argument(s): train\u001b[0m\n",
      "\u001b[34mRunning default environment configuration script\u001b[0m\n",
      "\u001b[34m[10/23/2021 17:28:46 INFO 140582409557824] Reading default configuration from /opt/amazon/lib/python3.7/site-packages/algorithm/resources/default-input.json: {'mini_batch_size': '1000', 'epochs': '15', 'feature_dim': 'auto', 'use_bias': 'true', 'binary_classifier_model_selection_criteria': 'accuracy', 'f_beta': '1.0', 'target_recall': '0.8', 'target_precision': '0.8', 'num_models': 'auto', 'num_calibration_samples': '10000000', 'init_method': 'uniform', 'init_scale': '0.07', 'init_sigma': '0.01', 'init_bias': '0.0', 'optimizer': 'auto', 'loss': 'auto', 'margin': '1.0', 'quantile': '0.5', 'loss_insensitivity': '0.01', 'huber_delta': '1.0', 'num_classes': '1', 'accuracy_top_k': '3', 'wd': 'auto', 'l1': 'auto', 'momentum': 'auto', 'learning_rate': 'auto', 'beta_1': 'auto', 'beta_2': 'auto', 'bias_lr_mult': 'auto', 'bias_wd_mult': 'auto', 'use_lr_scheduler': 'true', 'lr_scheduler_step': 'auto', 'lr_scheduler_factor': 'auto', 'lr_scheduler_minimum_lr': 'auto', 'positive_example_weight_mult': '1.0', 'balance_multiclass_weights': 'false', 'normalize_data': 'true', 'normalize_label': 'auto', 'unbias_data': 'auto', 'unbias_label': 'auto', 'num_point_for_scaler': '10000', '_kvstore': 'auto', '_num_gpus': 'auto', '_num_kv_servers': 'auto', '_log_level': 'info', '_tuning_objective_metric': '', 'early_stopping_patience': '3', 'early_stopping_tolerance': '0.001', '_enable_profiler': 'false'}\u001b[0m\n",
      "\u001b[34m[10/23/2021 17:28:46 INFO 140582409557824] Merging with provided configuration from /opt/ml/input/config/hyperparameters.json: {'loss': 'absolute_loss', 'feature_dim': '1', 'num_models': '32', 'predictor_type': 'regressor', 'epochs': '5', 'mini_batch_size': '5'}\u001b[0m\n",
      "\u001b[34m[10/23/2021 17:28:46 INFO 140582409557824] Final configuration: {'mini_batch_size': '5', 'epochs': '5', 'feature_dim': '1', 'use_bias': 'true', 'binary_classifier_model_selection_criteria': 'accuracy', 'f_beta': '1.0', 'target_recall': '0.8', 'target_precision': '0.8', 'num_models': '32', 'num_calibration_samples': '10000000', 'init_method': 'uniform', 'init_scale': '0.07', 'init_sigma': '0.01', 'init_bias': '0.0', 'optimizer': 'auto', 'loss': 'absolute_loss', 'margin': '1.0', 'quantile': '0.5', 'loss_insensitivity': '0.01', 'huber_delta': '1.0', 'num_classes': '1', 'accuracy_top_k': '3', 'wd': 'auto', 'l1': 'auto', 'momentum': 'auto', 'learning_rate': 'auto', 'beta_1': 'auto', 'beta_2': 'auto', 'bias_lr_mult': 'auto', 'bias_wd_mult': 'auto', 'use_lr_scheduler': 'true', 'lr_scheduler_step': 'auto', 'lr_scheduler_factor': 'auto', 'lr_scheduler_minimum_lr': 'auto', 'positive_example_weight_mult': '1.0', 'balance_multiclass_weights': 'false', 'normalize_data': 'true', 'normalize_label': 'auto', 'unbias_data': 'auto', 'unbias_label': 'auto', 'num_point_for_scaler': '10000', '_kvstore': 'auto', '_num_gpus': 'auto', '_num_kv_servers': 'auto', '_log_level': 'info', '_tuning_objective_metric': '', 'early_stopping_patience': '3', 'early_stopping_tolerance': '0.001', '_enable_profiler': 'false', 'predictor_type': 'regressor'}\u001b[0m\n",
      "\u001b[34m[10/23/2021 17:28:46 WARNING 140582409557824] Loggers have already been setup.\u001b[0m\n",
      "\u001b[34mProcess 1 is a worker.\u001b[0m\n",
      "\u001b[34m[10/23/2021 17:28:46 INFO 140582409557824] Using default worker.\u001b[0m\n",
      "\u001b[34m[10/23/2021 17:28:47 INFO 140582409557824] Checkpoint loading and saving are disabled.\u001b[0m\n",
      "\u001b[34m[2021-10-23 17:28:47.063] [tensorio] [info] epoch_stats={\"data_pipeline\": \"/opt/ml/input/data/train\", \"epoch\": 0, \"duration\": 14, \"num_examples\": 1, \"num_bytes\": 240}\u001b[0m\n",
      "\u001b[34m[10/23/2021 17:28:47 INFO 140582409557824] Create Store: local\u001b[0m\n",
      "\u001b[34m[2021-10-23 17:28:47.121] [tensorio] [info] epoch_stats={\"data_pipeline\": \"/opt/ml/input/data/train\", \"epoch\": 1, \"duration\": 57, \"num_examples\": 6, \"num_bytes\": 1248}\u001b[0m\n",
      "\u001b[34m[10/23/2021 17:28:47 INFO 140582409557824] Scaler algorithm parameters\n",
      " <algorithm.scaler.ScalerAlgorithmStable object at 0x7fdb84202650>\u001b[0m\n",
      "\u001b[34m[10/23/2021 17:28:47 INFO 140582409557824] Scaling model computed with parameters:\n",
      " {'stdev_label': \u001b[0m\n",
      "\u001b[34m[31616.271]\u001b[0m\n",
      "\u001b[34m<NDArray 1 @cpu(0)>, 'stdev_weight': \u001b[0m\n",
      "\u001b[34m[3.596941]\u001b[0m\n",
      "\u001b[34m<NDArray 1 @cpu(0)>, 'mean_label': \u001b[0m\n",
      "\u001b[34m[85030.516]\u001b[0m\n",
      "\u001b[34m<NDArray 1 @cpu(0)>, 'mean_weight': \u001b[0m\n",
      "\u001b[34m[6.4039993]\u001b[0m\n",
      "\u001b[34m<NDArray 1 @cpu(0)>}\u001b[0m\n",
      "\u001b[34m[10/23/2021 17:28:47 INFO 140582409557824] nvidia-smi: took 0.030 seconds to run.\u001b[0m\n",
      "\u001b[34m[10/23/2021 17:28:47 INFO 140582409557824] nvidia-smi identified 0 GPUs.\u001b[0m\n",
      "\u001b[34m[10/23/2021 17:28:47 INFO 140582409557824] Number of GPUs being used: 0\u001b[0m\n",
      "\u001b[34m#metrics {\"StartTime\": 1635010127.2245524, \"EndTime\": 1635010127.2245855, \"Dimensions\": {\"Algorithm\": \"Linear Learner\", \"Host\": \"algo-1\", \"Operation\": \"training\", \"Meta\": \"init_train_data_iter\"}, \"Metrics\": {\"Total Records Seen\": {\"sum\": 31.0, \"count\": 1, \"min\": 31, \"max\": 31}, \"Total Batches Seen\": {\"sum\": 7.0, \"count\": 1, \"min\": 7, \"max\": 7}, \"Max Records Seen Between Resets\": {\"sum\": 26.0, \"count\": 1, \"min\": 26, \"max\": 26}, \"Max Batches Seen Between Resets\": {\"sum\": 6.0, \"count\": 1, \"min\": 6, \"max\": 6}, \"Reset Count\": {\"sum\": 2.0, \"count\": 1, \"min\": 2, \"max\": 2}, \"Number of Records Since Last Reset\": {\"sum\": 0.0, \"count\": 1, \"min\": 0, \"max\": 0}, \"Number of Batches Since Last Reset\": {\"sum\": 0.0, \"count\": 1, \"min\": 0, \"max\": 0}}}\u001b[0m\n",
      "\u001b[34m[2021-10-23 17:28:47.345] [tensorio] [info] epoch_stats={\"data_pipeline\": \"/opt/ml/input/data/train\", \"epoch\": 4, \"duration\": 120, \"num_examples\": 6, \"num_bytes\": 1248}\u001b[0m\n",
      "\u001b[34m#metrics {\"StartTime\": 1635010127.345669, \"EndTime\": 1635010127.3457417, \"Dimensions\": {\"Algorithm\": \"Linear Learner\", \"Host\": \"algo-1\", \"Operation\": \"training\", \"epoch\": 0, \"model\": 0}, \"Metrics\": {\"train_absolute_loss_objective\": {\"sum\": 0.9076277542114258, \"count\": 1, \"min\": 0.9076277542114258, \"max\": 0.9076277542114258}}}\u001b[0m\n",
      "\u001b[34m#metrics {\"StartTime\": 1635010127.3458045, \"EndTime\": 1635010127.3458166, \"Dimensions\": {\"Algorithm\": \"Linear Learner\", \"Host\": \"algo-1\", \"Operation\": \"training\", \"epoch\": 0, \"model\": 1}, \"Metrics\": {\"train_absolute_loss_objective\": {\"sum\": 0.927980785369873, \"count\": 1, \"min\": 0.927980785369873, \"max\": 0.927980785369873}}}\u001b[0m\n",
      "\u001b[34m#metrics {\"StartTime\": 1635010127.3458648, \"EndTime\": 1635010127.3458798, \"Dimensions\": {\"Algorithm\": \"Linear Learner\", \"Host\": \"algo-1\", \"Operation\": \"training\", \"epoch\": 0, \"model\": 2}, \"Metrics\": {\"train_absolute_loss_objective\": {\"sum\": 0.9100932502746581, \"count\": 1, \"min\": 0.9100932502746581, \"max\": 0.9100932502746581}}}\u001b[0m\n",
      "\u001b[34m#metrics {\"StartTime\": 1635010127.345941, \"EndTime\": 1635010127.345958, \"Dimensions\": {\"Algorithm\": \"Linear Learner\", \"Host\": \"algo-1\", \"Operation\": \"training\", \"epoch\": 0, \"model\": 3}, \"Metrics\": {\"train_absolute_loss_objective\": {\"sum\": 0.9269406604766846, \"count\": 1, \"min\": 0.9269406604766846, \"max\": 0.9269406604766846}}}\u001b[0m\n",
      "\u001b[34m#metrics {\"StartTime\": 1635010127.3460193, \"EndTime\": 1635010127.3460364, \"Dimensions\": {\"Algorithm\": \"Linear Learner\", \"Host\": \"algo-1\", \"Operation\": \"training\", \"epoch\": 0, \"model\": 4}, \"Metrics\": {\"train_absolute_loss_objective\": {\"sum\": 0.8192771244049072, \"count\": 1, \"min\": 0.8192771244049072, \"max\": 0.8192771244049072}}}\u001b[0m\n",
      "\u001b[34m#metrics {\"StartTime\": 1635010127.3460906, \"EndTime\": 1635010127.3461077, \"Dimensions\": {\"Algorithm\": \"Linear Learner\", \"Host\": \"algo-1\", \"Operation\": \"training\", \"epoch\": 0, \"model\": 5}, \"Metrics\": {\"train_absolute_loss_objective\": {\"sum\": 0.8273448085784912, \"count\": 1, \"min\": 0.8273448085784912, \"max\": 0.8273448085784912}}}\u001b[0m\n",
      "\u001b[34m#metrics {\"StartTime\": 1635010127.346157, \"EndTime\": 1635010127.346172, \"Dimensions\": {\"Algorithm\": \"Linear Learner\", \"Host\": \"algo-1\", \"Operation\": \"training\", \"epoch\": 0, \"model\": 6}, \"Metrics\": {\"train_absolute_loss_objective\": {\"sum\": 0.8962931919097901, \"count\": 1, \"min\": 0.8962931919097901, \"max\": 0.8962931919097901}}}\u001b[0m\n",
      "\u001b[34m#metrics {\"StartTime\": 1635010127.3462021, \"EndTime\": 1635010127.34621, \"Dimensions\": {\"Algorithm\": \"Linear Learner\", \"Host\": \"algo-1\", \"Operation\": \"training\", \"epoch\": 0, \"model\": 7}, \"Metrics\": {\"train_absolute_loss_objective\": {\"sum\": 0.8722878646850586, \"count\": 1, \"min\": 0.8722878646850586, \"max\": 0.8722878646850586}}}\u001b[0m\n",
      "\u001b[34m#metrics {\"StartTime\": 1635010127.3462465, \"EndTime\": 1635010127.3462565, \"Dimensions\": {\"Algorithm\": \"Linear Learner\", \"Host\": \"algo-1\", \"Operation\": \"training\", \"epoch\": 0, \"model\": 8}, \"Metrics\": {\"train_absolute_loss_objective\": {\"sum\": 0.9647739696502685, \"count\": 1, \"min\": 0.9647739696502685, \"max\": 0.9647739696502685}}}\u001b[0m\n",
      "\u001b[34m#metrics {\"StartTime\": 1635010127.34631, \"EndTime\": 1635010127.3463252, \"Dimensions\": {\"Algorithm\": \"Linear Learner\", \"Host\": \"algo-1\", \"Operation\": \"training\", \"epoch\": 0, \"model\": 9}, \"Metrics\": {\"train_absolute_loss_objective\": {\"sum\": 0.8953294849395752, \"count\": 1, \"min\": 0.8953294849395752, \"max\": 0.8953294849395752}}}\u001b[0m\n",
      "\u001b[34m#metrics {\"StartTime\": 1635010127.3463655, \"EndTime\": 1635010127.3463802, \"Dimensions\": {\"Algorithm\": \"Linear Learner\", \"Host\": \"algo-1\", \"Operation\": \"training\", \"epoch\": 0, \"model\": 10}, \"Metrics\": {\"train_absolute_loss_objective\": {\"sum\": 0.9021777439117432, \"count\": 1, \"min\": 0.9021777439117432, \"max\": 0.9021777439117432}}}\u001b[0m\n",
      "\u001b[34m#metrics {\"StartTime\": 1635010127.3464274, \"EndTime\": 1635010127.3464422, \"Dimensions\": {\"Algorithm\": \"Linear Learner\", \"Host\": \"algo-1\", \"Operation\": \"training\", \"epoch\": 0, \"model\": 11}, \"Metrics\": {\"train_absolute_loss_objective\": {\"sum\": 0.8870342350006104, \"count\": 1, \"min\": 0.8870342350006104, \"max\": 0.8870342350006104}}}\u001b[0m\n",
      "\u001b[34m#metrics {\"StartTime\": 1635010127.3464935, \"EndTime\": 1635010127.3465085, \"Dimensions\": {\"Algorithm\": \"Linear Learner\", \"Host\": \"algo-1\", \"Operation\": \"training\", \"epoch\": 0, \"model\": 12}, \"Metrics\": {\"train_absolute_loss_objective\": {\"sum\": 0.8267054080963134, \"count\": 1, \"min\": 0.8267054080963134, \"max\": 0.8267054080963134}}}\u001b[0m\n",
      "\u001b[34m#metrics {\"StartTime\": 1635010127.3465564, \"EndTime\": 1635010127.346571, \"Dimensions\": {\"Algorithm\": \"Linear Learner\", \"Host\": \"algo-1\", \"Operation\": \"training\", \"epoch\": 0, \"model\": 13}, \"Metrics\": {\"train_absolute_loss_objective\": {\"sum\": 0.8484459781646728, \"count\": 1, \"min\": 0.8484459781646728, \"max\": 0.8484459781646728}}}\u001b[0m\n",
      "\u001b[34m#metrics {\"StartTime\": 1635010127.346623, \"EndTime\": 1635010127.3466384, \"Dimensions\": {\"Algorithm\": \"Linear Learner\", \"Host\": \"algo-1\", \"Operation\": \"training\", \"epoch\": 0, \"model\": 14}, \"Metrics\": {\"train_absolute_loss_objective\": {\"sum\": 0.8254739284515381, \"count\": 1, \"min\": 0.8254739284515381, \"max\": 0.8254739284515381}}}\u001b[0m\n",
      "\u001b[34m#metrics {\"StartTime\": 1635010127.3466773, \"EndTime\": 1635010127.3466916, \"Dimensions\": {\"Algorithm\": \"Linear Learner\", \"Host\": \"algo-1\", \"Operation\": \"training\", \"epoch\": 0, \"model\": 15}, \"Metrics\": {\"train_absolute_loss_objective\": {\"sum\": 0.8536564826965332, \"count\": 1, \"min\": 0.8536564826965332, \"max\": 0.8536564826965332}}}\u001b[0m\n",
      "\u001b[34m#metrics {\"StartTime\": 1635010127.3467355, \"EndTime\": 1635010127.34675, \"Dimensions\": {\"Algorithm\": \"Linear Learner\", \"Host\": \"algo-1\", \"Operation\": \"training\", \"epoch\": 0, \"model\": 16}, \"Metrics\": {\"train_absolute_loss_objective\": {\"sum\": 0.8702374649047852, \"count\": 1, \"min\": 0.8702374649047852, \"max\": 0.8702374649047852}}}\u001b[0m\n",
      "\u001b[34m#metrics {\"StartTime\": 1635010127.346803, \"EndTime\": 1635010127.3468184, \"Dimensions\": {\"Algorithm\": \"Linear Learner\", \"Host\": \"algo-1\", \"Operation\": \"training\", \"epoch\": 0, \"model\": 17}, \"Metrics\": {\"train_absolute_loss_objective\": {\"sum\": 0.9231204986572266, \"count\": 1, \"min\": 0.9231204986572266, \"max\": 0.9231204986572266}}}\u001b[0m\n",
      "\u001b[34m#metrics {\"StartTime\": 1635010127.3468628, \"EndTime\": 1635010127.3468788, \"Dimensions\": {\"Algorithm\": \"Linear Learner\", \"Host\": \"algo-1\", \"Operation\": \"training\", \"epoch\": 0, \"model\": 18}, \"Metrics\": {\"train_absolute_loss_objective\": {\"sum\": 0.8983868408203125, \"count\": 1, \"min\": 0.8983868408203125, \"max\": 0.8983868408203125}}}\u001b[0m\n",
      "\u001b[34m#metrics {\"StartTime\": 1635010127.346919, \"EndTime\": 1635010127.3469338, \"Dimensions\": {\"Algorithm\": \"Linear Learner\", \"Host\": \"algo-1\", \"Operation\": \"training\", \"epoch\": 0, \"model\": 19}, \"Metrics\": {\"train_absolute_loss_objective\": {\"sum\": 0.8956240749359131, \"count\": 1, \"min\": 0.8956240749359131, \"max\": 0.8956240749359131}}}\u001b[0m\n",
      "\u001b[34m#metrics {\"StartTime\": 1635010127.3469808, \"EndTime\": 1635010127.3469965, \"Dimensions\": {\"Algorithm\": \"Linear Learner\", \"Host\": \"algo-1\", \"Operation\": \"training\", \"epoch\": 0, \"model\": 20}, \"Metrics\": {\"train_absolute_loss_objective\": {\"sum\": 0.8692398548126221, \"count\": 1, \"min\": 0.8692398548126221, \"max\": 0.8692398548126221}}}\u001b[0m\n",
      "\u001b[34m#metrics {\"StartTime\": 1635010127.3470435, \"EndTime\": 1635010127.3470576, \"Dimensions\": {\"Algorithm\": \"Linear Learner\", \"Host\": \"algo-1\", \"Operation\": \"training\", \"epoch\": 0, \"model\": 21}, \"Metrics\": {\"train_absolute_loss_objective\": {\"sum\": 0.8803277015686035, \"count\": 1, \"min\": 0.8803277015686035, \"max\": 0.8803277015686035}}}\u001b[0m\n",
      "\u001b[34m#metrics {\"StartTime\": 1635010127.3471062, \"EndTime\": 1635010127.3471205, \"Dimensions\": {\"Algorithm\": \"Linear Learner\", \"Host\": \"algo-1\", \"Operation\": \"training\", \"epoch\": 0, \"model\": 22}, \"Metrics\": {\"train_absolute_loss_objective\": {\"sum\": 0.8336709308624267, \"count\": 1, \"min\": 0.8336709308624267, \"max\": 0.8336709308624267}}}\u001b[0m\n",
      "\u001b[34m#metrics {\"StartTime\": 1635010127.347177, \"EndTime\": 1635010127.3471925, \"Dimensions\": {\"Algorithm\": \"Linear Learner\", \"Host\": \"algo-1\", \"Operation\": \"training\", \"epoch\": 0, \"model\": 23}, \"Metrics\": {\"train_absolute_loss_objective\": {\"sum\": 0.8995228576660156, \"count\": 1, \"min\": 0.8995228576660156, \"max\": 0.8995228576660156}}}\u001b[0m\n",
      "\u001b[34m#metrics {\"StartTime\": 1635010127.347246, \"EndTime\": 1635010127.3472605, \"Dimensions\": {\"Algorithm\": \"Linear Learner\", \"Host\": \"algo-1\", \"Operation\": \"training\", \"epoch\": 0, \"model\": 24}, \"Metrics\": {\"train_absolute_loss_objective\": {\"sum\": 0.8732615661621094, \"count\": 1, \"min\": 0.8732615661621094, \"max\": 0.8732615661621094}}}\u001b[0m\n",
      "\u001b[34m#metrics {\"StartTime\": 1635010127.347309, \"EndTime\": 1635010127.3473244, \"Dimensions\": {\"Algorithm\": \"Linear Learner\", \"Host\": \"algo-1\", \"Operation\": \"training\", \"epoch\": 0, \"model\": 25}, \"Metrics\": {\"train_absolute_loss_objective\": {\"sum\": 0.9417299270629883, \"count\": 1, \"min\": 0.9417299270629883, \"max\": 0.9417299270629883}}}\u001b[0m\n",
      "\u001b[34m#metrics {\"StartTime\": 1635010127.3473766, \"EndTime\": 1635010127.347392, \"Dimensions\": {\"Algorithm\": \"Linear Learner\", \"Host\": \"algo-1\", \"Operation\": \"training\", \"epoch\": 0, \"model\": 26}, \"Metrics\": {\"train_absolute_loss_objective\": {\"sum\": 0.928144006729126, \"count\": 1, \"min\": 0.928144006729126, \"max\": 0.928144006729126}}}\u001b[0m\n",
      "\u001b[34m#metrics {\"StartTime\": 1635010127.347427, \"EndTime\": 1635010127.347441, \"Dimensions\": {\"Algorithm\": \"Linear Learner\", \"Host\": \"algo-1\", \"Operation\": \"training\", \"epoch\": 0, \"model\": 27}, \"Metrics\": {\"train_absolute_loss_objective\": {\"sum\": 0.9172710800170898, \"count\": 1, \"min\": 0.9172710800170898, \"max\": 0.9172710800170898}}}\u001b[0m\n",
      "\u001b[34m#metrics {\"StartTime\": 1635010127.3474896, \"EndTime\": 1635010127.3475046, \"Dimensions\": {\"Algorithm\": \"Linear Learner\", \"Host\": \"algo-1\", \"Operation\": \"training\", \"epoch\": 0, \"model\": 28}, \"Metrics\": {\"train_absolute_loss_objective\": {\"sum\": 0.9366528224945069, \"count\": 1, \"min\": 0.9366528224945069, \"max\": 0.9366528224945069}}}\u001b[0m\n",
      "\u001b[34m#metrics {\"StartTime\": 1635010127.3475528, \"EndTime\": 1635010127.3475683, \"Dimensions\": {\"Algorithm\": \"Linear Learner\", \"Host\": \"algo-1\", \"Operation\": \"training\", \"epoch\": 0, \"model\": 29}, \"Metrics\": {\"train_absolute_loss_objective\": {\"sum\": 0.9379850959777832, \"count\": 1, \"min\": 0.9379850959777832, \"max\": 0.9379850959777832}}}\u001b[0m\n",
      "\u001b[34m#metrics {\"StartTime\": 1635010127.3476162, \"EndTime\": 1635010127.3476322, \"Dimensions\": {\"Algorithm\": \"Linear Learner\", \"Host\": \"algo-1\", \"Operation\": \"training\", \"epoch\": 0, \"model\": 30}, \"Metrics\": {\"train_absolute_loss_objective\": {\"sum\": 0.9631865978240967, \"count\": 1, \"min\": 0.9631865978240967, \"max\": 0.9631865978240967}}}\u001b[0m\n",
      "\u001b[34m#metrics {\"StartTime\": 1635010127.347683, \"EndTime\": 1635010127.3476994, \"Dimensions\": {\"Algorithm\": \"Linear Learner\", \"Host\": \"algo-1\", \"Operation\": \"training\", \"epoch\": 0, \"model\": 31}, \"Metrics\": {\"train_absolute_loss_objective\": {\"sum\": 0.9622767829895019, \"count\": 1, \"min\": 0.9622767829895019, \"max\": 0.9622767829895019}}}\u001b[0m\n",
      "\u001b[34m[10/23/2021 17:28:47 INFO 140582409557824] #quality_metric: host=algo-1, epoch=0, train absolute_loss_objective <loss>=0.9076277542114258\u001b[0m\n",
      "\u001b[34m[10/23/2021 17:28:47 INFO 140582409557824] #early_stopping_criteria_metric: host=algo-1, epoch=0, criteria=absolute_loss_objective, value=0.8192771244049072\u001b[0m\n",
      "\u001b[34m[10/23/2021 17:28:47 INFO 140582409557824] Epoch 0: Loss improved. Updating best model\u001b[0m\n",
      "\u001b[34m[10/23/2021 17:28:47 INFO 140582409557824] Saving model for epoch: 0\u001b[0m\n",
      "\u001b[34m[10/23/2021 17:28:47 INFO 140582409557824] Saved checkpoint to \"/tmp/tmp3ky_jrzi/mx-mod-0000.params\"\u001b[0m\n",
      "\u001b[34m[10/23/2021 17:28:47 INFO 140582409557824] #progress_metric: host=algo-1, completed 20.0 % of epochs\u001b[0m\n",
      "\u001b[34m#metrics {\"StartTime\": 1635010127.224819, \"EndTime\": 1635010127.3621252, \"Dimensions\": {\"Algorithm\": \"Linear Learner\", \"Host\": \"algo-1\", \"Operation\": \"training\", \"epoch\": 0, \"Meta\": \"training_data_iter\"}, \"Metrics\": {\"Total Records Seen\": {\"sum\": 57.0, \"count\": 1, \"min\": 57, \"max\": 57}, \"Total Batches Seen\": {\"sum\": 13.0, \"count\": 1, \"min\": 13, \"max\": 13}, \"Max Records Seen Between Resets\": {\"sum\": 26.0, \"count\": 1, \"min\": 26, \"max\": 26}, \"Max Batches Seen Between Resets\": {\"sum\": 6.0, \"count\": 1, \"min\": 6, \"max\": 6}, \"Reset Count\": {\"sum\": 3.0, \"count\": 1, \"min\": 3, \"max\": 3}, \"Number of Records Since Last Reset\": {\"sum\": 26.0, \"count\": 1, \"min\": 26, \"max\": 26}, \"Number of Batches Since Last Reset\": {\"sum\": 6.0, \"count\": 1, \"min\": 6, \"max\": 6}}}\u001b[0m\n",
      "\u001b[34m[10/23/2021 17:28:47 INFO 140582409557824] #throughput_metric: host=algo-1, train throughput=189.18433397174343 records/second\u001b[0m\n",
      "\u001b[34m[2021-10-23 17:28:47.454] [tensorio] [info] epoch_stats={\"data_pipeline\": \"/opt/ml/input/data/train\", \"epoch\": 6, \"duration\": 92, \"num_examples\": 6, \"num_bytes\": 1248}\u001b[0m\n",
      "\u001b[34m#metrics {\"StartTime\": 1635010127.4546316, \"EndTime\": 1635010127.4546983, \"Dimensions\": {\"Algorithm\": \"Linear Learner\", \"Host\": \"algo-1\", \"Operation\": \"training\", \"epoch\": 1, \"model\": 0}, \"Metrics\": {\"train_absolute_loss_objective\": {\"sum\": 0.8819659519195556, \"count\": 1, \"min\": 0.8819659519195556, \"max\": 0.8819659519195556}}}\u001b[0m\n",
      "\u001b[34m#metrics {\"StartTime\": 1635010127.4547668, \"EndTime\": 1635010127.4547856, \"Dimensions\": {\"Algorithm\": \"Linear Learner\", \"Host\": \"algo-1\", \"Operation\": \"training\", \"epoch\": 1, \"model\": 1}, \"Metrics\": {\"train_absolute_loss_objective\": {\"sum\": 0.9017537403106689, \"count\": 1, \"min\": 0.9017537403106689, \"max\": 0.9017537403106689}}}\u001b[0m\n",
      "\u001b[34m#metrics {\"StartTime\": 1635010127.4548414, \"EndTime\": 1635010127.454858, \"Dimensions\": {\"Algorithm\": \"Linear Learner\", \"Host\": \"algo-1\", \"Operation\": \"training\", \"epoch\": 1, \"model\": 2}, \"Metrics\": {\"train_absolute_loss_objective\": {\"sum\": 0.8843629455566406, \"count\": 1, \"min\": 0.8843629455566406, \"max\": 0.8843629455566406}}}\u001b[0m\n",
      "\u001b[34m#metrics {\"StartTime\": 1635010127.4548986, \"EndTime\": 1635010127.4549112, \"Dimensions\": {\"Algorithm\": \"Linear Learner\", \"Host\": \"algo-1\", \"Operation\": \"training\", \"epoch\": 1, \"model\": 3}, \"Metrics\": {\"train_absolute_loss_objective\": {\"sum\": 0.9007425022125244, \"count\": 1, \"min\": 0.9007425022125244, \"max\": 0.9007425022125244}}}\u001b[0m\n",
      "\u001b[34m#metrics {\"StartTime\": 1635010127.4549584, \"EndTime\": 1635010127.454974, \"Dimensions\": {\"Algorithm\": \"Linear Learner\", \"Host\": \"algo-1\", \"Operation\": \"training\", \"epoch\": 1, \"model\": 4}, \"Metrics\": {\"train_absolute_loss_objective\": {\"sum\": 0.5845337677001953, \"count\": 1, \"min\": 0.5845337677001953, \"max\": 0.5845337677001953}}}\u001b[0m\n",
      "\u001b[34m#metrics {\"StartTime\": 1635010127.4550333, \"EndTime\": 1635010127.4550505, \"Dimensions\": {\"Algorithm\": \"Linear Learner\", \"Host\": \"algo-1\", \"Operation\": \"training\", \"epoch\": 1, \"model\": 5}, \"Metrics\": {\"train_absolute_loss_objective\": {\"sum\": 0.5916301250457764, \"count\": 1, \"min\": 0.5916301250457764, \"max\": 0.5916301250457764}}}\u001b[0m\n",
      "\u001b[34m#metrics {\"StartTime\": 1635010127.4551113, \"EndTime\": 1635010127.4551284, \"Dimensions\": {\"Algorithm\": \"Linear Learner\", \"Host\": \"algo-1\", \"Operation\": \"training\", \"epoch\": 1, \"model\": 6}, \"Metrics\": {\"train_absolute_loss_objective\": {\"sum\": 0.6499137878417969, \"count\": 1, \"min\": 0.6499137878417969, \"max\": 0.6499137878417969}}}\u001b[0m\n",
      "\u001b[34m#metrics {\"StartTime\": 1635010127.4551885, \"EndTime\": 1635010127.4552052, \"Dimensions\": {\"Algorithm\": \"Linear Learner\", \"Host\": \"algo-1\", \"Operation\": \"training\", \"epoch\": 1, \"model\": 7}, \"Metrics\": {\"train_absolute_loss_objective\": {\"sum\": 0.6207537698745728, \"count\": 1, \"min\": 0.6207537698745728, \"max\": 0.6207537698745728}}}\u001b[0m\n",
      "\u001b[34m#metrics {\"StartTime\": 1635010127.455257, \"EndTime\": 1635010127.455272, \"Dimensions\": {\"Algorithm\": \"Linear Learner\", \"Host\": \"algo-1\", \"Operation\": \"training\", \"epoch\": 1, \"model\": 8}, \"Metrics\": {\"train_absolute_loss_objective\": {\"sum\": 0.937524881362915, \"count\": 1, \"min\": 0.937524881362915, \"max\": 0.937524881362915}}}\u001b[0m\n",
      "\u001b[34m#metrics {\"StartTime\": 1635010127.455321, \"EndTime\": 1635010127.4553359, \"Dimensions\": {\"Algorithm\": \"Linear Learner\", \"Host\": \"algo-1\", \"Operation\": \"training\", \"epoch\": 1, \"model\": 9}, \"Metrics\": {\"train_absolute_loss_objective\": {\"sum\": 0.8700098896026611, \"count\": 1, \"min\": 0.8700098896026611, \"max\": 0.8700098896026611}}}\u001b[0m\n",
      "\u001b[34m#metrics {\"StartTime\": 1635010127.4553857, \"EndTime\": 1635010127.4554014, \"Dimensions\": {\"Algorithm\": \"Linear Learner\", \"Host\": \"algo-1\", \"Operation\": \"training\", \"epoch\": 1, \"model\": 10}, \"Metrics\": {\"train_absolute_loss_objective\": {\"sum\": 0.8766678619384766, \"count\": 1, \"min\": 0.8766678619384766, \"max\": 0.8766678619384766}}}\u001b[0m\n",
      "\u001b[34m#metrics {\"StartTime\": 1635010127.4554505, \"EndTime\": 1635010127.455466, \"Dimensions\": {\"Algorithm\": \"Linear Learner\", \"Host\": \"algo-1\", \"Operation\": \"training\", \"epoch\": 1, \"model\": 11}, \"Metrics\": {\"train_absolute_loss_objective\": {\"sum\": 0.861945104598999, \"count\": 1, \"min\": 0.861945104598999, \"max\": 0.861945104598999}}}\u001b[0m\n",
      "\u001b[34m#metrics {\"StartTime\": 1635010127.4555154, \"EndTime\": 1635010127.4555304, \"Dimensions\": {\"Algorithm\": \"Linear Learner\", \"Host\": \"algo-1\", \"Operation\": \"training\", \"epoch\": 1, \"model\": 12}, \"Metrics\": {\"train_absolute_loss_objective\": {\"sum\": 0.5915598821640015, \"count\": 1, \"min\": 0.5915598821640015, \"max\": 0.5915598821640015}}}\u001b[0m\n",
      "\u001b[34m#metrics {\"StartTime\": 1635010127.4555798, \"EndTime\": 1635010127.4555945, \"Dimensions\": {\"Algorithm\": \"Linear Learner\", \"Host\": \"algo-1\", \"Operation\": \"training\", \"epoch\": 1, \"model\": 13}, \"Metrics\": {\"train_absolute_loss_objective\": {\"sum\": 0.6146096467971802, \"count\": 1, \"min\": 0.6146096467971802, \"max\": 0.6146096467971802}}}\u001b[0m\n",
      "\u001b[34m#metrics {\"StartTime\": 1635010127.4556518, \"EndTime\": 1635010127.455668, \"Dimensions\": {\"Algorithm\": \"Linear Learner\", \"Host\": \"algo-1\", \"Operation\": \"training\", \"epoch\": 1, \"model\": 14}, \"Metrics\": {\"train_absolute_loss_objective\": {\"sum\": 0.5904798889160157, \"count\": 1, \"min\": 0.5904798889160157, \"max\": 0.5904798889160157}}}\u001b[0m\n",
      "\u001b[34m#metrics {\"StartTime\": 1635010127.455724, \"EndTime\": 1635010127.4557397, \"Dimensions\": {\"Algorithm\": \"Linear Learner\", \"Host\": \"algo-1\", \"Operation\": \"training\", \"epoch\": 1, \"model\": 15}, \"Metrics\": {\"train_absolute_loss_objective\": {\"sum\": 0.5984975719451904, \"count\": 1, \"min\": 0.5984975719451904, \"max\": 0.5984975719451904}}}\u001b[0m\n",
      "\u001b[34m#metrics {\"StartTime\": 1635010127.4557953, \"EndTime\": 1635010127.4558108, \"Dimensions\": {\"Algorithm\": \"Linear Learner\", \"Host\": \"algo-1\", \"Operation\": \"training\", \"epoch\": 1, \"model\": 16}, \"Metrics\": {\"train_absolute_loss_objective\": {\"sum\": 0.842634801864624, \"count\": 1, \"min\": 0.842634801864624, \"max\": 0.842634801864624}}}\u001b[0m\n",
      "\u001b[34m#metrics {\"StartTime\": 1635010127.4558609, \"EndTime\": 1635010127.4558756, \"Dimensions\": {\"Algorithm\": \"Linear Learner\", \"Host\": \"algo-1\", \"Operation\": \"training\", \"epoch\": 1, \"model\": 17}, \"Metrics\": {\"train_absolute_loss_objective\": {\"sum\": 0.8970603179931641, \"count\": 1, \"min\": 0.8970603179931641, \"max\": 0.8970603179931641}}}\u001b[0m\n",
      "\u001b[34m#metrics {\"StartTime\": 1635010127.4559243, \"EndTime\": 1635010127.4559388, \"Dimensions\": {\"Algorithm\": \"Linear Learner\", \"Host\": \"algo-1\", \"Operation\": \"training\", \"epoch\": 1, \"model\": 18}, \"Metrics\": {\"train_absolute_loss_objective\": {\"sum\": 0.8730466365814209, \"count\": 1, \"min\": 0.8730466365814209, \"max\": 0.8730466365814209}}}\u001b[0m\n",
      "\u001b[34m#metrics {\"StartTime\": 1635010127.4559882, \"EndTime\": 1635010127.4560032, \"Dimensions\": {\"Algorithm\": \"Linear Learner\", \"Host\": \"algo-1\", \"Operation\": \"training\", \"epoch\": 1, \"model\": 19}, \"Metrics\": {\"train_absolute_loss_objective\": {\"sum\": 0.8703645038604736, \"count\": 1, \"min\": 0.8703645038604736, \"max\": 0.8703645038604736}}}\u001b[0m\n",
      "\u001b[34m#metrics {\"StartTime\": 1635010127.4560518, \"EndTime\": 1635010127.4560666, \"Dimensions\": {\"Algorithm\": \"Linear Learner\", \"Host\": \"algo-1\", \"Operation\": \"training\", \"epoch\": 1, \"model\": 20}, \"Metrics\": {\"train_absolute_loss_objective\": {\"sum\": 0.6630218029022217, \"count\": 1, \"min\": 0.6630218029022217, \"max\": 0.6630218029022217}}}\u001b[0m\n",
      "\u001b[34m#metrics {\"StartTime\": 1635010127.4561248, \"EndTime\": 1635010127.4561412, \"Dimensions\": {\"Algorithm\": \"Linear Learner\", \"Host\": \"algo-1\", \"Operation\": \"training\", \"epoch\": 1, \"model\": 21}, \"Metrics\": {\"train_absolute_loss_objective\": {\"sum\": 0.6718219470977783, \"count\": 1, \"min\": 0.6718219470977783, \"max\": 0.6718219470977783}}}\u001b[0m\n",
      "\u001b[34m#metrics {\"StartTime\": 1635010127.4561992, \"EndTime\": 1635010127.4562159, \"Dimensions\": {\"Algorithm\": \"Linear Learner\", \"Host\": \"algo-1\", \"Operation\": \"training\", \"epoch\": 1, \"model\": 22}, \"Metrics\": {\"train_absolute_loss_objective\": {\"sum\": 0.6363770914077759, \"count\": 1, \"min\": 0.6363770914077759, \"max\": 0.6363770914077759}}}\u001b[0m\n",
      "\u001b[34m#metrics {\"StartTime\": 1635010127.456268, \"EndTime\": 1635010127.4562836, \"Dimensions\": {\"Algorithm\": \"Linear Learner\", \"Host\": \"algo-1\", \"Operation\": \"training\", \"epoch\": 1, \"model\": 23}, \"Metrics\": {\"train_absolute_loss_objective\": {\"sum\": 0.6875650453567504, \"count\": 1, \"min\": 0.6875650453567504, \"max\": 0.6875650453567504}}}\u001b[0m\n",
      "\u001b[34m#metrics {\"StartTime\": 1635010127.4563282, \"EndTime\": 1635010127.4563406, \"Dimensions\": {\"Algorithm\": \"Linear Learner\", \"Host\": \"algo-1\", \"Operation\": \"training\", \"epoch\": 1, \"model\": 24}, \"Metrics\": {\"train_absolute_loss_objective\": {\"sum\": 0.8868406677246093, \"count\": 1, \"min\": 0.8868406677246093, \"max\": 0.8868406677246093}}}\u001b[0m\n",
      "\u001b[34m#metrics {\"StartTime\": 1635010127.4563892, \"EndTime\": 1635010127.4564025, \"Dimensions\": {\"Algorithm\": \"Linear Learner\", \"Host\": \"algo-1\", \"Operation\": \"training\", \"epoch\": 1, \"model\": 25}, \"Metrics\": {\"train_absolute_loss_objective\": {\"sum\": 0.9163277339935303, \"count\": 1, \"min\": 0.9163277339935303, \"max\": 0.9163277339935303}}}\u001b[0m\n",
      "\u001b[34m#metrics {\"StartTime\": 1635010127.456456, \"EndTime\": 1635010127.4564724, \"Dimensions\": {\"Algorithm\": \"Linear Learner\", \"Host\": \"algo-1\", \"Operation\": \"training\", \"epoch\": 1, \"model\": 26}, \"Metrics\": {\"train_absolute_loss_objective\": {\"sum\": 0.9059175872802734, \"count\": 1, \"min\": 0.9059175872802734, \"max\": 0.9059175872802734}}}\u001b[0m\n",
      "\u001b[34m#metrics {\"StartTime\": 1635010127.4565282, \"EndTime\": 1635010127.4565437, \"Dimensions\": {\"Algorithm\": \"Linear Learner\", \"Host\": \"algo-1\", \"Operation\": \"training\", \"epoch\": 1, \"model\": 27}, \"Metrics\": {\"train_absolute_loss_objective\": {\"sum\": 0.9054531574249267, \"count\": 1, \"min\": 0.9054531574249267, \"max\": 0.9054531574249267}}}\u001b[0m\n",
      "\u001b[34m#metrics {\"StartTime\": 1635010127.4566042, \"EndTime\": 1635010127.4566205, \"Dimensions\": {\"Algorithm\": \"Linear Learner\", \"Host\": \"algo-1\", \"Operation\": \"training\", \"epoch\": 1, \"model\": 28}, \"Metrics\": {\"train_absolute_loss_objective\": {\"sum\": 1.044925537109375, \"count\": 1, \"min\": 1.044925537109375, \"max\": 1.044925537109375}}}\u001b[0m\n",
      "\u001b[34m#metrics {\"StartTime\": 1635010127.456672, \"EndTime\": 1635010127.4566863, \"Dimensions\": {\"Algorithm\": \"Linear Learner\", \"Host\": \"algo-1\", \"Operation\": \"training\", \"epoch\": 1, \"model\": 29}, \"Metrics\": {\"train_absolute_loss_objective\": {\"sum\": 1.0435201454162597, \"count\": 1, \"min\": 1.0435201454162597, \"max\": 1.0435201454162597}}}\u001b[0m\n",
      "\u001b[34m#metrics {\"StartTime\": 1635010127.456741, \"EndTime\": 1635010127.4567578, \"Dimensions\": {\"Algorithm\": \"Linear Learner\", \"Host\": \"algo-1\", \"Operation\": \"training\", \"epoch\": 1, \"model\": 30}, \"Metrics\": {\"train_absolute_loss_objective\": {\"sum\": 1.0348495864868164, \"count\": 1, \"min\": 1.0348495864868164, \"max\": 1.0348495864868164}}}\u001b[0m\n",
      "\u001b[34m#metrics {\"StartTime\": 1635010127.4568088, \"EndTime\": 1635010127.4568245, \"Dimensions\": {\"Algorithm\": \"Linear Learner\", \"Host\": \"algo-1\", \"Operation\": \"training\", \"epoch\": 1, \"model\": 31}, \"Metrics\": {\"train_absolute_loss_objective\": {\"sum\": 1.0427010536193848, \"count\": 1, \"min\": 1.0427010536193848, \"max\": 1.0427010536193848}}}\u001b[0m\n",
      "\u001b[34m[10/23/2021 17:28:47 INFO 140582409557824] #quality_metric: host=algo-1, epoch=1, train absolute_loss_objective <loss>=0.8819659519195556\u001b[0m\n",
      "\u001b[34m[10/23/2021 17:28:47 INFO 140582409557824] #early_stopping_criteria_metric: host=algo-1, epoch=1, criteria=absolute_loss_objective, value=0.5845337677001953\u001b[0m\n",
      "\u001b[34m[10/23/2021 17:28:47 INFO 140582409557824] Epoch 1: Loss improved. Updating best model\u001b[0m\n",
      "\u001b[34m[10/23/2021 17:28:47 INFO 140582409557824] Saving model for epoch: 1\u001b[0m\n",
      "\u001b[34m[10/23/2021 17:28:47 INFO 140582409557824] Saved checkpoint to \"/tmp/tmptfzkgmta/mx-mod-0000.params\"\u001b[0m\n",
      "\u001b[34m[10/23/2021 17:28:47 INFO 140582409557824] #progress_metric: host=algo-1, completed 40.0 % of epochs\u001b[0m\n",
      "\u001b[34m#metrics {\"StartTime\": 1635010127.36241, \"EndTime\": 1635010127.464968, \"Dimensions\": {\"Algorithm\": \"Linear Learner\", \"Host\": \"algo-1\", \"Operation\": \"training\", \"epoch\": 1, \"Meta\": \"training_data_iter\"}, \"Metrics\": {\"Total Records Seen\": {\"sum\": 83.0, \"count\": 1, \"min\": 83, \"max\": 83}, \"Total Batches Seen\": {\"sum\": 19.0, \"count\": 1, \"min\": 19, \"max\": 19}, \"Max Records Seen Between Resets\": {\"sum\": 26.0, \"count\": 1, \"min\": 26, \"max\": 26}, \"Max Batches Seen Between Resets\": {\"sum\": 6.0, \"count\": 1, \"min\": 6, \"max\": 6}, \"Reset Count\": {\"sum\": 4.0, \"count\": 1, \"min\": 4, \"max\": 4}, \"Number of Records Since Last Reset\": {\"sum\": 26.0, \"count\": 1, \"min\": 26, \"max\": 26}, \"Number of Batches Since Last Reset\": {\"sum\": 6.0, \"count\": 1, \"min\": 6, \"max\": 6}}}\u001b[0m\n",
      "\u001b[34m[10/23/2021 17:28:47 INFO 140582409557824] #throughput_metric: host=algo-1, train throughput=253.23099929872146 records/second\u001b[0m\n",
      "\u001b[34m[2021-10-23 17:28:47.552] [tensorio] [info] epoch_stats={\"data_pipeline\": \"/opt/ml/input/data/train\", \"epoch\": 8, \"duration\": 87, \"num_examples\": 6, \"num_bytes\": 1248}\u001b[0m\n",
      "\u001b[34m#metrics {\"StartTime\": 1635010127.553017, \"EndTime\": 1635010127.5530844, \"Dimensions\": {\"Algorithm\": \"Linear Learner\", \"Host\": \"algo-1\", \"Operation\": \"training\", \"epoch\": 2, \"model\": 0}, \"Metrics\": {\"train_absolute_loss_objective\": {\"sum\": 0.8595255661010742, \"count\": 1, \"min\": 0.8595255661010742, \"max\": 0.8595255661010742}}}\u001b[0m\n",
      "\u001b[34m#metrics {\"StartTime\": 1635010127.5531554, \"EndTime\": 1635010127.5531745, \"Dimensions\": {\"Algorithm\": \"Linear Learner\", \"Host\": \"algo-1\", \"Operation\": \"training\", \"epoch\": 2, \"model\": 1}, \"Metrics\": {\"train_absolute_loss_objective\": {\"sum\": 0.8792308521270752, \"count\": 1, \"min\": 0.8792308521270752, \"max\": 0.8792308521270752}}}\u001b[0m\n",
      "\u001b[34m#metrics {\"StartTime\": 1635010127.5532386, \"EndTime\": 1635010127.553258, \"Dimensions\": {\"Algorithm\": \"Linear Learner\", \"Host\": \"algo-1\", \"Operation\": \"training\", \"epoch\": 2, \"model\": 2}, \"Metrics\": {\"train_absolute_loss_objective\": {\"sum\": 0.8619225788116455, \"count\": 1, \"min\": 0.8619225788116455, \"max\": 0.8619225788116455}}}\u001b[0m\n",
      "\u001b[34m#metrics {\"StartTime\": 1635010127.5533125, \"EndTime\": 1635010127.553329, \"Dimensions\": {\"Algorithm\": \"Linear Learner\", \"Host\": \"algo-1\", \"Operation\": \"training\", \"epoch\": 2, \"model\": 3}, \"Metrics\": {\"train_absolute_loss_objective\": {\"sum\": 0.878219633102417, \"count\": 1, \"min\": 0.878219633102417, \"max\": 0.878219633102417}}}\u001b[0m\n",
      "\u001b[34m#metrics {\"StartTime\": 1635010127.5533824, \"EndTime\": 1635010127.5533998, \"Dimensions\": {\"Algorithm\": \"Linear Learner\", \"Host\": \"algo-1\", \"Operation\": \"training\", \"epoch\": 2, \"model\": 4}, \"Metrics\": {\"train_absolute_loss_objective\": {\"sum\": 0.21156331300735473, \"count\": 1, \"min\": 0.21156331300735473, \"max\": 0.21156331300735473}}}\u001b[0m\n",
      "\u001b[34m#metrics {\"StartTime\": 1635010127.5534518, \"EndTime\": 1635010127.5534673, \"Dimensions\": {\"Algorithm\": \"Linear Learner\", \"Host\": \"algo-1\", \"Operation\": \"training\", \"epoch\": 2, \"model\": 5}, \"Metrics\": {\"train_absolute_loss_objective\": {\"sum\": 0.23807374000549317, \"count\": 1, \"min\": 0.23807374000549317, \"max\": 0.23807374000549317}}}\u001b[0m\n",
      "\u001b[34m#metrics {\"StartTime\": 1635010127.5535123, \"EndTime\": 1635010127.5535285, \"Dimensions\": {\"Algorithm\": \"Linear Learner\", \"Host\": \"algo-1\", \"Operation\": \"training\", \"epoch\": 2, \"model\": 6}, \"Metrics\": {\"train_absolute_loss_objective\": {\"sum\": 0.26300133228302003, \"count\": 1, \"min\": 0.26300133228302003, \"max\": 0.26300133228302003}}}\u001b[0m\n",
      "\u001b[34m#metrics {\"StartTime\": 1635010127.5535808, \"EndTime\": 1635010127.553598, \"Dimensions\": {\"Algorithm\": \"Linear Learner\", \"Host\": \"algo-1\", \"Operation\": \"training\", \"epoch\": 2, \"model\": 7}, \"Metrics\": {\"train_absolute_loss_objective\": {\"sum\": 0.256346595287323, \"count\": 1, \"min\": 0.256346595287323, \"max\": 0.256346595287323}}}\u001b[0m\n",
      "\u001b[34m#metrics {\"StartTime\": 1635010127.5536728, \"EndTime\": 1635010127.5536904, \"Dimensions\": {\"Algorithm\": \"Linear Learner\", \"Host\": \"algo-1\", \"Operation\": \"training\", \"epoch\": 2, \"model\": 8}, \"Metrics\": {\"train_absolute_loss_objective\": {\"sum\": 0.9150851058959961, \"count\": 1, \"min\": 0.9150851058959961, \"max\": 0.9150851058959961}}}\u001b[0m\n",
      "\u001b[34m#metrics {\"StartTime\": 1635010127.553744, \"EndTime\": 1635010127.5537605, \"Dimensions\": {\"Algorithm\": \"Linear Learner\", \"Host\": \"algo-1\", \"Operation\": \"training\", \"epoch\": 2, \"model\": 9}, \"Metrics\": {\"train_absolute_loss_objective\": {\"sum\": 0.8474886035919189, \"count\": 1, \"min\": 0.8474886035919189, \"max\": 0.8474886035919189}}}\u001b[0m\n",
      "\u001b[34m#metrics {\"StartTime\": 1635010127.5538104, \"EndTime\": 1635010127.5538259, \"Dimensions\": {\"Algorithm\": \"Linear Learner\", \"Host\": \"algo-1\", \"Operation\": \"training\", \"epoch\": 2, \"model\": 10}, \"Metrics\": {\"train_absolute_loss_objective\": {\"sum\": 0.8542290306091309, \"count\": 1, \"min\": 0.8542290306091309, \"max\": 0.8542290306091309}}}\u001b[0m\n",
      "\u001b[34m#metrics {\"StartTime\": 1635010127.553878, \"EndTime\": 1635010127.5538938, \"Dimensions\": {\"Algorithm\": \"Linear Learner\", \"Host\": \"algo-1\", \"Operation\": \"training\", \"epoch\": 2, \"model\": 11}, \"Metrics\": {\"train_absolute_loss_objective\": {\"sum\": 0.8394239616394042, \"count\": 1, \"min\": 0.8394239616394042, \"max\": 0.8394239616394042}}}\u001b[0m\n",
      "\u001b[34m#metrics {\"StartTime\": 1635010127.5539455, \"EndTime\": 1635010127.5539606, \"Dimensions\": {\"Algorithm\": \"Linear Learner\", \"Host\": \"algo-1\", \"Operation\": \"training\", \"epoch\": 2, \"model\": 12}, \"Metrics\": {\"train_absolute_loss_objective\": {\"sum\": 0.23705979347229003, \"count\": 1, \"min\": 0.23705979347229003, \"max\": 0.23705979347229003}}}\u001b[0m\n",
      "\u001b[34m#metrics {\"StartTime\": 1635010127.5540192, \"EndTime\": 1635010127.5540354, \"Dimensions\": {\"Algorithm\": \"Linear Learner\", \"Host\": \"algo-1\", \"Operation\": \"training\", \"epoch\": 2, \"model\": 13}, \"Metrics\": {\"train_absolute_loss_objective\": {\"sum\": 0.33848570585250853, \"count\": 1, \"min\": 0.33848570585250853, \"max\": 0.33848570585250853}}}\u001b[0m\n",
      "\u001b[34m#metrics {\"StartTime\": 1635010127.5540874, \"EndTime\": 1635010127.5541036, \"Dimensions\": {\"Algorithm\": \"Linear Learner\", \"Host\": \"algo-1\", \"Operation\": \"training\", \"epoch\": 2, \"model\": 14}, \"Metrics\": {\"train_absolute_loss_objective\": {\"sum\": 0.23685868501663207, \"count\": 1, \"min\": 0.23685868501663207, \"max\": 0.23685868501663207}}}\u001b[0m\n",
      "\u001b[34m#metrics {\"StartTime\": 1635010127.5541534, \"EndTime\": 1635010127.55417, \"Dimensions\": {\"Algorithm\": \"Linear Learner\", \"Host\": \"algo-1\", \"Operation\": \"training\", \"epoch\": 2, \"model\": 15}, \"Metrics\": {\"train_absolute_loss_objective\": {\"sum\": 0.250642626285553, \"count\": 1, \"min\": 0.250642626285553, \"max\": 0.250642626285553}}}\u001b[0m\n",
      "\u001b[34m#metrics {\"StartTime\": 1635010127.554218, \"EndTime\": 1635010127.5542333, \"Dimensions\": {\"Algorithm\": \"Linear Learner\", \"Host\": \"algo-1\", \"Operation\": \"training\", \"epoch\": 2, \"model\": 16}, \"Metrics\": {\"train_absolute_loss_objective\": {\"sum\": 0.8197561454772949, \"count\": 1, \"min\": 0.8197561454772949, \"max\": 0.8197561454772949}}}\u001b[0m\n",
      "\u001b[34m#metrics {\"StartTime\": 1635010127.554277, \"EndTime\": 1635010127.554291, \"Dimensions\": {\"Algorithm\": \"Linear Learner\", \"Host\": \"algo-1\", \"Operation\": \"training\", \"epoch\": 2, \"model\": 17}, \"Metrics\": {\"train_absolute_loss_objective\": {\"sum\": 0.8746650695800782, \"count\": 1, \"min\": 0.8746650695800782, \"max\": 0.8746650695800782}}}\u001b[0m\n",
      "\u001b[34m#metrics {\"StartTime\": 1635010127.5543382, \"EndTime\": 1635010127.5543532, \"Dimensions\": {\"Algorithm\": \"Linear Learner\", \"Host\": \"algo-1\", \"Operation\": \"training\", \"epoch\": 2, \"model\": 18}, \"Metrics\": {\"train_absolute_loss_objective\": {\"sum\": 0.8507758617401123, \"count\": 1, \"min\": 0.8507758617401123, \"max\": 0.8507758617401123}}}\u001b[0m\n",
      "\u001b[34m#metrics {\"StartTime\": 1635010127.5543993, \"EndTime\": 1635010127.5544128, \"Dimensions\": {\"Algorithm\": \"Linear Learner\", \"Host\": \"algo-1\", \"Operation\": \"training\", \"epoch\": 2, \"model\": 19}, \"Metrics\": {\"train_absolute_loss_objective\": {\"sum\": 0.8480171775817871, \"count\": 1, \"min\": 0.8480171775817871, \"max\": 0.8480171775817871}}}\u001b[0m\n",
      "\u001b[34m#metrics {\"StartTime\": 1635010127.5544558, \"EndTime\": 1635010127.5544689, \"Dimensions\": {\"Algorithm\": \"Linear Learner\", \"Host\": \"algo-1\", \"Operation\": \"training\", \"epoch\": 2, \"model\": 20}, \"Metrics\": {\"train_absolute_loss_objective\": {\"sum\": 0.3040439939498901, \"count\": 1, \"min\": 0.3040439939498901, \"max\": 0.3040439939498901}}}\u001b[0m\n",
      "\u001b[34m#metrics {\"StartTime\": 1635010127.5545135, \"EndTime\": 1635010127.554527, \"Dimensions\": {\"Algorithm\": \"Linear Learner\", \"Host\": \"algo-1\", \"Operation\": \"training\", \"epoch\": 2, \"model\": 21}, \"Metrics\": {\"train_absolute_loss_objective\": {\"sum\": 0.3274744272232056, \"count\": 1, \"min\": 0.3274744272232056, \"max\": 0.3274744272232056}}}\u001b[0m\n",
      "\u001b[34m#metrics {\"StartTime\": 1635010127.554569, \"EndTime\": 1635010127.5545816, \"Dimensions\": {\"Algorithm\": \"Linear Learner\", \"Host\": \"algo-1\", \"Operation\": \"training\", \"epoch\": 2, \"model\": 22}, \"Metrics\": {\"train_absolute_loss_objective\": {\"sum\": 0.2977646970748901, \"count\": 1, \"min\": 0.2977646970748901, \"max\": 0.2977646970748901}}}\u001b[0m\n",
      "\u001b[34m#metrics {\"StartTime\": 1635010127.5546243, \"EndTime\": 1635010127.554638, \"Dimensions\": {\"Algorithm\": \"Linear Learner\", \"Host\": \"algo-1\", \"Operation\": \"training\", \"epoch\": 2, \"model\": 23}, \"Metrics\": {\"train_absolute_loss_objective\": {\"sum\": 0.33244104862213136, \"count\": 1, \"min\": 0.33244104862213136, \"max\": 0.33244104862213136}}}\u001b[0m\n",
      "\u001b[34m#metrics {\"StartTime\": 1635010127.554682, \"EndTime\": 1635010127.554697, \"Dimensions\": {\"Algorithm\": \"Linear Learner\", \"Host\": \"algo-1\", \"Operation\": \"training\", \"epoch\": 2, \"model\": 24}, \"Metrics\": {\"train_absolute_loss_objective\": {\"sum\": 0.9016923809051514, \"count\": 1, \"min\": 0.9016923809051514, \"max\": 0.9016923809051514}}}\u001b[0m\n",
      "\u001b[34m#metrics {\"StartTime\": 1635010127.5547416, \"EndTime\": 1635010127.5547545, \"Dimensions\": {\"Algorithm\": \"Linear Learner\", \"Host\": \"algo-1\", \"Operation\": \"training\", \"epoch\": 2, \"model\": 25}, \"Metrics\": {\"train_absolute_loss_objective\": {\"sum\": 0.9011731910705566, \"count\": 1, \"min\": 0.9011731910705566, \"max\": 0.9011731910705566}}}\u001b[0m\n",
      "\u001b[34m#metrics {\"StartTime\": 1635010127.5547962, \"EndTime\": 1635010127.5548089, \"Dimensions\": {\"Algorithm\": \"Linear Learner\", \"Host\": \"algo-1\", \"Operation\": \"training\", \"epoch\": 2, \"model\": 26}, \"Metrics\": {\"train_absolute_loss_objective\": {\"sum\": 0.9003927993774414, \"count\": 1, \"min\": 0.9003927993774414, \"max\": 0.9003927993774414}}}\u001b[0m\n",
      "\u001b[34m#metrics {\"StartTime\": 1635010127.5548527, \"EndTime\": 1635010127.5548656, \"Dimensions\": {\"Algorithm\": \"Linear Learner\", \"Host\": \"algo-1\", \"Operation\": \"training\", \"epoch\": 2, \"model\": 27}, \"Metrics\": {\"train_absolute_loss_objective\": {\"sum\": 0.9099575042724609, \"count\": 1, \"min\": 0.9099575042724609, \"max\": 0.9099575042724609}}}\u001b[0m\n",
      "\u001b[34m#metrics {\"StartTime\": 1635010127.5549126, \"EndTime\": 1635010127.5549262, \"Dimensions\": {\"Algorithm\": \"Linear Learner\", \"Host\": \"algo-1\", \"Operation\": \"training\", \"epoch\": 2, \"model\": 28}, \"Metrics\": {\"train_absolute_loss_objective\": {\"sum\": 0.9482294368743897, \"count\": 1, \"min\": 0.9482294368743897, \"max\": 0.9482294368743897}}}\u001b[0m\n",
      "\u001b[34m#metrics {\"StartTime\": 1635010127.5549703, \"EndTime\": 1635010127.5549834, \"Dimensions\": {\"Algorithm\": \"Linear Learner\", \"Host\": \"algo-1\", \"Operation\": \"training\", \"epoch\": 2, \"model\": 29}, \"Metrics\": {\"train_absolute_loss_objective\": {\"sum\": 0.9498935317993165, \"count\": 1, \"min\": 0.9498935317993165, \"max\": 0.9498935317993165}}}\u001b[0m\n",
      "\u001b[34m#metrics {\"StartTime\": 1635010127.5550294, \"EndTime\": 1635010127.5550447, \"Dimensions\": {\"Algorithm\": \"Linear Learner\", \"Host\": \"algo-1\", \"Operation\": \"training\", \"epoch\": 2, \"model\": 30}, \"Metrics\": {\"train_absolute_loss_objective\": {\"sum\": 0.9563449096679687, \"count\": 1, \"min\": 0.9563449096679687, \"max\": 0.9563449096679687}}}\u001b[0m\n",
      "\u001b[34m#metrics {\"StartTime\": 1635010127.5550928, \"EndTime\": 1635010127.5551085, \"Dimensions\": {\"Algorithm\": \"Linear Learner\", \"Host\": \"algo-1\", \"Operation\": \"training\", \"epoch\": 2, \"model\": 31}, \"Metrics\": {\"train_absolute_loss_objective\": {\"sum\": 0.9398866462707519, \"count\": 1, \"min\": 0.9398866462707519, \"max\": 0.9398866462707519}}}\u001b[0m\n",
      "\u001b[34m[10/23/2021 17:28:47 INFO 140582409557824] #quality_metric: host=algo-1, epoch=2, train absolute_loss_objective <loss>=0.8595255661010742\u001b[0m\n",
      "\u001b[34m[10/23/2021 17:28:47 INFO 140582409557824] #early_stopping_criteria_metric: host=algo-1, epoch=2, criteria=absolute_loss_objective, value=0.21156331300735473\u001b[0m\n",
      "\u001b[34m[10/23/2021 17:28:47 INFO 140582409557824] Epoch 2: Loss improved. Updating best model\u001b[0m\n",
      "\u001b[34m[10/23/2021 17:28:47 INFO 140582409557824] Saving model for epoch: 2\u001b[0m\n",
      "\u001b[34m[10/23/2021 17:28:47 INFO 140582409557824] Saved checkpoint to \"/tmp/tmpdo7uc5eh/mx-mod-0000.params\"\u001b[0m\n",
      "\u001b[34m[10/23/2021 17:28:47 INFO 140582409557824] #progress_metric: host=algo-1, completed 60.0 % of epochs\u001b[0m\n",
      "\u001b[34m#metrics {\"StartTime\": 1635010127.4652164, \"EndTime\": 1635010127.5644555, \"Dimensions\": {\"Algorithm\": \"Linear Learner\", \"Host\": \"algo-1\", \"Operation\": \"training\", \"epoch\": 2, \"Meta\": \"training_data_iter\"}, \"Metrics\": {\"Total Records Seen\": {\"sum\": 109.0, \"count\": 1, \"min\": 109, \"max\": 109}, \"Total Batches Seen\": {\"sum\": 25.0, \"count\": 1, \"min\": 25, \"max\": 25}, \"Max Records Seen Between Resets\": {\"sum\": 26.0, \"count\": 1, \"min\": 26, \"max\": 26}, \"Max Batches Seen Between Resets\": {\"sum\": 6.0, \"count\": 1, \"min\": 6, \"max\": 6}, \"Reset Count\": {\"sum\": 5.0, \"count\": 1, \"min\": 5, \"max\": 5}, \"Number of Records Since Last Reset\": {\"sum\": 26.0, \"count\": 1, \"min\": 26, \"max\": 26}, \"Number of Batches Since Last Reset\": {\"sum\": 6.0, \"count\": 1, \"min\": 6, \"max\": 6}}}\u001b[0m\n",
      "\u001b[34m[10/23/2021 17:28:47 INFO 140582409557824] #throughput_metric: host=algo-1, train throughput=261.64649428610505 records/second\u001b[0m\n",
      "\u001b[34m[2021-10-23 17:28:47.662] [tensorio] [info] epoch_stats={\"data_pipeline\": \"/opt/ml/input/data/train\", \"epoch\": 10, \"duration\": 97, \"num_examples\": 6, \"num_bytes\": 1248}\u001b[0m\n",
      "\u001b[34m#metrics {\"StartTime\": 1635010127.662766, \"EndTime\": 1635010127.6628351, \"Dimensions\": {\"Algorithm\": \"Linear Learner\", \"Host\": \"algo-1\", \"Operation\": \"training\", \"epoch\": 3, \"model\": 0}, \"Metrics\": {\"train_absolute_loss_objective\": {\"sum\": 0.8373278427124023, \"count\": 1, \"min\": 0.8373278427124023, \"max\": 0.8373278427124023}}}\u001b[0m\n",
      "\u001b[34m#metrics {\"StartTime\": 1635010127.6629019, \"EndTime\": 1635010127.6629205, \"Dimensions\": {\"Algorithm\": \"Linear Learner\", \"Host\": \"algo-1\", \"Operation\": \"training\", \"epoch\": 3, \"model\": 1}, \"Metrics\": {\"train_absolute_loss_objective\": {\"sum\": 0.8568088722229004, \"count\": 1, \"min\": 0.8568088722229004, \"max\": 0.8568088722229004}}}\u001b[0m\n",
      "\u001b[34m#metrics {\"StartTime\": 1635010127.662974, \"EndTime\": 1635010127.6629908, \"Dimensions\": {\"Algorithm\": \"Linear Learner\", \"Host\": \"algo-1\", \"Operation\": \"training\", \"epoch\": 3, \"model\": 2}, \"Metrics\": {\"train_absolute_loss_objective\": {\"sum\": 0.8397248077392578, \"count\": 1, \"min\": 0.8397248077392578, \"max\": 0.8397248077392578}}}\u001b[0m\n",
      "\u001b[34m#metrics {\"StartTime\": 1635010127.6630464, \"EndTime\": 1635010127.6630633, \"Dimensions\": {\"Algorithm\": \"Linear Learner\", \"Host\": \"algo-1\", \"Operation\": \"training\", \"epoch\": 3, \"model\": 3}, \"Metrics\": {\"train_absolute_loss_objective\": {\"sum\": 0.8557976341247558, \"count\": 1, \"min\": 0.8557976341247558, \"max\": 0.8557976341247558}}}\u001b[0m\n",
      "\u001b[34m#metrics {\"StartTime\": 1635010127.6631246, \"EndTime\": 1635010127.6631403, \"Dimensions\": {\"Algorithm\": \"Linear Learner\", \"Host\": \"algo-1\", \"Operation\": \"training\", \"epoch\": 3, \"model\": 4}, \"Metrics\": {\"train_absolute_loss_objective\": {\"sum\": 0.24390487432479857, \"count\": 1, \"min\": 0.24390487432479857, \"max\": 0.24390487432479857}}}\u001b[0m\n",
      "\u001b[34m#metrics {\"StartTime\": 1635010127.6631913, \"EndTime\": 1635010127.6632068, \"Dimensions\": {\"Algorithm\": \"Linear Learner\", \"Host\": \"algo-1\", \"Operation\": \"training\", \"epoch\": 3, \"model\": 5}, \"Metrics\": {\"train_absolute_loss_objective\": {\"sum\": 0.28116788387298586, \"count\": 1, \"min\": 0.28116788387298586, \"max\": 0.28116788387298586}}}\u001b[0m\n",
      "\u001b[34m#metrics {\"StartTime\": 1635010127.663259, \"EndTime\": 1635010127.6632748, \"Dimensions\": {\"Algorithm\": \"Linear Learner\", \"Host\": \"algo-1\", \"Operation\": \"training\", \"epoch\": 3, \"model\": 6}, \"Metrics\": {\"train_absolute_loss_objective\": {\"sum\": 0.3666059160232544, \"count\": 1, \"min\": 0.3666059160232544, \"max\": 0.3666059160232544}}}\u001b[0m\n",
      "\u001b[34m#metrics {\"StartTime\": 1635010127.6633258, \"EndTime\": 1635010127.6633408, \"Dimensions\": {\"Algorithm\": \"Linear Learner\", \"Host\": \"algo-1\", \"Operation\": \"training\", \"epoch\": 3, \"model\": 7}, \"Metrics\": {\"train_absolute_loss_objective\": {\"sum\": 0.3912452220916748, \"count\": 1, \"min\": 0.3912452220916748, \"max\": 0.3912452220916748}}}\u001b[0m\n",
      "\u001b[34m#metrics {\"StartTime\": 1635010127.6633873, \"EndTime\": 1635010127.6634018, \"Dimensions\": {\"Algorithm\": \"Linear Learner\", \"Host\": \"algo-1\", \"Operation\": \"training\", \"epoch\": 3, \"model\": 8}, \"Metrics\": {\"train_absolute_loss_objective\": {\"sum\": 0.8928892707824707, \"count\": 1, \"min\": 0.8928892707824707, \"max\": 0.8928892707824707}}}\u001b[0m\n",
      "\u001b[34m#metrics {\"StartTime\": 1635010127.6634517, \"EndTime\": 1635010127.6634667, \"Dimensions\": {\"Algorithm\": \"Linear Learner\", \"Host\": \"algo-1\", \"Operation\": \"training\", \"epoch\": 3, \"model\": 9}, \"Metrics\": {\"train_absolute_loss_objective\": {\"sum\": 0.8250696563720703, \"count\": 1, \"min\": 0.8250696563720703, \"max\": 0.8250696563720703}}}\u001b[0m\n",
      "\u001b[34m#metrics {\"StartTime\": 1635010127.6635191, \"EndTime\": 1635010127.6635363, \"Dimensions\": {\"Algorithm\": \"Linear Learner\", \"Host\": \"algo-1\", \"Operation\": \"training\", \"epoch\": 3, \"model\": 10}, \"Metrics\": {\"train_absolute_loss_objective\": {\"sum\": 0.8320341491699219, \"count\": 1, \"min\": 0.8320341491699219, \"max\": 0.8320341491699219}}}\u001b[0m\n",
      "\u001b[34m#metrics {\"StartTime\": 1635010127.663587, \"EndTime\": 1635010127.663602, \"Dimensions\": {\"Algorithm\": \"Linear Learner\", \"Host\": \"algo-1\", \"Operation\": \"training\", \"epoch\": 3, \"model\": 11}, \"Metrics\": {\"train_absolute_loss_objective\": {\"sum\": 0.8170051383972168, \"count\": 1, \"min\": 0.8170051383972168, \"max\": 0.8170051383972168}}}\u001b[0m\n",
      "\u001b[34m#metrics {\"StartTime\": 1635010127.6636493, \"EndTime\": 1635010127.6636643, \"Dimensions\": {\"Algorithm\": \"Linear Learner\", \"Host\": \"algo-1\", \"Operation\": \"training\", \"epoch\": 3, \"model\": 12}, \"Metrics\": {\"train_absolute_loss_objective\": {\"sum\": 0.27579302310943604, \"count\": 1, \"min\": 0.27579302310943604, \"max\": 0.27579302310943604}}}\u001b[0m\n",
      "\u001b[34m#metrics {\"StartTime\": 1635010127.6637208, \"EndTime\": 1635010127.6637387, \"Dimensions\": {\"Algorithm\": \"Linear Learner\", \"Host\": \"algo-1\", \"Operation\": \"training\", \"epoch\": 3, \"model\": 13}, \"Metrics\": {\"train_absolute_loss_objective\": {\"sum\": 0.33149555683135984, \"count\": 1, \"min\": 0.33149555683135984, \"max\": 0.33149555683135984}}}\u001b[0m\n",
      "\u001b[34m#metrics {\"StartTime\": 1635010127.6637895, \"EndTime\": 1635010127.6638064, \"Dimensions\": {\"Algorithm\": \"Linear Learner\", \"Host\": \"algo-1\", \"Operation\": \"training\", \"epoch\": 3, \"model\": 14}, \"Metrics\": {\"train_absolute_loss_objective\": {\"sum\": 0.27672170639038085, \"count\": 1, \"min\": 0.27672170639038085, \"max\": 0.27672170639038085}}}\u001b[0m\n",
      "\u001b[34m#metrics {\"StartTime\": 1635010127.6638637, \"EndTime\": 1635010127.6638796, \"Dimensions\": {\"Algorithm\": \"Linear Learner\", \"Host\": \"algo-1\", \"Operation\": \"training\", \"epoch\": 3, \"model\": 15}, \"Metrics\": {\"train_absolute_loss_objective\": {\"sum\": 0.36048418521881104, \"count\": 1, \"min\": 0.36048418521881104, \"max\": 0.36048418521881104}}}\u001b[0m\n",
      "\u001b[34m#metrics {\"StartTime\": 1635010127.6639414, \"EndTime\": 1635010127.663958, \"Dimensions\": {\"Algorithm\": \"Linear Learner\", \"Host\": \"algo-1\", \"Operation\": \"training\", \"epoch\": 3, \"model\": 16}, \"Metrics\": {\"train_absolute_loss_objective\": {\"sum\": 0.7974418354034424, \"count\": 1, \"min\": 0.7974418354034424, \"max\": 0.7974418354034424}}}\u001b[0m\n",
      "\u001b[34m#metrics {\"StartTime\": 1635010127.6640086, \"EndTime\": 1635010127.6640244, \"Dimensions\": {\"Algorithm\": \"Linear Learner\", \"Host\": \"algo-1\", \"Operation\": \"training\", \"epoch\": 3, \"model\": 17}, \"Metrics\": {\"train_absolute_loss_objective\": {\"sum\": 0.8525171089172363, \"count\": 1, \"min\": 0.8525171089172363, \"max\": 0.8525171089172363}}}\u001b[0m\n",
      "\u001b[34m#metrics {\"StartTime\": 1635010127.6640694, \"EndTime\": 1635010127.664083, \"Dimensions\": {\"Algorithm\": \"Linear Learner\", \"Host\": \"algo-1\", \"Operation\": \"training\", \"epoch\": 3, \"model\": 18}, \"Metrics\": {\"train_absolute_loss_objective\": {\"sum\": 0.8288985824584961, \"count\": 1, \"min\": 0.8288985824584961, \"max\": 0.8288985824584961}}}\u001b[0m\n",
      "\u001b[34m#metrics {\"StartTime\": 1635010127.6641176, \"EndTime\": 1635010127.6641264, \"Dimensions\": {\"Algorithm\": \"Linear Learner\", \"Host\": \"algo-1\", \"Operation\": \"training\", \"epoch\": 3, \"model\": 19}, \"Metrics\": {\"train_absolute_loss_objective\": {\"sum\": 0.8259256076812744, \"count\": 1, \"min\": 0.8259256076812744, \"max\": 0.8259256076812744}}}\u001b[0m\n",
      "\u001b[34m#metrics {\"StartTime\": 1635010127.66417, \"EndTime\": 1635010127.6641843, \"Dimensions\": {\"Algorithm\": \"Linear Learner\", \"Host\": \"algo-1\", \"Operation\": \"training\", \"epoch\": 3, \"model\": 20}, \"Metrics\": {\"train_absolute_loss_objective\": {\"sum\": 0.33352357864379883, \"count\": 1, \"min\": 0.33352357864379883, \"max\": 0.33352357864379883}}}\u001b[0m\n",
      "\u001b[34m#metrics {\"StartTime\": 1635010127.6642296, \"EndTime\": 1635010127.6642442, \"Dimensions\": {\"Algorithm\": \"Linear Learner\", \"Host\": \"algo-1\", \"Operation\": \"training\", \"epoch\": 3, \"model\": 21}, \"Metrics\": {\"train_absolute_loss_objective\": {\"sum\": 0.28049000263214113, \"count\": 1, \"min\": 0.28049000263214113, \"max\": 0.28049000263214113}}}\u001b[0m\n",
      "\u001b[34m#metrics {\"StartTime\": 1635010127.664279, \"EndTime\": 1635010127.6642876, \"Dimensions\": {\"Algorithm\": \"Linear Learner\", \"Host\": \"algo-1\", \"Operation\": \"training\", \"epoch\": 3, \"model\": 22}, \"Metrics\": {\"train_absolute_loss_objective\": {\"sum\": 0.3409471225738525, \"count\": 1, \"min\": 0.3409471225738525, \"max\": 0.3409471225738525}}}\u001b[0m\n",
      "\u001b[34m#metrics {\"StartTime\": 1635010127.664329, \"EndTime\": 1635010127.6643436, \"Dimensions\": {\"Algorithm\": \"Linear Learner\", \"Host\": \"algo-1\", \"Operation\": \"training\", \"epoch\": 3, \"model\": 23}, \"Metrics\": {\"train_absolute_loss_objective\": {\"sum\": 0.2780951261520386, \"count\": 1, \"min\": 0.2780951261520386, \"max\": 0.2780951261520386}}}\u001b[0m\n",
      "\u001b[34m#metrics {\"StartTime\": 1635010127.664399, \"EndTime\": 1635010127.664415, \"Dimensions\": {\"Algorithm\": \"Linear Learner\", \"Host\": \"algo-1\", \"Operation\": \"training\", \"epoch\": 3, \"model\": 24}, \"Metrics\": {\"train_absolute_loss_objective\": {\"sum\": 0.9157487869262695, \"count\": 1, \"min\": 0.9157487869262695, \"max\": 0.9157487869262695}}}\u001b[0m\n",
      "\u001b[34m#metrics {\"StartTime\": 1635010127.6644459, \"EndTime\": 1635010127.6644573, \"Dimensions\": {\"Algorithm\": \"Linear Learner\", \"Host\": \"algo-1\", \"Operation\": \"training\", \"epoch\": 3, \"model\": 25}, \"Metrics\": {\"train_absolute_loss_objective\": {\"sum\": 0.8962479209899903, \"count\": 1, \"min\": 0.8962479209899903, \"max\": 0.8962479209899903}}}\u001b[0m\n",
      "\u001b[34m#metrics {\"StartTime\": 1635010127.6644967, \"EndTime\": 1635010127.664511, \"Dimensions\": {\"Algorithm\": \"Linear Learner\", \"Host\": \"algo-1\", \"Operation\": \"training\", \"epoch\": 3, \"model\": 26}, \"Metrics\": {\"train_absolute_loss_objective\": {\"sum\": 0.9046572685241699, \"count\": 1, \"min\": 0.9046572685241699, \"max\": 0.9046572685241699}}}\u001b[0m\n",
      "\u001b[34m#metrics {\"StartTime\": 1635010127.6645565, \"EndTime\": 1635010127.6645713, \"Dimensions\": {\"Algorithm\": \"Linear Learner\", \"Host\": \"algo-1\", \"Operation\": \"training\", \"epoch\": 3, \"model\": 27}, \"Metrics\": {\"train_absolute_loss_objective\": {\"sum\": 0.9090092277526856, \"count\": 1, \"min\": 0.9090092277526856, \"max\": 0.9090092277526856}}}\u001b[0m\n",
      "\u001b[34m#metrics {\"StartTime\": 1635010127.6646197, \"EndTime\": 1635010127.6646318, \"Dimensions\": {\"Algorithm\": \"Linear Learner\", \"Host\": \"algo-1\", \"Operation\": \"training\", \"epoch\": 3, \"model\": 28}, \"Metrics\": {\"train_absolute_loss_objective\": {\"sum\": 0.9256574821472168, \"count\": 1, \"min\": 0.9256574821472168, \"max\": 0.9256574821472168}}}\u001b[0m\n",
      "\u001b[34m#metrics {\"StartTime\": 1635010127.6646729, \"EndTime\": 1635010127.6646874, \"Dimensions\": {\"Algorithm\": \"Linear Learner\", \"Host\": \"algo-1\", \"Operation\": \"training\", \"epoch\": 3, \"model\": 29}, \"Metrics\": {\"train_absolute_loss_objective\": {\"sum\": 0.9254492664337158, \"count\": 1, \"min\": 0.9254492664337158, \"max\": 0.9254492664337158}}}\u001b[0m\n",
      "\u001b[34m#metrics {\"StartTime\": 1635010127.664733, \"EndTime\": 1635010127.6647422, \"Dimensions\": {\"Algorithm\": \"Linear Learner\", \"Host\": \"algo-1\", \"Operation\": \"training\", \"epoch\": 3, \"model\": 30}, \"Metrics\": {\"train_absolute_loss_objective\": {\"sum\": 0.936222972869873, \"count\": 1, \"min\": 0.936222972869873, \"max\": 0.936222972869873}}}\u001b[0m\n",
      "\u001b[34m#metrics {\"StartTime\": 1635010127.6647773, \"EndTime\": 1635010127.6647902, \"Dimensions\": {\"Algorithm\": \"Linear Learner\", \"Host\": \"algo-1\", \"Operation\": \"training\", \"epoch\": 3, \"model\": 31}, \"Metrics\": {\"train_absolute_loss_objective\": {\"sum\": 0.9387659454345703, \"count\": 1, \"min\": 0.9387659454345703, \"max\": 0.9387659454345703}}}\u001b[0m\n",
      "\u001b[34m[10/23/2021 17:28:47 INFO 140582409557824] #quality_metric: host=algo-1, epoch=3, train absolute_loss_objective <loss>=0.8373278427124023\u001b[0m\n",
      "\u001b[34m[10/23/2021 17:28:47 INFO 140582409557824] #early_stopping_criteria_metric: host=algo-1, epoch=3, criteria=absolute_loss_objective, value=0.24390487432479857\u001b[0m\n",
      "\u001b[34m[10/23/2021 17:28:47 INFO 140582409557824] Saving model for epoch: 3\u001b[0m\n",
      "\u001b[34m[10/23/2021 17:28:47 INFO 140582409557824] Saved checkpoint to \"/tmp/tmpqbkk961y/mx-mod-0000.params\"\u001b[0m\n",
      "\u001b[34m[10/23/2021 17:28:47 INFO 140582409557824] #progress_metric: host=algo-1, completed 80.0 % of epochs\u001b[0m\n",
      "\u001b[34m#metrics {\"StartTime\": 1635010127.5646975, \"EndTime\": 1635010127.6742249, \"Dimensions\": {\"Algorithm\": \"Linear Learner\", \"Host\": \"algo-1\", \"Operation\": \"training\", \"epoch\": 3, \"Meta\": \"training_data_iter\"}, \"Metrics\": {\"Total Records Seen\": {\"sum\": 135.0, \"count\": 1, \"min\": 135, \"max\": 135}, \"Total Batches Seen\": {\"sum\": 31.0, \"count\": 1, \"min\": 31, \"max\": 31}, \"Max Records Seen Between Resets\": {\"sum\": 26.0, \"count\": 1, \"min\": 26, \"max\": 26}, \"Max Batches Seen Between Resets\": {\"sum\": 6.0, \"count\": 1, \"min\": 6, \"max\": 6}, \"Reset Count\": {\"sum\": 6.0, \"count\": 1, \"min\": 6, \"max\": 6}, \"Number of Records Since Last Reset\": {\"sum\": 26.0, \"count\": 1, \"min\": 26, \"max\": 26}, \"Number of Batches Since Last Reset\": {\"sum\": 6.0, \"count\": 1, \"min\": 6, \"max\": 6}}}\u001b[0m\n",
      "\u001b[34m[10/23/2021 17:28:47 INFO 140582409557824] #throughput_metric: host=algo-1, train throughput=237.10749990215817 records/second\u001b[0m\n",
      "\u001b[34m[2021-10-23 17:28:47.819] [tensorio] [info] epoch_stats={\"data_pipeline\": \"/opt/ml/input/data/train\", \"epoch\": 12, \"duration\": 145, \"num_examples\": 6, \"num_bytes\": 1248}\u001b[0m\n",
      "\u001b[34m#metrics {\"StartTime\": 1635010127.819863, \"EndTime\": 1635010127.8199701, \"Dimensions\": {\"Algorithm\": \"Linear Learner\", \"Host\": \"algo-1\", \"Operation\": \"training\", \"epoch\": 4, \"model\": 0}, \"Metrics\": {\"train_absolute_loss_objective\": {\"sum\": 0.815168628692627, \"count\": 1, \"min\": 0.815168628692627, \"max\": 0.815168628692627}}}\u001b[0m\n",
      "\u001b[34m#metrics {\"StartTime\": 1635010127.8200543, \"EndTime\": 1635010127.8201017, \"Dimensions\": {\"Algorithm\": \"Linear Learner\", \"Host\": \"algo-1\", \"Operation\": \"training\", \"epoch\": 4, \"model\": 1}, \"Metrics\": {\"train_absolute_loss_objective\": {\"sum\": 0.8343274688720703, \"count\": 1, \"min\": 0.8343274688720703, \"max\": 0.8343274688720703}}}\u001b[0m\n",
      "\u001b[34m#metrics {\"StartTime\": 1635010127.8201787, \"EndTime\": 1635010127.8201947, \"Dimensions\": {\"Algorithm\": \"Linear Learner\", \"Host\": \"algo-1\", \"Operation\": \"training\", \"epoch\": 4, \"model\": 2}, \"Metrics\": {\"train_absolute_loss_objective\": {\"sum\": 0.8175656509399414, \"count\": 1, \"min\": 0.8175656509399414, \"max\": 0.8175656509399414}}}\u001b[0m\n",
      "\u001b[34m#metrics {\"StartTime\": 1635010127.8202436, \"EndTime\": 1635010127.8202574, \"Dimensions\": {\"Algorithm\": \"Linear Learner\", \"Host\": \"algo-1\", \"Operation\": \"training\", \"epoch\": 4, \"model\": 3}, \"Metrics\": {\"train_absolute_loss_objective\": {\"sum\": 0.8333162212371826, \"count\": 1, \"min\": 0.8333162212371826, \"max\": 0.8333162212371826}}}\u001b[0m\n",
      "\u001b[34m#metrics {\"StartTime\": 1635010127.8203363, \"EndTime\": 1635010127.8203518, \"Dimensions\": {\"Algorithm\": \"Linear Learner\", \"Host\": \"algo-1\", \"Operation\": \"training\", \"epoch\": 4, \"model\": 4}, \"Metrics\": {\"train_absolute_loss_objective\": {\"sum\": 0.18748830795288085, \"count\": 1, \"min\": 0.18748830795288085, \"max\": 0.18748830795288085}}}\u001b[0m\n",
      "\u001b[34m#metrics {\"StartTime\": 1635010127.8203988, \"EndTime\": 1635010127.820412, \"Dimensions\": {\"Algorithm\": \"Linear Learner\", \"Host\": \"algo-1\", \"Operation\": \"training\", \"epoch\": 4, \"model\": 5}, \"Metrics\": {\"train_absolute_loss_objective\": {\"sum\": 0.23743778228759765, \"count\": 1, \"min\": 0.23743778228759765, \"max\": 0.23743778228759765}}}\u001b[0m\n",
      "\u001b[34m#metrics {\"StartTime\": 1635010127.820487, \"EndTime\": 1635010127.820502, \"Dimensions\": {\"Algorithm\": \"Linear Learner\", \"Host\": \"algo-1\", \"Operation\": \"training\", \"epoch\": 4, \"model\": 6}, \"Metrics\": {\"train_absolute_loss_objective\": {\"sum\": 0.4122838687896728, \"count\": 1, \"min\": 0.4122838687896728, \"max\": 0.4122838687896728}}}\u001b[0m\n",
      "\u001b[34m#metrics {\"StartTime\": 1635010127.820548, \"EndTime\": 1635010127.820561, \"Dimensions\": {\"Algorithm\": \"Linear Learner\", \"Host\": \"algo-1\", \"Operation\": \"training\", \"epoch\": 4, \"model\": 7}, \"Metrics\": {\"train_absolute_loss_objective\": {\"sum\": 0.4356958246231079, \"count\": 1, \"min\": 0.4356958246231079, \"max\": 0.4356958246231079}}}\u001b[0m\n",
      "\u001b[34m#metrics {\"StartTime\": 1635010127.820603, \"EndTime\": 1635010127.8206453, \"Dimensions\": {\"Algorithm\": \"Linear Learner\", \"Host\": \"algo-1\", \"Operation\": \"training\", \"epoch\": 4, \"model\": 8}, \"Metrics\": {\"train_absolute_loss_objective\": {\"sum\": 0.870733699798584, \"count\": 1, \"min\": 0.870733699798584, \"max\": 0.870733699798584}}}\u001b[0m\n",
      "\u001b[34m#metrics {\"StartTime\": 1635010127.8206954, \"EndTime\": 1635010127.8207085, \"Dimensions\": {\"Algorithm\": \"Linear Learner\", \"Host\": \"algo-1\", \"Operation\": \"training\", \"epoch\": 4, \"model\": 9}, \"Metrics\": {\"train_absolute_loss_objective\": {\"sum\": 0.8025930404663086, \"count\": 1, \"min\": 0.8025930404663086, \"max\": 0.8025930404663086}}}\u001b[0m\n",
      "\u001b[34m#metrics {\"StartTime\": 1635010127.8207524, \"EndTime\": 1635010127.820765, \"Dimensions\": {\"Algorithm\": \"Linear Learner\", \"Host\": \"algo-1\", \"Operation\": \"training\", \"epoch\": 4, \"model\": 10}, \"Metrics\": {\"train_absolute_loss_objective\": {\"sum\": 0.8098795223236084, \"count\": 1, \"min\": 0.8098795223236084, \"max\": 0.8098795223236084}}}\u001b[0m\n",
      "\u001b[34m#metrics {\"StartTime\": 1635010127.8208396, \"EndTime\": 1635010127.8208544, \"Dimensions\": {\"Algorithm\": \"Linear Learner\", \"Host\": \"algo-1\", \"Operation\": \"training\", \"epoch\": 4, \"model\": 11}, \"Metrics\": {\"train_absolute_loss_objective\": {\"sum\": 0.7945286464691163, \"count\": 1, \"min\": 0.7945286464691163, \"max\": 0.7945286464691163}}}\u001b[0m\n",
      "\u001b[34m#metrics {\"StartTime\": 1635010127.8208983, \"EndTime\": 1635010127.8209116, \"Dimensions\": {\"Algorithm\": \"Linear Learner\", \"Host\": \"algo-1\", \"Operation\": \"training\", \"epoch\": 4, \"model\": 12}, \"Metrics\": {\"train_absolute_loss_objective\": {\"sum\": 0.2835014772415161, \"count\": 1, \"min\": 0.2835014772415161, \"max\": 0.2835014772415161}}}\u001b[0m\n",
      "\u001b[34m#metrics {\"StartTime\": 1635010127.8210118, \"EndTime\": 1635010127.821029, \"Dimensions\": {\"Algorithm\": \"Linear Learner\", \"Host\": \"algo-1\", \"Operation\": \"training\", \"epoch\": 4, \"model\": 13}, \"Metrics\": {\"train_absolute_loss_objective\": {\"sum\": 0.33563376903533937, \"count\": 1, \"min\": 0.33563376903533937, \"max\": 0.33563376903533937}}}\u001b[0m\n",
      "\u001b[34m#metrics {\"StartTime\": 1635010127.8210773, \"EndTime\": 1635010127.8210905, \"Dimensions\": {\"Algorithm\": \"Linear Learner\", \"Host\": \"algo-1\", \"Operation\": \"training\", \"epoch\": 4, \"model\": 14}, \"Metrics\": {\"train_absolute_loss_objective\": {\"sum\": 0.2841763687133789, \"count\": 1, \"min\": 0.2841763687133789, \"max\": 0.2841763687133789}}}\u001b[0m\n",
      "\u001b[34m#metrics {\"StartTime\": 1635010127.8211432, \"EndTime\": 1635010127.8211863, \"Dimensions\": {\"Algorithm\": \"Linear Learner\", \"Host\": \"algo-1\", \"Operation\": \"training\", \"epoch\": 4, \"model\": 15}, \"Metrics\": {\"train_absolute_loss_objective\": {\"sum\": 0.4218597841262817, \"count\": 1, \"min\": 0.4218597841262817, \"max\": 0.4218597841262817}}}\u001b[0m\n",
      "\u001b[34m#metrics {\"StartTime\": 1635010127.8212388, \"EndTime\": 1635010127.821253, \"Dimensions\": {\"Algorithm\": \"Linear Learner\", \"Host\": \"algo-1\", \"Operation\": \"training\", \"epoch\": 4, \"model\": 16}, \"Metrics\": {\"train_absolute_loss_objective\": {\"sum\": 0.7806125831604004, \"count\": 1, \"min\": 0.7806125831604004, \"max\": 0.7806125831604004}}}\u001b[0m\n",
      "\u001b[34m#metrics {\"StartTime\": 1635010127.8212984, \"EndTime\": 1635010127.8213117, \"Dimensions\": {\"Algorithm\": \"Linear Learner\", \"Host\": \"algo-1\", \"Operation\": \"training\", \"epoch\": 4, \"model\": 17}, \"Metrics\": {\"train_absolute_loss_objective\": {\"sum\": 0.8305013847351074, \"count\": 1, \"min\": 0.8305013847351074, \"max\": 0.8305013847351074}}}\u001b[0m\n",
      "\u001b[34m#metrics {\"StartTime\": 1635010127.82139, \"EndTime\": 1635010127.8214042, \"Dimensions\": {\"Algorithm\": \"Linear Learner\", \"Host\": \"algo-1\", \"Operation\": \"training\", \"epoch\": 4, \"model\": 18}, \"Metrics\": {\"train_absolute_loss_objective\": {\"sum\": 0.8072533512115478, \"count\": 1, \"min\": 0.8072533512115478, \"max\": 0.8072533512115478}}}\u001b[0m\n",
      "\u001b[34m#metrics {\"StartTime\": 1635010127.8214486, \"EndTime\": 1635010127.821461, \"Dimensions\": {\"Algorithm\": \"Linear Learner\", \"Host\": \"algo-1\", \"Operation\": \"training\", \"epoch\": 4, \"model\": 19}, \"Metrics\": {\"train_absolute_loss_objective\": {\"sum\": 0.8039752769470215, \"count\": 1, \"min\": 0.8039752769470215, \"max\": 0.8039752769470215}}}\u001b[0m\n",
      "\u001b[34m#metrics {\"StartTime\": 1635010127.8215306, \"EndTime\": 1635010127.8215451, \"Dimensions\": {\"Algorithm\": \"Linear Learner\", \"Host\": \"algo-1\", \"Operation\": \"training\", \"epoch\": 4, \"model\": 20}, \"Metrics\": {\"train_absolute_loss_objective\": {\"sum\": 0.315344820022583, \"count\": 1, \"min\": 0.315344820022583, \"max\": 0.315344820022583}}}\u001b[0m\n",
      "\u001b[34m#metrics {\"StartTime\": 1635010127.8215892, \"EndTime\": 1635010127.8216019, \"Dimensions\": {\"Algorithm\": \"Linear Learner\", \"Host\": \"algo-1\", \"Operation\": \"training\", \"epoch\": 4, \"model\": 21}, \"Metrics\": {\"train_absolute_loss_objective\": {\"sum\": 0.2856241035461426, \"count\": 1, \"min\": 0.2856241035461426, \"max\": 0.2856241035461426}}}\u001b[0m\n",
      "\u001b[34m#metrics {\"StartTime\": 1635010127.8216782, \"EndTime\": 1635010127.8216963, \"Dimensions\": {\"Algorithm\": \"Linear Learner\", \"Host\": \"algo-1\", \"Operation\": \"training\", \"epoch\": 4, \"model\": 22}, \"Metrics\": {\"train_absolute_loss_objective\": {\"sum\": 0.3308944320678711, \"count\": 1, \"min\": 0.3308944320678711, \"max\": 0.3308944320678711}}}\u001b[0m\n",
      "\u001b[34m#metrics {\"StartTime\": 1635010127.821746, \"EndTime\": 1635010127.821759, \"Dimensions\": {\"Algorithm\": \"Linear Learner\", \"Host\": \"algo-1\", \"Operation\": \"training\", \"epoch\": 4, \"model\": 23}, \"Metrics\": {\"train_absolute_loss_objective\": {\"sum\": 0.2774046754837036, \"count\": 1, \"min\": 0.2774046754837036, \"max\": 0.2774046754837036}}}\u001b[0m\n",
      "\u001b[34m#metrics {\"StartTime\": 1635010127.8218017, \"EndTime\": 1635010127.8218145, \"Dimensions\": {\"Algorithm\": \"Linear Learner\", \"Host\": \"algo-1\", \"Operation\": \"training\", \"epoch\": 4, \"model\": 24}, \"Metrics\": {\"train_absolute_loss_objective\": {\"sum\": 0.9195314025878907, \"count\": 1, \"min\": 0.9195314025878907, \"max\": 0.9195314025878907}}}\u001b[0m\n",
      "\u001b[34m#metrics {\"StartTime\": 1635010127.8218913, \"EndTime\": 1635010127.8219051, \"Dimensions\": {\"Algorithm\": \"Linear Learner\", \"Host\": \"algo-1\", \"Operation\": \"training\", \"epoch\": 4, \"model\": 25}, \"Metrics\": {\"train_absolute_loss_objective\": {\"sum\": 0.8990006732940674, \"count\": 1, \"min\": 0.8990006732940674, \"max\": 0.8990006732940674}}}\u001b[0m\n",
      "\u001b[34m#metrics {\"StartTime\": 1635010127.821949, \"EndTime\": 1635010127.8219616, \"Dimensions\": {\"Algorithm\": \"Linear Learner\", \"Host\": \"algo-1\", \"Operation\": \"training\", \"epoch\": 4, \"model\": 26}, \"Metrics\": {\"train_absolute_loss_objective\": {\"sum\": 0.9085606861114502, \"count\": 1, \"min\": 0.9085606861114502, \"max\": 0.9085606861114502}}}\u001b[0m\n",
      "\u001b[34m#metrics {\"StartTime\": 1635010127.8220346, \"EndTime\": 1635010127.8220499, \"Dimensions\": {\"Algorithm\": \"Linear Learner\", \"Host\": \"algo-1\", \"Operation\": \"training\", \"epoch\": 4, \"model\": 27}, \"Metrics\": {\"train_absolute_loss_objective\": {\"sum\": 0.9036879253387451, \"count\": 1, \"min\": 0.9036879253387451, \"max\": 0.9036879253387451}}}\u001b[0m\n",
      "\u001b[34m#metrics {\"StartTime\": 1635010127.822123, \"EndTime\": 1635010127.8221374, \"Dimensions\": {\"Algorithm\": \"Linear Learner\", \"Host\": \"algo-1\", \"Operation\": \"training\", \"epoch\": 4, \"model\": 28}, \"Metrics\": {\"train_absolute_loss_objective\": {\"sum\": 0.8874158191680909, \"count\": 1, \"min\": 0.8874158191680909, \"max\": 0.8874158191680909}}}\u001b[0m\n",
      "\u001b[34m#metrics {\"StartTime\": 1635010127.8221817, \"EndTime\": 1635010127.8221943, \"Dimensions\": {\"Algorithm\": \"Linear Learner\", \"Host\": \"algo-1\", \"Operation\": \"training\", \"epoch\": 4, \"model\": 29}, \"Metrics\": {\"train_absolute_loss_objective\": {\"sum\": 0.8873437309265136, \"count\": 1, \"min\": 0.8873437309265136, \"max\": 0.8873437309265136}}}\u001b[0m\n",
      "\u001b[34m#metrics {\"StartTime\": 1635010127.8222687, \"EndTime\": 1635010127.8222833, \"Dimensions\": {\"Algorithm\": \"Linear Learner\", \"Host\": \"algo-1\", \"Operation\": \"training\", \"epoch\": 4, \"model\": 30}, \"Metrics\": {\"train_absolute_loss_objective\": {\"sum\": 0.8829119873046875, \"count\": 1, \"min\": 0.8829119873046875, \"max\": 0.8829119873046875}}}\u001b[0m\n",
      "\u001b[34m#metrics {\"StartTime\": 1635010127.822326, \"EndTime\": 1635010127.8223386, \"Dimensions\": {\"Algorithm\": \"Linear Learner\", \"Host\": \"algo-1\", \"Operation\": \"training\", \"epoch\": 4, \"model\": 31}, \"Metrics\": {\"train_absolute_loss_objective\": {\"sum\": 0.8762281799316406, \"count\": 1, \"min\": 0.8762281799316406, \"max\": 0.8762281799316406}}}\u001b[0m\n",
      "\u001b[34m[10/23/2021 17:28:47 INFO 140582409557824] #quality_metric: host=algo-1, epoch=4, train absolute_loss_objective <loss>=0.815168628692627\u001b[0m\n",
      "\u001b[34m[10/23/2021 17:28:47 INFO 140582409557824] #early_stopping_criteria_metric: host=algo-1, epoch=4, criteria=absolute_loss_objective, value=0.18748830795288085\u001b[0m\n",
      "\u001b[34m[10/23/2021 17:28:47 INFO 140582409557824] Epoch 4: Loss improved. Updating best model\u001b[0m\n",
      "\u001b[34m[10/23/2021 17:28:47 INFO 140582409557824] Saving model for epoch: 4\u001b[0m\n",
      "\u001b[34m[10/23/2021 17:28:47 INFO 140582409557824] Saved checkpoint to \"/tmp/tmp9rm78zjs/mx-mod-0000.params\"\u001b[0m\n",
      "\u001b[34m[10/23/2021 17:28:47 INFO 140582409557824] #progress_metric: host=algo-1, completed 100.0 % of epochs\u001b[0m\n",
      "\u001b[34m#metrics {\"StartTime\": 1635010127.674495, \"EndTime\": 1635010127.8356607, \"Dimensions\": {\"Algorithm\": \"Linear Learner\", \"Host\": \"algo-1\", \"Operation\": \"training\", \"epoch\": 4, \"Meta\": \"training_data_iter\"}, \"Metrics\": {\"Total Records Seen\": {\"sum\": 161.0, \"count\": 1, \"min\": 161, \"max\": 161}, \"Total Batches Seen\": {\"sum\": 37.0, \"count\": 1, \"min\": 37, \"max\": 37}, \"Max Records Seen Between Resets\": {\"sum\": 26.0, \"count\": 1, \"min\": 26, \"max\": 26}, \"Max Batches Seen Between Resets\": {\"sum\": 6.0, \"count\": 1, \"min\": 6, \"max\": 6}, \"Reset Count\": {\"sum\": 7.0, \"count\": 1, \"min\": 7, \"max\": 7}, \"Number of Records Since Last Reset\": {\"sum\": 26.0, \"count\": 1, \"min\": 26, \"max\": 26}, \"Number of Batches Since Last Reset\": {\"sum\": 6.0, \"count\": 1, \"min\": 6, \"max\": 6}}}\u001b[0m\n",
      "\u001b[34m[10/23/2021 17:28:47 INFO 140582409557824] #throughput_metric: host=algo-1, train throughput=161.18633435714307 records/second\u001b[0m\n",
      "\u001b[34m[10/23/2021 17:28:47 WARNING 140582409557824] wait_for_all_workers will not sync workers since the kv store is not running distributed\u001b[0m\n",
      "\u001b[34m[10/23/2021 17:28:47 WARNING 140582409557824] wait_for_all_workers will not sync workers since the kv store is not running distributed\u001b[0m\n",
      "\u001b[34m[2021-10-23 17:28:47.836] [tensorio] [info] epoch_stats={\"data_pipeline\": \"/opt/ml/input/data/train\", \"epoch\": 14, \"duration\": 0, \"num_examples\": 1, \"num_bytes\": 240}\u001b[0m\n",
      "\u001b[34m[2021-10-23 17:28:47.853] [tensorio] [info] epoch_stats={\"data_pipeline\": \"/opt/ml/input/data/train\", \"epoch\": 16, \"duration\": 13, \"num_examples\": 6, \"num_bytes\": 1248}\u001b[0m\n",
      "\u001b[34m[10/23/2021 17:28:47 INFO 140582409557824] #train_score (algo-1) : ('absolute_loss_objective', 6791.694110576923)\u001b[0m\n",
      "\u001b[34m[10/23/2021 17:28:47 INFO 140582409557824] #train_score (algo-1) : ('mse', 67250363.53846154)\u001b[0m\n",
      "\u001b[34m[10/23/2021 17:28:47 INFO 140582409557824] #train_score (algo-1) : ('absolute_loss', 6791.694110576923)\u001b[0m\n",
      "\u001b[34m[10/23/2021 17:28:47 INFO 140582409557824] #quality_metric: host=algo-1, train absolute_loss_objective <loss>=6791.694110576923\u001b[0m\n",
      "\u001b[34m[10/23/2021 17:28:47 INFO 140582409557824] #quality_metric: host=algo-1, train mse <loss>=67250363.53846154\u001b[0m\n",
      "\u001b[34m[10/23/2021 17:28:47 INFO 140582409557824] #quality_metric: host=algo-1, train absolute_loss <loss>=6791.694110576923\u001b[0m\n",
      "\u001b[34m[10/23/2021 17:28:47 INFO 140582409557824] Best model found for hyperparameters: {\"optimizer\": \"adam\", \"learning_rate\": 0.1, \"wd\": 0.0001, \"l1\": 0.0, \"lr_scheduler_step\": 10, \"lr_scheduler_factor\": 0.99, \"lr_scheduler_minimum_lr\": 1e-05}\u001b[0m\n",
      "\u001b[34m[10/23/2021 17:28:47 INFO 140582409557824] Saved checkpoint to \"/tmp/tmpmr0fjvrv/mx-mod-0000.params\"\u001b[0m\n",
      "\u001b[34m[10/23/2021 17:28:47 INFO 140582409557824] Test data is not provided.\u001b[0m\n",
      "\u001b[34m#metrics {\"StartTime\": 1635010127.048476, \"EndTime\": 1635010127.8605118, \"Dimensions\": {\"Algorithm\": \"Linear Learner\", \"Host\": \"algo-1\", \"Operation\": \"training\"}, \"Metrics\": {\"initialize.time\": {\"sum\": 175.26888847351074, \"count\": 1, \"min\": 175.26888847351074, \"max\": 175.26888847351074}, \"epochs\": {\"sum\": 5.0, \"count\": 1, \"min\": 5, \"max\": 5}, \"check_early_stopping.time\": {\"sum\": 4.397392272949219, \"count\": 5, \"min\": 0.1933574676513672, \"max\": 1.1572837829589844}, \"update.time\": {\"sum\": 590.7049179077148, \"count\": 5, \"min\": 96.98987007141113, \"max\": 157.06157684326172}, \"finalize.time\": {\"sum\": 18.112659454345703, \"count\": 1, \"min\": 18.112659454345703, \"max\": 18.112659454345703}, \"setuptime\": {\"sum\": 23.323535919189453, \"count\": 1, \"min\": 23.323535919189453, \"max\": 23.323535919189453}, \"totaltime\": {\"sum\": 1045.515775680542, \"count\": 1, \"min\": 1045.515775680542, \"max\": 1045.515775680542}}}\u001b[0m\n",
      "\n",
      "2021-10-23 17:29:01 Uploading - Uploading generated training model\n",
      "2021-10-23 17:29:01 Completed - Training job completed\n",
      "Training seconds: 56\n",
      "Billable seconds: 11\n",
      "Managed Spot Training savings: 80.4%\n"
     ]
    }
   ],
   "source": [
    "linear = sagemaker.estimator.Estimator(container,\n",
    "                                       role, \n",
    "                                       instance_count = 1, \n",
    "                                       instance_type = 'ml.c4.xlarge',\n",
    "                                       output_path = output_location,\n",
    "                                       sagemaker_session = sagemaker_session,\n",
    "                                       use_spot_instances = True,\n",
    "                                       max_run = 300,\n",
    "                                       max_wait = 600\n",
    "                                      )\n",
    "\n",
    "\n",
    "# We can tune parameters like the number of features that we are passing in, type of predictor like 'regressor' or 'classifier', mini batch size, epochs\n",
    "# Train 32 different versions of the model and will get the best out of them (built-in parameters optimization!)\n",
    "\n",
    "linear.set_hyperparameters(feature_dim = 1,\n",
    "                           predictor_type = 'regressor',\n",
    "                           mini_batch_size = 5,\n",
    "                           epochs = 5,\n",
    "                           num_models = 32,\n",
    "                           loss = 'absolute_loss')\n",
    "\n",
    "# Now we are ready to pass in the training data from S3 to train the linear learner model\n",
    "\n",
    "linear.fit({'train': s3_train_data})\n",
    "\n",
    "# Let's see the progress using cloudwatch logs"
   ]
  },
  {
   "cell_type": "markdown",
   "metadata": {},
   "source": [
    "# TASK #8: DEPLOY AND TEST THE TRAINED LINEAR LEARNER MODEL "
   ]
  },
  {
   "cell_type": "code",
   "execution_count": 69,
   "metadata": {},
   "outputs": [
    {
     "name": "stdout",
     "output_type": "stream",
     "text": [
      "------!"
     ]
    }
   ],
   "source": [
    "# Deploying the model to perform inference \n",
    "\n",
    "linear_regressor = linear.deploy(initial_instance_count = 1,\n",
    "                                          instance_type = 'ml.m4.xlarge')"
   ]
  },
  {
   "cell_type": "code",
   "execution_count": 70,
   "metadata": {},
   "outputs": [],
   "source": [
    "# from sagemaker.predictor import csv_serializer, json_deserializer\n",
    "from sagemaker.deserializers import JSONDeserializer\n",
    "from sagemaker.serializers import CSVSerializer\n",
    "\n",
    "# Content type overrides the data that will be passed to the deployed model, since the deployed model expects data in text/csv format.\n",
    "\n",
    "# Serializer accepts a single argument, the input data, and returns a sequence of bytes in the specified content type\n",
    "\n",
    "# Deserializer accepts two arguments, the result data and the response content type, and return a sequence of bytes in the specified content type.\n",
    "\n",
    "# Reference: https://sagemaker.readthedocs.io/en/stable/predictors.html\n",
    "\n",
    "# linear_regressor.content_type = 'text/csv'\n",
    "# linear_regressor.serializer = csv_serializer\n",
    "# linear_regressor.deserializer = json_deserializer\n",
    "linear_regressor.serializer = CSVSerializer()\n",
    "linear_regressor.deserializer = JSONDeserializer()"
   ]
  },
  {
   "cell_type": "code",
   "execution_count": 71,
   "metadata": {},
   "outputs": [],
   "source": [
    "# making prediction on the test data\n",
    "\n",
    "result = linear_regressor.predict(X_test)"
   ]
  },
  {
   "cell_type": "code",
   "execution_count": 72,
   "metadata": {},
   "outputs": [
    {
     "data": {
      "text/plain": [
       "{'predictions': [{'score': 65307.94140625},\n",
       "  {'score': 32873.81640625},\n",
       "  {'score': 107652.5},\n",
       "  {'score': 57199.41015625},\n",
       "  {'score': 95039.21875},\n",
       "  {'score': 85128.796875},\n",
       "  {'score': 57199.41015625},\n",
       "  {'score': 142789.453125},\n",
       "  {'score': 40982.3515625}]}"
      ]
     },
     "execution_count": 72,
     "metadata": {},
     "output_type": "execute_result"
    }
   ],
   "source": [
    "result # results are in Json format"
   ]
  },
  {
   "cell_type": "code",
   "execution_count": 73,
   "metadata": {},
   "outputs": [],
   "source": [
    "# Since the result is in json format, we access the scores by iterating through the scores in the predictions\n",
    "\n",
    "predictions = np.array([r['score'] for r in result['predictions']])"
   ]
  },
  {
   "cell_type": "code",
   "execution_count": 74,
   "metadata": {},
   "outputs": [
    {
     "data": {
      "text/plain": [
       "array([ 65307.94140625,  32873.81640625, 107652.5       ,  57199.41015625,\n",
       "        95039.21875   ,  85128.796875  ,  57199.41015625, 142789.453125  ,\n",
       "        40982.3515625 ])"
      ]
     },
     "execution_count": 74,
     "metadata": {},
     "output_type": "execute_result"
    }
   ],
   "source": [
    "predictions"
   ]
  },
  {
   "cell_type": "code",
   "execution_count": 75,
   "metadata": {
    "scrolled": true
   },
   "outputs": [
    {
     "data": {
      "text/plain": [
       "(9,)"
      ]
     },
     "execution_count": 75,
     "metadata": {},
     "output_type": "execute_result"
    }
   ],
   "source": [
    "predictions.shape"
   ]
  },
  {
   "cell_type": "code",
   "execution_count": 76,
   "metadata": {},
   "outputs": [
    {
     "data": {
      "text/plain": [
       "Text(0.5, 1.0, 'Salary vs. Years of Experience')"
      ]
     },
     "execution_count": 76,
     "metadata": {},
     "output_type": "execute_result"
    },
    {
     "data": {
      "image/png": "[encoded data removed]",
      "text/plain": [
       "<Figure size 432x288 with 1 Axes>"
      ]
     },
     "metadata": {
      "needs_background": "light"
     },
     "output_type": "display_data"
    }
   ],
   "source": [
    "# VISUALIZE TEST SET RESULTS\n",
    "plt.scatter(X_test, y_test, color = 'gray')\n",
    "plt.plot(X_test, predictions, color = 'red')\n",
    "plt.xlabel('Years of Experience (Testing Dataset)')\n",
    "plt.ylabel('salary')\n",
    "plt.title('Salary vs. Years of Experience')"
   ]
  },
  {
   "cell_type": "code",
   "execution_count": 77,
   "metadata": {},
   "outputs": [],
   "source": [
    "# Delete the end-point\n",
    "\n",
    "linear_regressor.delete_endpoint()"
   ]
  },
  {
   "cell_type": "markdown",
   "metadata": {},
   "source": [
    "Must run \"linear_regressor.delete_endpoint()\" so that we dont face the cost of running the regressor."
   ]
  }
 ],
 "metadata": {
  "colab": {
   "collapsed_sections": [],
   "name": "Graduate_Admission_Prediction.ipynb",
   "provenance": [],
   "toc_visible": true
  },
  "instance_type": "ml.t3.medium",
  "kernelspec": {
   "display_name": "Python 3 (Data Science)",
   "language": "python",
   "name": "python3__SAGEMAKER_INTERNAL__arn:aws:sagemaker:us-east-2:429704687514:image/datascience-1.0"
  },
  "language_info": {
   "codemirror_mode": {
    "name": "ipython",
    "version": 3
   },
   "file_extension": ".py",
   "mimetype": "text/x-python",
   "name": "python",
   "nbconvert_exporter": "python",
   "pygments_lexer": "ipython3",
   "version": "3.7.10"
  }
 },
 "nbformat": 4,
 "nbformat_minor": 4
}
